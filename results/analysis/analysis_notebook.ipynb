{
 "cells": [
  {
   "cell_type": "code",
   "execution_count": 1,
   "metadata": {},
   "outputs": [],
   "source": [
    "import plotly.express as px\n",
    "import pandas as pd\n",
    "import numpy as np\n",
    "\n",
    "from analysis_utils import get_success_rate_vs_num_attempts, get_bin_width_mean_error, scatter_num_attempts, scatter_with_error_bands"
   ]
  },
  {
   "cell_type": "code",
   "execution_count": 2,
   "metadata": {},
   "outputs": [
    {
     "data": {
      "text/html": [
       "<div>\n",
       "<style scoped>\n",
       "    .dataframe tbody tr th:only-of-type {\n",
       "        vertical-align: middle;\n",
       "    }\n",
       "\n",
       "    .dataframe tbody tr th {\n",
       "        vertical-align: top;\n",
       "    }\n",
       "\n",
       "    .dataframe thead th {\n",
       "        text-align: right;\n",
       "    }\n",
       "</style>\n",
       "<table border=\"1\" class=\"dataframe\">\n",
       "  <thead>\n",
       "    <tr style=\"text-align: right;\">\n",
       "      <th></th>\n",
       "      <th>test_ID</th>\n",
       "      <th>test_file</th>\n",
       "      <th>has_requires</th>\n",
       "      <th>has_ensures</th>\n",
       "      <th>#_char</th>\n",
       "      <th>#_hint_char</th>\n",
       "      <th>#_lemma</th>\n",
       "      <th>#_function</th>\n",
       "      <th>#_method</th>\n",
       "      <th>verifies_without_hints</th>\n",
       "    </tr>\n",
       "  </thead>\n",
       "  <tbody>\n",
       "    <tr>\n",
       "      <th>0</th>\n",
       "      <td>0</td>\n",
       "      <td>630-dafny_tmp_tmpz2kokaiq_Solution.dfy</td>\n",
       "      <td>True</td>\n",
       "      <td>True</td>\n",
       "      <td>781</td>\n",
       "      <td>89</td>\n",
       "      <td>0</td>\n",
       "      <td>1</td>\n",
       "      <td>1</td>\n",
       "      <td>False</td>\n",
       "    </tr>\n",
       "    <tr>\n",
       "      <th>1</th>\n",
       "      <td>1</td>\n",
       "      <td>703FinalProject_tmp_tmpr_10rn4z_DP-GD.dfy</td>\n",
       "      <td>True</td>\n",
       "      <td>False</td>\n",
       "      <td>1452</td>\n",
       "      <td>231</td>\n",
       "      <td>0</td>\n",
       "      <td>0</td>\n",
       "      <td>1</td>\n",
       "      <td>True</td>\n",
       "    </tr>\n",
       "    <tr>\n",
       "      <th>2</th>\n",
       "      <td>2</td>\n",
       "      <td>703FinalProject_tmp_tmpr_10rn4z_gaussian.dfy</td>\n",
       "      <td>True</td>\n",
       "      <td>False</td>\n",
       "      <td>1028</td>\n",
       "      <td>274</td>\n",
       "      <td>0</td>\n",
       "      <td>1</td>\n",
       "      <td>1</td>\n",
       "      <td>True</td>\n",
       "    </tr>\n",
       "    <tr>\n",
       "      <th>3</th>\n",
       "      <td>3</td>\n",
       "      <td>AssertivePrograming_tmp_tmpwf43uz0e_DivMode_Un...</td>\n",
       "      <td>True</td>\n",
       "      <td>True</td>\n",
       "      <td>9500</td>\n",
       "      <td>1745</td>\n",
       "      <td>14</td>\n",
       "      <td>7</td>\n",
       "      <td>3</td>\n",
       "      <td>False</td>\n",
       "    </tr>\n",
       "    <tr>\n",
       "      <th>4</th>\n",
       "      <td>4</td>\n",
       "      <td>AssertivePrograming_tmp_tmpwf43uz0e_Find_Subst...</td>\n",
       "      <td>True</td>\n",
       "      <td>True</td>\n",
       "      <td>10254</td>\n",
       "      <td>3595</td>\n",
       "      <td>5</td>\n",
       "      <td>0</td>\n",
       "      <td>2</td>\n",
       "      <td>False</td>\n",
       "    </tr>\n",
       "    <tr>\n",
       "      <th>...</th>\n",
       "      <td>...</td>\n",
       "      <td>...</td>\n",
       "      <td>...</td>\n",
       "      <td>...</td>\n",
       "      <td>...</td>\n",
       "      <td>...</td>\n",
       "      <td>...</td>\n",
       "      <td>...</td>\n",
       "      <td>...</td>\n",
       "      <td>...</td>\n",
       "    </tr>\n",
       "    <tr>\n",
       "      <th>777</th>\n",
       "      <td>777</td>\n",
       "      <td>verified-using-dafny_tmp_tmp7jatpjyn_longestZe...</td>\n",
       "      <td>True</td>\n",
       "      <td>True</td>\n",
       "      <td>2274</td>\n",
       "      <td>652</td>\n",
       "      <td>0</td>\n",
       "      <td>1</td>\n",
       "      <td>2</td>\n",
       "      <td>False</td>\n",
       "    </tr>\n",
       "    <tr>\n",
       "      <th>778</th>\n",
       "      <td>778</td>\n",
       "      <td>vfag_tmp_tmpc29dxm1j_Verificacion_torneo.dfy</td>\n",
       "      <td>True</td>\n",
       "      <td>True</td>\n",
       "      <td>8315</td>\n",
       "      <td>6019</td>\n",
       "      <td>0</td>\n",
       "      <td>0</td>\n",
       "      <td>1</td>\n",
       "      <td>True</td>\n",
       "    </tr>\n",
       "    <tr>\n",
       "      <th>779</th>\n",
       "      <td>779</td>\n",
       "      <td>vfag_tmp_tmpc29dxm1j_mergesort.dfy</td>\n",
       "      <td>True</td>\n",
       "      <td>False</td>\n",
       "      <td>2528</td>\n",
       "      <td>239</td>\n",
       "      <td>0</td>\n",
       "      <td>0</td>\n",
       "      <td>3</td>\n",
       "      <td>False</td>\n",
       "    </tr>\n",
       "    <tr>\n",
       "      <th>780</th>\n",
       "      <td>780</td>\n",
       "      <td>vfag_tmp_tmpc29dxm1j_sumar_componentes.dfy</td>\n",
       "      <td>True</td>\n",
       "      <td>True</td>\n",
       "      <td>1507</td>\n",
       "      <td>779</td>\n",
       "      <td>0</td>\n",
       "      <td>1</td>\n",
       "      <td>1</td>\n",
       "      <td>False</td>\n",
       "    </tr>\n",
       "    <tr>\n",
       "      <th>781</th>\n",
       "      <td>781</td>\n",
       "      <td>vmware-verification-2023_tmp_tmpoou5u54i_demos...</td>\n",
       "      <td>True</td>\n",
       "      <td>True</td>\n",
       "      <td>5084</td>\n",
       "      <td>299</td>\n",
       "      <td>3</td>\n",
       "      <td>2</td>\n",
       "      <td>0</td>\n",
       "      <td>False</td>\n",
       "    </tr>\n",
       "  </tbody>\n",
       "</table>\n",
       "<p>782 rows × 10 columns</p>\n",
       "</div>"
      ],
      "text/plain": [
       "     test_ID                                          test_file  has_requires  \\\n",
       "0          0             630-dafny_tmp_tmpz2kokaiq_Solution.dfy          True   \n",
       "1          1          703FinalProject_tmp_tmpr_10rn4z_DP-GD.dfy          True   \n",
       "2          2       703FinalProject_tmp_tmpr_10rn4z_gaussian.dfy          True   \n",
       "3          3  AssertivePrograming_tmp_tmpwf43uz0e_DivMode_Un...          True   \n",
       "4          4  AssertivePrograming_tmp_tmpwf43uz0e_Find_Subst...          True   \n",
       "..       ...                                                ...           ...   \n",
       "777      777  verified-using-dafny_tmp_tmp7jatpjyn_longestZe...          True   \n",
       "778      778       vfag_tmp_tmpc29dxm1j_Verificacion_torneo.dfy          True   \n",
       "779      779                 vfag_tmp_tmpc29dxm1j_mergesort.dfy          True   \n",
       "780      780         vfag_tmp_tmpc29dxm1j_sumar_componentes.dfy          True   \n",
       "781      781  vmware-verification-2023_tmp_tmpoou5u54i_demos...          True   \n",
       "\n",
       "     has_ensures  #_char  #_hint_char  #_lemma  #_function  #_method  \\\n",
       "0           True     781           89        0           1         1   \n",
       "1          False    1452          231        0           0         1   \n",
       "2          False    1028          274        0           1         1   \n",
       "3           True    9500         1745       14           7         3   \n",
       "4           True   10254         3595        5           0         2   \n",
       "..           ...     ...          ...      ...         ...       ...   \n",
       "777         True    2274          652        0           1         2   \n",
       "778         True    8315         6019        0           0         1   \n",
       "779        False    2528          239        0           0         3   \n",
       "780         True    1507          779        0           1         1   \n",
       "781         True    5084          299        3           2         0   \n",
       "\n",
       "     verifies_without_hints  \n",
       "0                     False  \n",
       "1                      True  \n",
       "2                      True  \n",
       "3                     False  \n",
       "4                     False  \n",
       "..                      ...  \n",
       "777                   False  \n",
       "778                    True  \n",
       "779                   False  \n",
       "780                   False  \n",
       "781                   False  \n",
       "\n",
       "[782 rows x 10 columns]"
      ]
     },
     "execution_count": 2,
     "metadata": {},
     "output_type": "execute_result"
    }
   ],
   "source": [
    "metadata_df = pd.read_csv(\"../../DafnyBench/metadata/ground_truth_metadata.csv\")\n",
    "metadata_df"
   ]
  },
  {
   "cell_type": "code",
   "execution_count": 3,
   "metadata": {},
   "outputs": [],
   "source": [
    "gpt4o_num_attempts_mean, gpt4o_num_attempts_error = get_success_rate_vs_num_attempts(\"gpt-4o\")\n",
    "gpt4_num_attempts_mean, gpt4_num_attempts_error = get_success_rate_vs_num_attempts(\"gpt-4-turbo\")\n",
    "gpt35_num_attempts_mean, gpt35_num_attempts_error = get_success_rate_vs_num_attempts(\"gpt-3.5-turbo\")\n",
    "claude3_num_attempts_mean, claude3_num_attempts_error = get_success_rate_vs_num_attempts(\"claude-3-opus\")\n",
    "codellama_num_attempts_mean, codellama_num_attempts_error = get_success_rate_vs_num_attempts(\"CodeLlama-7b-Instruct-hf\")"
   ]
  },
  {
   "cell_type": "code",
   "execution_count": 4,
   "metadata": {},
   "outputs": [
    {
     "data": {
      "text/html": [
       "<div>\n",
       "<style scoped>\n",
       "    .dataframe tbody tr th:only-of-type {\n",
       "        vertical-align: middle;\n",
       "    }\n",
       "\n",
       "    .dataframe tbody tr th {\n",
       "        vertical-align: top;\n",
       "    }\n",
       "\n",
       "    .dataframe thead th {\n",
       "        text-align: right;\n",
       "    }\n",
       "</style>\n",
       "<table border=\"1\" class=\"dataframe\">\n",
       "  <thead>\n",
       "    <tr style=\"text-align: right;\">\n",
       "      <th></th>\n",
       "      <th>Model</th>\n",
       "      <th># of attempts given</th>\n",
       "      <th>Success rate</th>\n",
       "      <th>Error</th>\n",
       "    </tr>\n",
       "  </thead>\n",
       "  <tbody>\n",
       "    <tr>\n",
       "      <th>0</th>\n",
       "      <td>GPT-4o</td>\n",
       "      <td>0</td>\n",
       "      <td>0.265985</td>\n",
       "      <td>0.015801</td>\n",
       "    </tr>\n",
       "    <tr>\n",
       "      <th>1</th>\n",
       "      <td>GPT-4o</td>\n",
       "      <td>1</td>\n",
       "      <td>0.546036</td>\n",
       "      <td>0.017804</td>\n",
       "    </tr>\n",
       "    <tr>\n",
       "      <th>2</th>\n",
       "      <td>GPT-4o</td>\n",
       "      <td>2</td>\n",
       "      <td>0.581841</td>\n",
       "      <td>0.017639</td>\n",
       "    </tr>\n",
       "    <tr>\n",
       "      <th>3</th>\n",
       "      <td>GPT-4o</td>\n",
       "      <td>3</td>\n",
       "      <td>0.603581</td>\n",
       "      <td>0.017492</td>\n",
       "    </tr>\n",
       "    <tr>\n",
       "      <th>4</th>\n",
       "      <td>GPT-4o</td>\n",
       "      <td>4</td>\n",
       "      <td>0.611253</td>\n",
       "      <td>0.017432</td>\n",
       "    </tr>\n",
       "    <tr>\n",
       "      <th>5</th>\n",
       "      <td>GPT-4o</td>\n",
       "      <td>5</td>\n",
       "      <td>0.612532</td>\n",
       "      <td>0.017421</td>\n",
       "    </tr>\n",
       "    <tr>\n",
       "      <th>6</th>\n",
       "      <td>GPT-4o</td>\n",
       "      <td>6</td>\n",
       "      <td>0.615090</td>\n",
       "      <td>0.017400</td>\n",
       "    </tr>\n",
       "    <tr>\n",
       "      <th>7</th>\n",
       "      <td>GPT-4o</td>\n",
       "      <td>7</td>\n",
       "      <td>0.618926</td>\n",
       "      <td>0.017367</td>\n",
       "    </tr>\n",
       "    <tr>\n",
       "      <th>8</th>\n",
       "      <td>GPT-4o</td>\n",
       "      <td>8</td>\n",
       "      <td>0.622762</td>\n",
       "      <td>0.017333</td>\n",
       "    </tr>\n",
       "    <tr>\n",
       "      <th>9</th>\n",
       "      <td>GPT-4o</td>\n",
       "      <td>9</td>\n",
       "      <td>0.624041</td>\n",
       "      <td>0.017321</td>\n",
       "    </tr>\n",
       "    <tr>\n",
       "      <th>10</th>\n",
       "      <td>GPT-4o</td>\n",
       "      <td>10</td>\n",
       "      <td>0.626598</td>\n",
       "      <td>0.017297</td>\n",
       "    </tr>\n",
       "    <tr>\n",
       "      <th>11</th>\n",
       "      <td>GPT-4-turbo</td>\n",
       "      <td>0</td>\n",
       "      <td>0.265985</td>\n",
       "      <td>0.015801</td>\n",
       "    </tr>\n",
       "    <tr>\n",
       "      <th>12</th>\n",
       "      <td>GPT-4-turbo</td>\n",
       "      <td>1</td>\n",
       "      <td>0.525575</td>\n",
       "      <td>0.017857</td>\n",
       "    </tr>\n",
       "    <tr>\n",
       "      <th>13</th>\n",
       "      <td>GPT-4-turbo</td>\n",
       "      <td>2</td>\n",
       "      <td>0.567775</td>\n",
       "      <td>0.017715</td>\n",
       "    </tr>\n",
       "    <tr>\n",
       "      <th>14</th>\n",
       "      <td>GPT-4-turbo</td>\n",
       "      <td>3</td>\n",
       "      <td>0.583120</td>\n",
       "      <td>0.017631</td>\n",
       "    </tr>\n",
       "    <tr>\n",
       "      <th>15</th>\n",
       "      <td>GPT-4-turbo</td>\n",
       "      <td>4</td>\n",
       "      <td>0.590793</td>\n",
       "      <td>0.017583</td>\n",
       "    </tr>\n",
       "    <tr>\n",
       "      <th>16</th>\n",
       "      <td>GPT-4-turbo</td>\n",
       "      <td>5</td>\n",
       "      <td>0.599744</td>\n",
       "      <td>0.017521</td>\n",
       "    </tr>\n",
       "    <tr>\n",
       "      <th>17</th>\n",
       "      <td>GPT-4-turbo</td>\n",
       "      <td>6</td>\n",
       "      <td>0.604859</td>\n",
       "      <td>0.017482</td>\n",
       "    </tr>\n",
       "    <tr>\n",
       "      <th>18</th>\n",
       "      <td>GPT-4-turbo</td>\n",
       "      <td>7</td>\n",
       "      <td>0.608696</td>\n",
       "      <td>0.017452</td>\n",
       "    </tr>\n",
       "    <tr>\n",
       "      <th>19</th>\n",
       "      <td>GPT-4-turbo</td>\n",
       "      <td>8</td>\n",
       "      <td>0.611253</td>\n",
       "      <td>0.017432</td>\n",
       "    </tr>\n",
       "    <tr>\n",
       "      <th>20</th>\n",
       "      <td>GPT-4-turbo</td>\n",
       "      <td>9</td>\n",
       "      <td>0.613811</td>\n",
       "      <td>0.017411</td>\n",
       "    </tr>\n",
       "    <tr>\n",
       "      <th>21</th>\n",
       "      <td>GPT-4-turbo</td>\n",
       "      <td>10</td>\n",
       "      <td>0.613811</td>\n",
       "      <td>0.017411</td>\n",
       "    </tr>\n",
       "    <tr>\n",
       "      <th>22</th>\n",
       "      <td>GPT-3.5-turbo</td>\n",
       "      <td>0</td>\n",
       "      <td>0.265985</td>\n",
       "      <td>0.015801</td>\n",
       "    </tr>\n",
       "    <tr>\n",
       "      <th>23</th>\n",
       "      <td>GPT-3.5-turbo</td>\n",
       "      <td>1</td>\n",
       "      <td>0.405371</td>\n",
       "      <td>0.017557</td>\n",
       "    </tr>\n",
       "    <tr>\n",
       "      <th>24</th>\n",
       "      <td>GPT-3.5-turbo</td>\n",
       "      <td>2</td>\n",
       "      <td>0.421995</td>\n",
       "      <td>0.017661</td>\n",
       "    </tr>\n",
       "    <tr>\n",
       "      <th>25</th>\n",
       "      <td>GPT-3.5-turbo</td>\n",
       "      <td>3</td>\n",
       "      <td>0.425831</td>\n",
       "      <td>0.017682</td>\n",
       "    </tr>\n",
       "    <tr>\n",
       "      <th>26</th>\n",
       "      <td>GPT-3.5-turbo</td>\n",
       "      <td>4</td>\n",
       "      <td>0.427110</td>\n",
       "      <td>0.017689</td>\n",
       "    </tr>\n",
       "    <tr>\n",
       "      <th>27</th>\n",
       "      <td>GPT-3.5-turbo</td>\n",
       "      <td>5</td>\n",
       "      <td>0.427110</td>\n",
       "      <td>0.017689</td>\n",
       "    </tr>\n",
       "    <tr>\n",
       "      <th>28</th>\n",
       "      <td>GPT-3.5-turbo</td>\n",
       "      <td>6</td>\n",
       "      <td>0.427110</td>\n",
       "      <td>0.017689</td>\n",
       "    </tr>\n",
       "    <tr>\n",
       "      <th>29</th>\n",
       "      <td>GPT-3.5-turbo</td>\n",
       "      <td>7</td>\n",
       "      <td>0.427110</td>\n",
       "      <td>0.017689</td>\n",
       "    </tr>\n",
       "    <tr>\n",
       "      <th>30</th>\n",
       "      <td>GPT-3.5-turbo</td>\n",
       "      <td>8</td>\n",
       "      <td>0.428389</td>\n",
       "      <td>0.017696</td>\n",
       "    </tr>\n",
       "    <tr>\n",
       "      <th>31</th>\n",
       "      <td>GPT-3.5-turbo</td>\n",
       "      <td>9</td>\n",
       "      <td>0.428389</td>\n",
       "      <td>0.017696</td>\n",
       "    </tr>\n",
       "    <tr>\n",
       "      <th>32</th>\n",
       "      <td>GPT-3.5-turbo</td>\n",
       "      <td>10</td>\n",
       "      <td>0.428389</td>\n",
       "      <td>0.017696</td>\n",
       "    </tr>\n",
       "    <tr>\n",
       "      <th>33</th>\n",
       "      <td>Claude-3-Opus</td>\n",
       "      <td>0</td>\n",
       "      <td>0.265985</td>\n",
       "      <td>0.015801</td>\n",
       "    </tr>\n",
       "    <tr>\n",
       "      <th>34</th>\n",
       "      <td>Claude-3-Opus</td>\n",
       "      <td>1</td>\n",
       "      <td>0.558824</td>\n",
       "      <td>0.017756</td>\n",
       "    </tr>\n",
       "    <tr>\n",
       "      <th>35</th>\n",
       "      <td>Claude-3-Opus</td>\n",
       "      <td>2</td>\n",
       "      <td>0.609974</td>\n",
       "      <td>0.017442</td>\n",
       "    </tr>\n",
       "    <tr>\n",
       "      <th>36</th>\n",
       "      <td>Claude-3-Opus</td>\n",
       "      <td>3</td>\n",
       "      <td>0.645780</td>\n",
       "      <td>0.017103</td>\n",
       "    </tr>\n",
       "    <tr>\n",
       "      <th>37</th>\n",
       "      <td>Claude-3-Opus</td>\n",
       "      <td>4</td>\n",
       "      <td>0.658568</td>\n",
       "      <td>0.016957</td>\n",
       "    </tr>\n",
       "    <tr>\n",
       "      <th>38</th>\n",
       "      <td>Claude-3-Opus</td>\n",
       "      <td>5</td>\n",
       "      <td>0.666240</td>\n",
       "      <td>0.016863</td>\n",
       "    </tr>\n",
       "    <tr>\n",
       "      <th>39</th>\n",
       "      <td>Claude-3-Opus</td>\n",
       "      <td>6</td>\n",
       "      <td>0.673913</td>\n",
       "      <td>0.016764</td>\n",
       "    </tr>\n",
       "    <tr>\n",
       "      <th>40</th>\n",
       "      <td>Claude-3-Opus</td>\n",
       "      <td>7</td>\n",
       "      <td>0.679028</td>\n",
       "      <td>0.016695</td>\n",
       "    </tr>\n",
       "    <tr>\n",
       "      <th>41</th>\n",
       "      <td>Claude-3-Opus</td>\n",
       "      <td>8</td>\n",
       "      <td>0.681586</td>\n",
       "      <td>0.016659</td>\n",
       "    </tr>\n",
       "    <tr>\n",
       "      <th>42</th>\n",
       "      <td>Claude-3-Opus</td>\n",
       "      <td>9</td>\n",
       "      <td>0.684143</td>\n",
       "      <td>0.016623</td>\n",
       "    </tr>\n",
       "    <tr>\n",
       "      <th>43</th>\n",
       "      <td>Claude-3-Opus</td>\n",
       "      <td>10</td>\n",
       "      <td>0.685422</td>\n",
       "      <td>0.016605</td>\n",
       "    </tr>\n",
       "    <tr>\n",
       "      <th>44</th>\n",
       "      <td>CodeLlama-7b</td>\n",
       "      <td>0</td>\n",
       "      <td>0.265985</td>\n",
       "      <td>0.015801</td>\n",
       "    </tr>\n",
       "    <tr>\n",
       "      <th>45</th>\n",
       "      <td>CodeLlama-7b</td>\n",
       "      <td>1</td>\n",
       "      <td>0.267263</td>\n",
       "      <td>0.015825</td>\n",
       "    </tr>\n",
       "    <tr>\n",
       "      <th>46</th>\n",
       "      <td>CodeLlama-7b</td>\n",
       "      <td>2</td>\n",
       "      <td>0.268542</td>\n",
       "      <td>0.015849</td>\n",
       "    </tr>\n",
       "    <tr>\n",
       "      <th>47</th>\n",
       "      <td>CodeLlama-7b</td>\n",
       "      <td>3</td>\n",
       "      <td>0.268542</td>\n",
       "      <td>0.015849</td>\n",
       "    </tr>\n",
       "    <tr>\n",
       "      <th>48</th>\n",
       "      <td>CodeLlama-7b</td>\n",
       "      <td>4</td>\n",
       "      <td>0.268542</td>\n",
       "      <td>0.015849</td>\n",
       "    </tr>\n",
       "    <tr>\n",
       "      <th>49</th>\n",
       "      <td>CodeLlama-7b</td>\n",
       "      <td>5</td>\n",
       "      <td>0.268542</td>\n",
       "      <td>0.015849</td>\n",
       "    </tr>\n",
       "    <tr>\n",
       "      <th>50</th>\n",
       "      <td>CodeLlama-7b</td>\n",
       "      <td>6</td>\n",
       "      <td>0.268542</td>\n",
       "      <td>0.015849</td>\n",
       "    </tr>\n",
       "    <tr>\n",
       "      <th>51</th>\n",
       "      <td>CodeLlama-7b</td>\n",
       "      <td>7</td>\n",
       "      <td>0.268542</td>\n",
       "      <td>0.015849</td>\n",
       "    </tr>\n",
       "    <tr>\n",
       "      <th>52</th>\n",
       "      <td>CodeLlama-7b</td>\n",
       "      <td>8</td>\n",
       "      <td>0.268542</td>\n",
       "      <td>0.015849</td>\n",
       "    </tr>\n",
       "    <tr>\n",
       "      <th>53</th>\n",
       "      <td>CodeLlama-7b</td>\n",
       "      <td>9</td>\n",
       "      <td>0.268542</td>\n",
       "      <td>0.015849</td>\n",
       "    </tr>\n",
       "    <tr>\n",
       "      <th>54</th>\n",
       "      <td>CodeLlama-7b</td>\n",
       "      <td>10</td>\n",
       "      <td>0.268542</td>\n",
       "      <td>0.015849</td>\n",
       "    </tr>\n",
       "  </tbody>\n",
       "</table>\n",
       "</div>"
      ],
      "text/plain": [
       "            Model  # of attempts given  Success rate     Error\n",
       "0          GPT-4o                    0      0.265985  0.015801\n",
       "1          GPT-4o                    1      0.546036  0.017804\n",
       "2          GPT-4o                    2      0.581841  0.017639\n",
       "3          GPT-4o                    3      0.603581  0.017492\n",
       "4          GPT-4o                    4      0.611253  0.017432\n",
       "5          GPT-4o                    5      0.612532  0.017421\n",
       "6          GPT-4o                    6      0.615090  0.017400\n",
       "7          GPT-4o                    7      0.618926  0.017367\n",
       "8          GPT-4o                    8      0.622762  0.017333\n",
       "9          GPT-4o                    9      0.624041  0.017321\n",
       "10         GPT-4o                   10      0.626598  0.017297\n",
       "11    GPT-4-turbo                    0      0.265985  0.015801\n",
       "12    GPT-4-turbo                    1      0.525575  0.017857\n",
       "13    GPT-4-turbo                    2      0.567775  0.017715\n",
       "14    GPT-4-turbo                    3      0.583120  0.017631\n",
       "15    GPT-4-turbo                    4      0.590793  0.017583\n",
       "16    GPT-4-turbo                    5      0.599744  0.017521\n",
       "17    GPT-4-turbo                    6      0.604859  0.017482\n",
       "18    GPT-4-turbo                    7      0.608696  0.017452\n",
       "19    GPT-4-turbo                    8      0.611253  0.017432\n",
       "20    GPT-4-turbo                    9      0.613811  0.017411\n",
       "21    GPT-4-turbo                   10      0.613811  0.017411\n",
       "22  GPT-3.5-turbo                    0      0.265985  0.015801\n",
       "23  GPT-3.5-turbo                    1      0.405371  0.017557\n",
       "24  GPT-3.5-turbo                    2      0.421995  0.017661\n",
       "25  GPT-3.5-turbo                    3      0.425831  0.017682\n",
       "26  GPT-3.5-turbo                    4      0.427110  0.017689\n",
       "27  GPT-3.5-turbo                    5      0.427110  0.017689\n",
       "28  GPT-3.5-turbo                    6      0.427110  0.017689\n",
       "29  GPT-3.5-turbo                    7      0.427110  0.017689\n",
       "30  GPT-3.5-turbo                    8      0.428389  0.017696\n",
       "31  GPT-3.5-turbo                    9      0.428389  0.017696\n",
       "32  GPT-3.5-turbo                   10      0.428389  0.017696\n",
       "33  Claude-3-Opus                    0      0.265985  0.015801\n",
       "34  Claude-3-Opus                    1      0.558824  0.017756\n",
       "35  Claude-3-Opus                    2      0.609974  0.017442\n",
       "36  Claude-3-Opus                    3      0.645780  0.017103\n",
       "37  Claude-3-Opus                    4      0.658568  0.016957\n",
       "38  Claude-3-Opus                    5      0.666240  0.016863\n",
       "39  Claude-3-Opus                    6      0.673913  0.016764\n",
       "40  Claude-3-Opus                    7      0.679028  0.016695\n",
       "41  Claude-3-Opus                    8      0.681586  0.016659\n",
       "42  Claude-3-Opus                    9      0.684143  0.016623\n",
       "43  Claude-3-Opus                   10      0.685422  0.016605\n",
       "44   CodeLlama-7b                    0      0.265985  0.015801\n",
       "45   CodeLlama-7b                    1      0.267263  0.015825\n",
       "46   CodeLlama-7b                    2      0.268542  0.015849\n",
       "47   CodeLlama-7b                    3      0.268542  0.015849\n",
       "48   CodeLlama-7b                    4      0.268542  0.015849\n",
       "49   CodeLlama-7b                    5      0.268542  0.015849\n",
       "50   CodeLlama-7b                    6      0.268542  0.015849\n",
       "51   CodeLlama-7b                    7      0.268542  0.015849\n",
       "52   CodeLlama-7b                    8      0.268542  0.015849\n",
       "53   CodeLlama-7b                    9      0.268542  0.015849\n",
       "54   CodeLlama-7b                   10      0.268542  0.015849"
      ]
     },
     "execution_count": 4,
     "metadata": {},
     "output_type": "execute_result"
    }
   ],
   "source": [
    "num_attempts_df = pd.DataFrame(columns=[\"Model\", \"# of attempts given\", \"Success rate\", \"Error\"])\n",
    "num_attempts_df[\"Model\"] = [\"GPT-4o\"] * len(gpt4o_num_attempts_mean) + [\"GPT-4-turbo\"] * len(gpt4_num_attempts_mean) + [\"GPT-3.5-turbo\"] * len(gpt35_num_attempts_mean) + [\"Claude-3-Opus\"] * len(claude3_num_attempts_mean) + [\"CodeLlama-7b\"] * len(codellama_num_attempts_mean)\n",
    "num_attempts_df[\"# of attempts given\"] = list(gpt4o_num_attempts_mean.keys()) + list(gpt4_num_attempts_mean.keys()) + list(gpt35_num_attempts_mean.keys()) + list(claude3_num_attempts_mean.keys()) + list(codellama_num_attempts_mean.keys())\n",
    "num_attempts_df[\"Success rate\"] = list(gpt4o_num_attempts_mean.values()) + list(gpt4_num_attempts_mean.values()) + list(gpt35_num_attempts_mean.values()) + list(claude3_num_attempts_mean.values()) + list(codellama_num_attempts_mean.values())\n",
    "num_attempts_df[\"Error\"] = list(gpt4o_num_attempts_error.values()) + list(gpt4_num_attempts_error.values()) + list(gpt35_num_attempts_error.values()) + list(claude3_num_attempts_error.values()) + list(codellama_num_attempts_error.values())\n",
    "num_attempts_df"
   ]
  },
  {
   "cell_type": "code",
   "execution_count": 5,
   "metadata": {},
   "outputs": [
    {
     "data": {
      "application/vnd.plotly.v1+json": {
       "config": {
        "plotlyServerURL": "https://plot.ly"
       },
       "data": [
        {
         "fill": "toself",
         "fillcolor": "rgba(99,110,250,.3)",
         "hoverinfo": "skip",
         "legendgroup": "GPT-4o",
         "line": {
          "color": "rgba(255,255,255,0)"
         },
         "showlegend": false,
         "type": "scatter",
         "x": [
          0,
          1,
          2,
          3,
          4,
          5,
          6,
          7,
          8,
          9,
          10,
          10,
          9,
          8,
          7,
          6,
          5,
          4,
          3,
          2,
          1,
          0
         ],
         "xaxis": "x",
         "y": [
          0.2817853968139228,
          0.5638398219771334,
          0.5994802488414293,
          0.6210726532012244,
          0.6286849317481524,
          0.6299532043998886,
          0.6324893701581468,
          0.6362926664075422,
          0.6400948139684656,
          0.6413619400562659,
          0.6438958060334793,
          0.6093011249128123,
          0.6067199013759591,
          0.6054294827067263,
          0.6015589959965498,
          0.5976896579748455,
          0.5951107342190374,
          0.5938214621137401,
          0.5860884721184686,
          0.5642026156086986,
          0.5282317892760635,
          0.25018391264899287
         ],
         "yaxis": "y"
        },
        {
         "hovertemplate": "Model=GPT-4o<br># of attempts given=%{x}<br>Success rate=%{y}<extra></extra>",
         "legendgroup": "GPT-4o",
         "line": {
          "color": "#636efa",
          "dash": "solid"
         },
         "marker": {
          "symbol": "circle"
         },
         "mode": "lines",
         "name": "GPT-4o",
         "orientation": "v",
         "showlegend": true,
         "type": "scatter",
         "x": [
          0,
          1,
          2,
          3,
          4,
          5,
          6,
          7,
          8,
          9,
          10
         ],
         "xaxis": "x",
         "y": [
          0.2659846547314578,
          0.5460358056265985,
          0.5818414322250639,
          0.6035805626598465,
          0.6112531969309463,
          0.612531969309463,
          0.6150895140664961,
          0.618925831202046,
          0.6227621483375959,
          0.6240409207161125,
          0.6265984654731458
         ],
         "yaxis": "y"
        },
        {
         "fill": "toself",
         "fillcolor": "rgba(239,85,59,.3)",
         "hoverinfo": "skip",
         "legendgroup": "GPT-4-turbo",
         "line": {
          "color": "rgba(255,255,255,0)"
         },
         "showlegend": false,
         "type": "scatter",
         "x": [
          0,
          1,
          2,
          3,
          4,
          5,
          6,
          7,
          8,
          9,
          10,
          10,
          9,
          8,
          7,
          6,
          5,
          4,
          3,
          2,
          1,
          0
         ],
         "xaxis": "x",
         "y": [
          0.2817853968139228,
          0.5434320050525883,
          0.5854898768721991,
          0.6007513729329379,
          0.6083755502598321,
          0.6172648247827254,
          0.6223416797990525,
          0.626148008041181,
          0.6286849317481524,
          0.6312213506137694,
          0.6312213506137694,
          0.5964001327621897,
          0.5964001327621897,
          0.5938214621137401,
          0.5912432963066452,
          0.5873769902776739,
          0.5822236662658681,
          0.5732101274895284,
          0.5654890362742233,
          0.550059995250563,
          0.5077188900880767,
          0.25018391264899287
         ],
         "yaxis": "y"
        },
        {
         "hovertemplate": "Model=GPT-4-turbo<br># of attempts given=%{x}<br>Success rate=%{y}<extra></extra>",
         "legendgroup": "GPT-4-turbo",
         "line": {
          "color": "#EF553B",
          "dash": "solid"
         },
         "marker": {
          "symbol": "circle"
         },
         "mode": "lines",
         "name": "GPT-4-turbo",
         "orientation": "v",
         "showlegend": true,
         "type": "scatter",
         "x": [
          0,
          1,
          2,
          3,
          4,
          5,
          6,
          7,
          8,
          9,
          10
         ],
         "xaxis": "x",
         "y": [
          0.2659846547314578,
          0.5255754475703325,
          0.5677749360613811,
          0.5831202046035806,
          0.5907928388746803,
          0.5997442455242967,
          0.6048593350383632,
          0.6086956521739131,
          0.6112531969309463,
          0.6138107416879796,
          0.6138107416879796
         ],
         "yaxis": "y"
        },
        {
         "fill": "toself",
         "fillcolor": "rgba(0,204,150,.3)",
         "hoverinfo": "skip",
         "legendgroup": "GPT-3.5-turbo",
         "line": {
          "color": "rgba(255,255,255,0)"
         },
         "showlegend": false,
         "type": "scatter",
         "x": [
          0,
          1,
          2,
          3,
          4,
          5,
          6,
          7,
          8,
          9,
          10,
          10,
          9,
          8,
          7,
          6,
          5,
          4,
          3,
          2,
          1,
          0
         ],
         "xaxis": "x",
         "y": [
          0.2817853968139228,
          0.42292766889660294,
          0.439655916110371,
          0.44351335559793154,
          0.44479892672443533,
          0.44479892672443533,
          0.44479892672443533,
          0.44479892672443533,
          0.4460843770674786,
          0.4460843770674786,
          0.4460843770674786,
          0.4106931165386595,
          0.4106931165386595,
          0.4106931165386595,
          0.4094210221246696,
          0.4094210221246696,
          0.4094210221246696,
          0.4094210221246696,
          0.4081490484941401,
          0.4043338537106008,
          0.38781401908293667,
          0.25018391264899287
         ],
         "yaxis": "y"
        },
        {
         "hovertemplate": "Model=GPT-3.5-turbo<br># of attempts given=%{x}<br>Success rate=%{y}<extra></extra>",
         "legendgroup": "GPT-3.5-turbo",
         "line": {
          "color": "#00cc96",
          "dash": "solid"
         },
         "marker": {
          "symbol": "circle"
         },
         "mode": "lines",
         "name": "GPT-3.5-turbo",
         "orientation": "v",
         "showlegend": true,
         "type": "scatter",
         "x": [
          0,
          1,
          2,
          3,
          4,
          5,
          6,
          7,
          8,
          9,
          10
         ],
         "xaxis": "x",
         "y": [
          0.2659846547314578,
          0.4053708439897698,
          0.4219948849104859,
          0.4258312020460358,
          0.42710997442455245,
          0.42710997442455245,
          0.42710997442455245,
          0.42710997442455245,
          0.42838874680306904,
          0.42838874680306904,
          0.42838874680306904
         ],
         "yaxis": "y"
        },
        {
         "fill": "toself",
         "fillcolor": "rgba(171,99,250,.3)",
         "hoverinfo": "skip",
         "legendgroup": "Claude-3-Opus",
         "line": {
          "color": "rgba(255,255,255,0)"
         },
         "showlegend": false,
         "type": "scatter",
         "x": [
          0,
          1,
          2,
          3,
          4,
          5,
          6,
          7,
          8,
          9,
          10,
          10,
          9,
          8,
          7,
          6,
          5,
          4,
          3,
          2,
          1,
          0
         ],
         "xaxis": "x",
         "y": [
          0.2817853968139228,
          0.5765793249926564,
          0.6274165328868988,
          0.6628831751340352,
          0.6755247786627215,
          0.6831031818956919,
          0.6906765654587989,
          0.6957226551040478,
          0.6982448396348437,
          0.7007664457776039,
          0.7020270307822534,
          0.6688169589875677,
          0.6675199992351837,
          0.6649265158638775,
          0.6623336108806068,
          0.6571495214977229,
          0.6493776365186303,
          0.6416107712094011,
          0.628676927167755,
          0.5925323162179605,
          0.541067733830873,
          0.25018391264899287
         ],
         "yaxis": "y"
        },
        {
         "hovertemplate": "Model=Claude-3-Opus<br># of attempts given=%{x}<br>Success rate=%{y}<extra></extra>",
         "legendgroup": "Claude-3-Opus",
         "line": {
          "color": "#ab63fa",
          "dash": "solid"
         },
         "marker": {
          "symbol": "circle"
         },
         "mode": "lines",
         "name": "Claude-3-Opus",
         "orientation": "v",
         "showlegend": true,
         "type": "scatter",
         "x": [
          0,
          1,
          2,
          3,
          4,
          5,
          6,
          7,
          8,
          9,
          10
         ],
         "xaxis": "x",
         "y": [
          0.2659846547314578,
          0.5588235294117647,
          0.6099744245524297,
          0.6457800511508951,
          0.6585677749360613,
          0.6662404092071611,
          0.6739130434782609,
          0.6790281329923273,
          0.6815856777493606,
          0.6841432225063938,
          0.6854219948849105
         ],
         "yaxis": "y"
        },
        {
         "fill": "toself",
         "fillcolor": "rgba(255,161,90,.3)",
         "hoverinfo": "skip",
         "legendgroup": "CodeLlama-7b",
         "line": {
          "color": "rgba(255,255,255,0)"
         },
         "showlegend": false,
         "type": "scatter",
         "x": [
          0,
          1,
          2,
          3,
          4,
          5,
          6,
          7,
          8,
          9,
          10,
          10,
          9,
          8,
          7,
          6,
          5,
          4,
          3,
          2,
          1,
          0
         ],
         "xaxis": "x",
         "y": [
          0.2817853968139228,
          0.2830883034297541,
          0.28439104135370347,
          0.28439104135370347,
          0.28439104135370347,
          0.28439104135370347,
          0.28439104135370347,
          0.28439104135370347,
          0.28439104135370347,
          0.28439104135370347,
          0.28439104135370347,
          0.25269335762327866,
          0.25269335762327866,
          0.25269335762327866,
          0.25269335762327866,
          0.25269335762327866,
          0.25269335762327866,
          0.25269335762327866,
          0.25269335762327866,
          0.25269335762327866,
          0.2514385507901947,
          0.25018391264899287
         ],
         "yaxis": "y"
        },
        {
         "hovertemplate": "Model=CodeLlama-7b<br># of attempts given=%{x}<br>Success rate=%{y}<extra></extra>",
         "legendgroup": "CodeLlama-7b",
         "line": {
          "color": "#FFA15A",
          "dash": "solid"
         },
         "marker": {
          "symbol": "circle"
         },
         "mode": "lines",
         "name": "CodeLlama-7b",
         "orientation": "v",
         "showlegend": true,
         "type": "scatter",
         "x": [
          0,
          1,
          2,
          3,
          4,
          5,
          6,
          7,
          8,
          9,
          10
         ],
         "xaxis": "x",
         "y": [
          0.2659846547314578,
          0.2672634271099744,
          0.26854219948849106,
          0.26854219948849106,
          0.26854219948849106,
          0.26854219948849106,
          0.26854219948849106,
          0.26854219948849106,
          0.26854219948849106,
          0.26854219948849106,
          0.26854219948849106
         ],
         "yaxis": "y"
        }
       ],
       "layout": {
        "font": {
         "size": 20
        },
        "height": 600,
        "legend": {
         "title": {},
         "tracegroupgap": 0
        },
        "margin": {
         "t": 60
        },
        "template": {
         "data": {
          "bar": [
           {
            "error_x": {
             "color": "#2a3f5f"
            },
            "error_y": {
             "color": "#2a3f5f"
            },
            "marker": {
             "line": {
              "color": "#E5ECF6",
              "width": 0.5
             },
             "pattern": {
              "fillmode": "overlay",
              "size": 10,
              "solidity": 0.2
             }
            },
            "type": "bar"
           }
          ],
          "barpolar": [
           {
            "marker": {
             "line": {
              "color": "#E5ECF6",
              "width": 0.5
             },
             "pattern": {
              "fillmode": "overlay",
              "size": 10,
              "solidity": 0.2
             }
            },
            "type": "barpolar"
           }
          ],
          "carpet": [
           {
            "aaxis": {
             "endlinecolor": "#2a3f5f",
             "gridcolor": "white",
             "linecolor": "white",
             "minorgridcolor": "white",
             "startlinecolor": "#2a3f5f"
            },
            "baxis": {
             "endlinecolor": "#2a3f5f",
             "gridcolor": "white",
             "linecolor": "white",
             "minorgridcolor": "white",
             "startlinecolor": "#2a3f5f"
            },
            "type": "carpet"
           }
          ],
          "choropleth": [
           {
            "colorbar": {
             "outlinewidth": 0,
             "ticks": ""
            },
            "type": "choropleth"
           }
          ],
          "contour": [
           {
            "colorbar": {
             "outlinewidth": 0,
             "ticks": ""
            },
            "colorscale": [
             [
              0,
              "#0d0887"
             ],
             [
              0.1111111111111111,
              "#46039f"
             ],
             [
              0.2222222222222222,
              "#7201a8"
             ],
             [
              0.3333333333333333,
              "#9c179e"
             ],
             [
              0.4444444444444444,
              "#bd3786"
             ],
             [
              0.5555555555555556,
              "#d8576b"
             ],
             [
              0.6666666666666666,
              "#ed7953"
             ],
             [
              0.7777777777777778,
              "#fb9f3a"
             ],
             [
              0.8888888888888888,
              "#fdca26"
             ],
             [
              1,
              "#f0f921"
             ]
            ],
            "type": "contour"
           }
          ],
          "contourcarpet": [
           {
            "colorbar": {
             "outlinewidth": 0,
             "ticks": ""
            },
            "type": "contourcarpet"
           }
          ],
          "heatmap": [
           {
            "colorbar": {
             "outlinewidth": 0,
             "ticks": ""
            },
            "colorscale": [
             [
              0,
              "#0d0887"
             ],
             [
              0.1111111111111111,
              "#46039f"
             ],
             [
              0.2222222222222222,
              "#7201a8"
             ],
             [
              0.3333333333333333,
              "#9c179e"
             ],
             [
              0.4444444444444444,
              "#bd3786"
             ],
             [
              0.5555555555555556,
              "#d8576b"
             ],
             [
              0.6666666666666666,
              "#ed7953"
             ],
             [
              0.7777777777777778,
              "#fb9f3a"
             ],
             [
              0.8888888888888888,
              "#fdca26"
             ],
             [
              1,
              "#f0f921"
             ]
            ],
            "type": "heatmap"
           }
          ],
          "heatmapgl": [
           {
            "colorbar": {
             "outlinewidth": 0,
             "ticks": ""
            },
            "colorscale": [
             [
              0,
              "#0d0887"
             ],
             [
              0.1111111111111111,
              "#46039f"
             ],
             [
              0.2222222222222222,
              "#7201a8"
             ],
             [
              0.3333333333333333,
              "#9c179e"
             ],
             [
              0.4444444444444444,
              "#bd3786"
             ],
             [
              0.5555555555555556,
              "#d8576b"
             ],
             [
              0.6666666666666666,
              "#ed7953"
             ],
             [
              0.7777777777777778,
              "#fb9f3a"
             ],
             [
              0.8888888888888888,
              "#fdca26"
             ],
             [
              1,
              "#f0f921"
             ]
            ],
            "type": "heatmapgl"
           }
          ],
          "histogram": [
           {
            "marker": {
             "pattern": {
              "fillmode": "overlay",
              "size": 10,
              "solidity": 0.2
             }
            },
            "type": "histogram"
           }
          ],
          "histogram2d": [
           {
            "colorbar": {
             "outlinewidth": 0,
             "ticks": ""
            },
            "colorscale": [
             [
              0,
              "#0d0887"
             ],
             [
              0.1111111111111111,
              "#46039f"
             ],
             [
              0.2222222222222222,
              "#7201a8"
             ],
             [
              0.3333333333333333,
              "#9c179e"
             ],
             [
              0.4444444444444444,
              "#bd3786"
             ],
             [
              0.5555555555555556,
              "#d8576b"
             ],
             [
              0.6666666666666666,
              "#ed7953"
             ],
             [
              0.7777777777777778,
              "#fb9f3a"
             ],
             [
              0.8888888888888888,
              "#fdca26"
             ],
             [
              1,
              "#f0f921"
             ]
            ],
            "type": "histogram2d"
           }
          ],
          "histogram2dcontour": [
           {
            "colorbar": {
             "outlinewidth": 0,
             "ticks": ""
            },
            "colorscale": [
             [
              0,
              "#0d0887"
             ],
             [
              0.1111111111111111,
              "#46039f"
             ],
             [
              0.2222222222222222,
              "#7201a8"
             ],
             [
              0.3333333333333333,
              "#9c179e"
             ],
             [
              0.4444444444444444,
              "#bd3786"
             ],
             [
              0.5555555555555556,
              "#d8576b"
             ],
             [
              0.6666666666666666,
              "#ed7953"
             ],
             [
              0.7777777777777778,
              "#fb9f3a"
             ],
             [
              0.8888888888888888,
              "#fdca26"
             ],
             [
              1,
              "#f0f921"
             ]
            ],
            "type": "histogram2dcontour"
           }
          ],
          "mesh3d": [
           {
            "colorbar": {
             "outlinewidth": 0,
             "ticks": ""
            },
            "type": "mesh3d"
           }
          ],
          "parcoords": [
           {
            "line": {
             "colorbar": {
              "outlinewidth": 0,
              "ticks": ""
             }
            },
            "type": "parcoords"
           }
          ],
          "pie": [
           {
            "automargin": true,
            "type": "pie"
           }
          ],
          "scatter": [
           {
            "fillpattern": {
             "fillmode": "overlay",
             "size": 10,
             "solidity": 0.2
            },
            "type": "scatter"
           }
          ],
          "scatter3d": [
           {
            "line": {
             "colorbar": {
              "outlinewidth": 0,
              "ticks": ""
             }
            },
            "marker": {
             "colorbar": {
              "outlinewidth": 0,
              "ticks": ""
             }
            },
            "type": "scatter3d"
           }
          ],
          "scattercarpet": [
           {
            "marker": {
             "colorbar": {
              "outlinewidth": 0,
              "ticks": ""
             }
            },
            "type": "scattercarpet"
           }
          ],
          "scattergeo": [
           {
            "marker": {
             "colorbar": {
              "outlinewidth": 0,
              "ticks": ""
             }
            },
            "type": "scattergeo"
           }
          ],
          "scattergl": [
           {
            "marker": {
             "colorbar": {
              "outlinewidth": 0,
              "ticks": ""
             }
            },
            "type": "scattergl"
           }
          ],
          "scattermapbox": [
           {
            "marker": {
             "colorbar": {
              "outlinewidth": 0,
              "ticks": ""
             }
            },
            "type": "scattermapbox"
           }
          ],
          "scatterpolar": [
           {
            "marker": {
             "colorbar": {
              "outlinewidth": 0,
              "ticks": ""
             }
            },
            "type": "scatterpolar"
           }
          ],
          "scatterpolargl": [
           {
            "marker": {
             "colorbar": {
              "outlinewidth": 0,
              "ticks": ""
             }
            },
            "type": "scatterpolargl"
           }
          ],
          "scatterternary": [
           {
            "marker": {
             "colorbar": {
              "outlinewidth": 0,
              "ticks": ""
             }
            },
            "type": "scatterternary"
           }
          ],
          "surface": [
           {
            "colorbar": {
             "outlinewidth": 0,
             "ticks": ""
            },
            "colorscale": [
             [
              0,
              "#0d0887"
             ],
             [
              0.1111111111111111,
              "#46039f"
             ],
             [
              0.2222222222222222,
              "#7201a8"
             ],
             [
              0.3333333333333333,
              "#9c179e"
             ],
             [
              0.4444444444444444,
              "#bd3786"
             ],
             [
              0.5555555555555556,
              "#d8576b"
             ],
             [
              0.6666666666666666,
              "#ed7953"
             ],
             [
              0.7777777777777778,
              "#fb9f3a"
             ],
             [
              0.8888888888888888,
              "#fdca26"
             ],
             [
              1,
              "#f0f921"
             ]
            ],
            "type": "surface"
           }
          ],
          "table": [
           {
            "cells": {
             "fill": {
              "color": "#EBF0F8"
             },
             "line": {
              "color": "white"
             }
            },
            "header": {
             "fill": {
              "color": "#C8D4E3"
             },
             "line": {
              "color": "white"
             }
            },
            "type": "table"
           }
          ]
         },
         "layout": {
          "annotationdefaults": {
           "arrowcolor": "#2a3f5f",
           "arrowhead": 0,
           "arrowwidth": 1
          },
          "autotypenumbers": "strict",
          "coloraxis": {
           "colorbar": {
            "outlinewidth": 0,
            "ticks": ""
           }
          },
          "colorscale": {
           "diverging": [
            [
             0,
             "#8e0152"
            ],
            [
             0.1,
             "#c51b7d"
            ],
            [
             0.2,
             "#de77ae"
            ],
            [
             0.3,
             "#f1b6da"
            ],
            [
             0.4,
             "#fde0ef"
            ],
            [
             0.5,
             "#f7f7f7"
            ],
            [
             0.6,
             "#e6f5d0"
            ],
            [
             0.7,
             "#b8e186"
            ],
            [
             0.8,
             "#7fbc41"
            ],
            [
             0.9,
             "#4d9221"
            ],
            [
             1,
             "#276419"
            ]
           ],
           "sequential": [
            [
             0,
             "#0d0887"
            ],
            [
             0.1111111111111111,
             "#46039f"
            ],
            [
             0.2222222222222222,
             "#7201a8"
            ],
            [
             0.3333333333333333,
             "#9c179e"
            ],
            [
             0.4444444444444444,
             "#bd3786"
            ],
            [
             0.5555555555555556,
             "#d8576b"
            ],
            [
             0.6666666666666666,
             "#ed7953"
            ],
            [
             0.7777777777777778,
             "#fb9f3a"
            ],
            [
             0.8888888888888888,
             "#fdca26"
            ],
            [
             1,
             "#f0f921"
            ]
           ],
           "sequentialminus": [
            [
             0,
             "#0d0887"
            ],
            [
             0.1111111111111111,
             "#46039f"
            ],
            [
             0.2222222222222222,
             "#7201a8"
            ],
            [
             0.3333333333333333,
             "#9c179e"
            ],
            [
             0.4444444444444444,
             "#bd3786"
            ],
            [
             0.5555555555555556,
             "#d8576b"
            ],
            [
             0.6666666666666666,
             "#ed7953"
            ],
            [
             0.7777777777777778,
             "#fb9f3a"
            ],
            [
             0.8888888888888888,
             "#fdca26"
            ],
            [
             1,
             "#f0f921"
            ]
           ]
          },
          "colorway": [
           "#636efa",
           "#EF553B",
           "#00cc96",
           "#ab63fa",
           "#FFA15A",
           "#19d3f3",
           "#FF6692",
           "#B6E880",
           "#FF97FF",
           "#FECB52"
          ],
          "font": {
           "color": "#2a3f5f"
          },
          "geo": {
           "bgcolor": "white",
           "lakecolor": "white",
           "landcolor": "#E5ECF6",
           "showlakes": true,
           "showland": true,
           "subunitcolor": "white"
          },
          "hoverlabel": {
           "align": "left"
          },
          "hovermode": "closest",
          "mapbox": {
           "style": "light"
          },
          "paper_bgcolor": "white",
          "plot_bgcolor": "#E5ECF6",
          "polar": {
           "angularaxis": {
            "gridcolor": "white",
            "linecolor": "white",
            "ticks": ""
           },
           "bgcolor": "#E5ECF6",
           "radialaxis": {
            "gridcolor": "white",
            "linecolor": "white",
            "ticks": ""
           }
          },
          "scene": {
           "xaxis": {
            "backgroundcolor": "#E5ECF6",
            "gridcolor": "white",
            "gridwidth": 2,
            "linecolor": "white",
            "showbackground": true,
            "ticks": "",
            "zerolinecolor": "white"
           },
           "yaxis": {
            "backgroundcolor": "#E5ECF6",
            "gridcolor": "white",
            "gridwidth": 2,
            "linecolor": "white",
            "showbackground": true,
            "ticks": "",
            "zerolinecolor": "white"
           },
           "zaxis": {
            "backgroundcolor": "#E5ECF6",
            "gridcolor": "white",
            "gridwidth": 2,
            "linecolor": "white",
            "showbackground": true,
            "ticks": "",
            "zerolinecolor": "white"
           }
          },
          "shapedefaults": {
           "line": {
            "color": "#2a3f5f"
           }
          },
          "ternary": {
           "aaxis": {
            "gridcolor": "white",
            "linecolor": "white",
            "ticks": ""
           },
           "baxis": {
            "gridcolor": "white",
            "linecolor": "white",
            "ticks": ""
           },
           "bgcolor": "#E5ECF6",
           "caxis": {
            "gridcolor": "white",
            "linecolor": "white",
            "ticks": ""
           }
          },
          "title": {
           "x": 0.05
          },
          "xaxis": {
           "automargin": true,
           "gridcolor": "white",
           "linecolor": "white",
           "ticks": "",
           "title": {
            "standoff": 15
           },
           "zerolinecolor": "white",
           "zerolinewidth": 2
          },
          "yaxis": {
           "automargin": true,
           "gridcolor": "white",
           "linecolor": "white",
           "ticks": "",
           "title": {
            "standoff": 15
           },
           "zerolinecolor": "white",
           "zerolinewidth": 2
          }
         }
        },
        "width": 900,
        "xaxis": {
         "anchor": "y",
         "domain": [
          0,
          1
         ],
         "title": {
          "text": "# of attempts given"
         }
        },
        "yaxis": {
         "anchor": "x",
         "domain": [
          0,
          1
         ],
         "range": [
          0,
          0.8
         ],
         "tickformat": ",.0%",
         "title": {
          "text": "Success rate"
         }
        }
       }
      }
     },
     "metadata": {},
     "output_type": "display_data"
    }
   ],
   "source": [
    "num_attempts_fig = scatter_num_attempts(data_frame=num_attempts_df,\n",
    "                                        x='# of attempts given',\n",
    "                                        y='Success rate',\n",
    "                                        error_y='Error',\n",
    "                                        error_y_mode='band',\n",
    "                                        color='Model')\n",
    "num_attempts_fig.show()"
   ]
  },
  {
   "cell_type": "code",
   "execution_count": 6,
   "metadata": {},
   "outputs": [
    {
     "name": "stderr",
     "output_type": "stream",
     "text": [
      "/Users/wendysun/Desktop/DafnyBench/stats/lib/python3.10/site-packages/numpy/core/fromnumeric.py:3504: RuntimeWarning:\n",
      "\n",
      "Mean of empty slice.\n",
      "\n",
      "/Users/wendysun/Desktop/DafnyBench/stats/lib/python3.10/site-packages/numpy/core/_methods.py:129: RuntimeWarning:\n",
      "\n",
      "invalid value encountered in scalar divide\n",
      "\n",
      "/Users/wendysun/Desktop/DafnyBench/stats/lib/python3.10/site-packages/numpy/core/_methods.py:206: RuntimeWarning:\n",
      "\n",
      "Degrees of freedom <= 0 for slice\n",
      "\n",
      "/Users/wendysun/Desktop/DafnyBench/stats/lib/python3.10/site-packages/numpy/core/_methods.py:163: RuntimeWarning:\n",
      "\n",
      "invalid value encountered in divide\n",
      "\n",
      "/Users/wendysun/Desktop/DafnyBench/stats/lib/python3.10/site-packages/numpy/core/_methods.py:198: RuntimeWarning:\n",
      "\n",
      "invalid value encountered in scalar divide\n",
      "\n"
     ]
    }
   ],
   "source": [
    "bin_num_programs, gpt4o_bin_mean, gpt4o_bin_error = get_bin_width_mean_error(\"gpt-4o\")\n",
    "gpt4o_bin_num_char_mean, gpt4o_bin_num_hint_char_mean, gpt4o_bin_num_lemma_mean = gpt4o_bin_mean\n",
    "gpt4o_bin_num_char_error, gpt4o_bin_num_hint_char_error, gpt4o_bin_num_lemma_error = gpt4o_bin_error\n",
    "\n",
    "_, gpt4_bin_mean, gpt4_bin_error = get_bin_width_mean_error(\"gpt-4-turbo\")\n",
    "gpt4_bin_num_char_mean, gpt4_bin_num_hint_char_mean, gpt4_bin_num_lemma_mean = gpt4_bin_mean\n",
    "gpt4_bin_num_char_error, gpt4_bin_num_hint_char_error, gpt4_bin_num_lemma_error = gpt4_bin_error\n",
    "\n",
    "_, gpt35_bin_mean, gpt35_bin_error = get_bin_width_mean_error(\"gpt-3.5-turbo\")\n",
    "gpt35_bin_num_char_mean, gpt35_bin_num_hint_char_mean, gpt35_bin_num_lemma_mean = gpt35_bin_mean\n",
    "gpt35_bin_num_char_error, gpt35_bin_num_hint_char_error, gpt35_bin_num_lemma_error = gpt35_bin_error\n",
    "\n",
    "_, claude3_bin_mean, claude3_bin_error = get_bin_width_mean_error(\"claude-3-opus\")\n",
    "claude3_bin_num_char_mean, claude3_bin_num_hint_char_mean, claude3_bin_num_lemma_mean = claude3_bin_mean\n",
    "claude3_bin_num_char_error, claude3_bin_num_hint_char_error, claude3_bin_num_lemma_error = claude3_bin_error\n",
    "\n",
    "_, codellama_bin_mean, codellama_bin_error = get_bin_width_mean_error(\"CodeLlama-7b-Instruct-hf\")\n",
    "codellama_bin_num_char_mean, codellama_bin_num_hint_char_mean, codellama_bin_num_lemma_mean = codellama_bin_mean\n",
    "codellama_bin_num_char_error, codellama_bin_num_hint_char_error, codellama_bin_num_lemma_error = codellama_bin_error"
   ]
  },
  {
   "cell_type": "code",
   "execution_count": 7,
   "metadata": {},
   "outputs": [],
   "source": [
    "bin_num_char_num_programs, bin_num_hint_char_num_programs, bin_num_lemma_num_programs = bin_num_programs"
   ]
  },
  {
   "cell_type": "code",
   "execution_count": 8,
   "metadata": {},
   "outputs": [
    {
     "data": {
      "application/vnd.plotly.v1+json": {
       "config": {
        "plotlyServerURL": "https://plot.ly"
       },
       "data": [
        {
         "alignmentgroup": "True",
         "hovertemplate": "Program length (characters)=%{x}<br># of test files=%{y}<extra></extra>",
         "legendgroup": "",
         "marker": {
          "color": "#636efa",
          "pattern": {
           "shape": ""
          }
         },
         "name": "",
         "offsetgroup": "",
         "orientation": "v",
         "showlegend": false,
         "textposition": "auto",
         "type": "bar",
         "x": [
          153.5,
          314.1,
          443.4000000000001,
          574.3000000000001,
          759.75,
          1019.4500000000004,
          1445.1000000000004,
          2094.1000000000004,
          3540.9500000000003,
          16673.75
         ],
         "xaxis": "x",
         "y": [
          78,
          79,
          78,
          77,
          79,
          78,
          78,
          78,
          78,
          79
         ],
         "yaxis": "y"
        }
       ],
       "layout": {
        "barmode": "relative",
        "height": 450,
        "legend": {
         "tracegroupgap": 0
        },
        "margin": {
         "t": 60
        },
        "template": {
         "data": {
          "bar": [
           {
            "error_x": {
             "color": "#2a3f5f"
            },
            "error_y": {
             "color": "#2a3f5f"
            },
            "marker": {
             "line": {
              "color": "#E5ECF6",
              "width": 0.5
             },
             "pattern": {
              "fillmode": "overlay",
              "size": 10,
              "solidity": 0.2
             }
            },
            "type": "bar"
           }
          ],
          "barpolar": [
           {
            "marker": {
             "line": {
              "color": "#E5ECF6",
              "width": 0.5
             },
             "pattern": {
              "fillmode": "overlay",
              "size": 10,
              "solidity": 0.2
             }
            },
            "type": "barpolar"
           }
          ],
          "carpet": [
           {
            "aaxis": {
             "endlinecolor": "#2a3f5f",
             "gridcolor": "white",
             "linecolor": "white",
             "minorgridcolor": "white",
             "startlinecolor": "#2a3f5f"
            },
            "baxis": {
             "endlinecolor": "#2a3f5f",
             "gridcolor": "white",
             "linecolor": "white",
             "minorgridcolor": "white",
             "startlinecolor": "#2a3f5f"
            },
            "type": "carpet"
           }
          ],
          "choropleth": [
           {
            "colorbar": {
             "outlinewidth": 0,
             "ticks": ""
            },
            "type": "choropleth"
           }
          ],
          "contour": [
           {
            "colorbar": {
             "outlinewidth": 0,
             "ticks": ""
            },
            "colorscale": [
             [
              0,
              "#0d0887"
             ],
             [
              0.1111111111111111,
              "#46039f"
             ],
             [
              0.2222222222222222,
              "#7201a8"
             ],
             [
              0.3333333333333333,
              "#9c179e"
             ],
             [
              0.4444444444444444,
              "#bd3786"
             ],
             [
              0.5555555555555556,
              "#d8576b"
             ],
             [
              0.6666666666666666,
              "#ed7953"
             ],
             [
              0.7777777777777778,
              "#fb9f3a"
             ],
             [
              0.8888888888888888,
              "#fdca26"
             ],
             [
              1,
              "#f0f921"
             ]
            ],
            "type": "contour"
           }
          ],
          "contourcarpet": [
           {
            "colorbar": {
             "outlinewidth": 0,
             "ticks": ""
            },
            "type": "contourcarpet"
           }
          ],
          "heatmap": [
           {
            "colorbar": {
             "outlinewidth": 0,
             "ticks": ""
            },
            "colorscale": [
             [
              0,
              "#0d0887"
             ],
             [
              0.1111111111111111,
              "#46039f"
             ],
             [
              0.2222222222222222,
              "#7201a8"
             ],
             [
              0.3333333333333333,
              "#9c179e"
             ],
             [
              0.4444444444444444,
              "#bd3786"
             ],
             [
              0.5555555555555556,
              "#d8576b"
             ],
             [
              0.6666666666666666,
              "#ed7953"
             ],
             [
              0.7777777777777778,
              "#fb9f3a"
             ],
             [
              0.8888888888888888,
              "#fdca26"
             ],
             [
              1,
              "#f0f921"
             ]
            ],
            "type": "heatmap"
           }
          ],
          "heatmapgl": [
           {
            "colorbar": {
             "outlinewidth": 0,
             "ticks": ""
            },
            "colorscale": [
             [
              0,
              "#0d0887"
             ],
             [
              0.1111111111111111,
              "#46039f"
             ],
             [
              0.2222222222222222,
              "#7201a8"
             ],
             [
              0.3333333333333333,
              "#9c179e"
             ],
             [
              0.4444444444444444,
              "#bd3786"
             ],
             [
              0.5555555555555556,
              "#d8576b"
             ],
             [
              0.6666666666666666,
              "#ed7953"
             ],
             [
              0.7777777777777778,
              "#fb9f3a"
             ],
             [
              0.8888888888888888,
              "#fdca26"
             ],
             [
              1,
              "#f0f921"
             ]
            ],
            "type": "heatmapgl"
           }
          ],
          "histogram": [
           {
            "marker": {
             "pattern": {
              "fillmode": "overlay",
              "size": 10,
              "solidity": 0.2
             }
            },
            "type": "histogram"
           }
          ],
          "histogram2d": [
           {
            "colorbar": {
             "outlinewidth": 0,
             "ticks": ""
            },
            "colorscale": [
             [
              0,
              "#0d0887"
             ],
             [
              0.1111111111111111,
              "#46039f"
             ],
             [
              0.2222222222222222,
              "#7201a8"
             ],
             [
              0.3333333333333333,
              "#9c179e"
             ],
             [
              0.4444444444444444,
              "#bd3786"
             ],
             [
              0.5555555555555556,
              "#d8576b"
             ],
             [
              0.6666666666666666,
              "#ed7953"
             ],
             [
              0.7777777777777778,
              "#fb9f3a"
             ],
             [
              0.8888888888888888,
              "#fdca26"
             ],
             [
              1,
              "#f0f921"
             ]
            ],
            "type": "histogram2d"
           }
          ],
          "histogram2dcontour": [
           {
            "colorbar": {
             "outlinewidth": 0,
             "ticks": ""
            },
            "colorscale": [
             [
              0,
              "#0d0887"
             ],
             [
              0.1111111111111111,
              "#46039f"
             ],
             [
              0.2222222222222222,
              "#7201a8"
             ],
             [
              0.3333333333333333,
              "#9c179e"
             ],
             [
              0.4444444444444444,
              "#bd3786"
             ],
             [
              0.5555555555555556,
              "#d8576b"
             ],
             [
              0.6666666666666666,
              "#ed7953"
             ],
             [
              0.7777777777777778,
              "#fb9f3a"
             ],
             [
              0.8888888888888888,
              "#fdca26"
             ],
             [
              1,
              "#f0f921"
             ]
            ],
            "type": "histogram2dcontour"
           }
          ],
          "mesh3d": [
           {
            "colorbar": {
             "outlinewidth": 0,
             "ticks": ""
            },
            "type": "mesh3d"
           }
          ],
          "parcoords": [
           {
            "line": {
             "colorbar": {
              "outlinewidth": 0,
              "ticks": ""
             }
            },
            "type": "parcoords"
           }
          ],
          "pie": [
           {
            "automargin": true,
            "type": "pie"
           }
          ],
          "scatter": [
           {
            "fillpattern": {
             "fillmode": "overlay",
             "size": 10,
             "solidity": 0.2
            },
            "type": "scatter"
           }
          ],
          "scatter3d": [
           {
            "line": {
             "colorbar": {
              "outlinewidth": 0,
              "ticks": ""
             }
            },
            "marker": {
             "colorbar": {
              "outlinewidth": 0,
              "ticks": ""
             }
            },
            "type": "scatter3d"
           }
          ],
          "scattercarpet": [
           {
            "marker": {
             "colorbar": {
              "outlinewidth": 0,
              "ticks": ""
             }
            },
            "type": "scattercarpet"
           }
          ],
          "scattergeo": [
           {
            "marker": {
             "colorbar": {
              "outlinewidth": 0,
              "ticks": ""
             }
            },
            "type": "scattergeo"
           }
          ],
          "scattergl": [
           {
            "marker": {
             "colorbar": {
              "outlinewidth": 0,
              "ticks": ""
             }
            },
            "type": "scattergl"
           }
          ],
          "scattermapbox": [
           {
            "marker": {
             "colorbar": {
              "outlinewidth": 0,
              "ticks": ""
             }
            },
            "type": "scattermapbox"
           }
          ],
          "scatterpolar": [
           {
            "marker": {
             "colorbar": {
              "outlinewidth": 0,
              "ticks": ""
             }
            },
            "type": "scatterpolar"
           }
          ],
          "scatterpolargl": [
           {
            "marker": {
             "colorbar": {
              "outlinewidth": 0,
              "ticks": ""
             }
            },
            "type": "scatterpolargl"
           }
          ],
          "scatterternary": [
           {
            "marker": {
             "colorbar": {
              "outlinewidth": 0,
              "ticks": ""
             }
            },
            "type": "scatterternary"
           }
          ],
          "surface": [
           {
            "colorbar": {
             "outlinewidth": 0,
             "ticks": ""
            },
            "colorscale": [
             [
              0,
              "#0d0887"
             ],
             [
              0.1111111111111111,
              "#46039f"
             ],
             [
              0.2222222222222222,
              "#7201a8"
             ],
             [
              0.3333333333333333,
              "#9c179e"
             ],
             [
              0.4444444444444444,
              "#bd3786"
             ],
             [
              0.5555555555555556,
              "#d8576b"
             ],
             [
              0.6666666666666666,
              "#ed7953"
             ],
             [
              0.7777777777777778,
              "#fb9f3a"
             ],
             [
              0.8888888888888888,
              "#fdca26"
             ],
             [
              1,
              "#f0f921"
             ]
            ],
            "type": "surface"
           }
          ],
          "table": [
           {
            "cells": {
             "fill": {
              "color": "#EBF0F8"
             },
             "line": {
              "color": "white"
             }
            },
            "header": {
             "fill": {
              "color": "#C8D4E3"
             },
             "line": {
              "color": "white"
             }
            },
            "type": "table"
           }
          ]
         },
         "layout": {
          "annotationdefaults": {
           "arrowcolor": "#2a3f5f",
           "arrowhead": 0,
           "arrowwidth": 1
          },
          "autotypenumbers": "strict",
          "coloraxis": {
           "colorbar": {
            "outlinewidth": 0,
            "ticks": ""
           }
          },
          "colorscale": {
           "diverging": [
            [
             0,
             "#8e0152"
            ],
            [
             0.1,
             "#c51b7d"
            ],
            [
             0.2,
             "#de77ae"
            ],
            [
             0.3,
             "#f1b6da"
            ],
            [
             0.4,
             "#fde0ef"
            ],
            [
             0.5,
             "#f7f7f7"
            ],
            [
             0.6,
             "#e6f5d0"
            ],
            [
             0.7,
             "#b8e186"
            ],
            [
             0.8,
             "#7fbc41"
            ],
            [
             0.9,
             "#4d9221"
            ],
            [
             1,
             "#276419"
            ]
           ],
           "sequential": [
            [
             0,
             "#0d0887"
            ],
            [
             0.1111111111111111,
             "#46039f"
            ],
            [
             0.2222222222222222,
             "#7201a8"
            ],
            [
             0.3333333333333333,
             "#9c179e"
            ],
            [
             0.4444444444444444,
             "#bd3786"
            ],
            [
             0.5555555555555556,
             "#d8576b"
            ],
            [
             0.6666666666666666,
             "#ed7953"
            ],
            [
             0.7777777777777778,
             "#fb9f3a"
            ],
            [
             0.8888888888888888,
             "#fdca26"
            ],
            [
             1,
             "#f0f921"
            ]
           ],
           "sequentialminus": [
            [
             0,
             "#0d0887"
            ],
            [
             0.1111111111111111,
             "#46039f"
            ],
            [
             0.2222222222222222,
             "#7201a8"
            ],
            [
             0.3333333333333333,
             "#9c179e"
            ],
            [
             0.4444444444444444,
             "#bd3786"
            ],
            [
             0.5555555555555556,
             "#d8576b"
            ],
            [
             0.6666666666666666,
             "#ed7953"
            ],
            [
             0.7777777777777778,
             "#fb9f3a"
            ],
            [
             0.8888888888888888,
             "#fdca26"
            ],
            [
             1,
             "#f0f921"
            ]
           ]
          },
          "colorway": [
           "#636efa",
           "#EF553B",
           "#00cc96",
           "#ab63fa",
           "#FFA15A",
           "#19d3f3",
           "#FF6692",
           "#B6E880",
           "#FF97FF",
           "#FECB52"
          ],
          "font": {
           "color": "#2a3f5f"
          },
          "geo": {
           "bgcolor": "white",
           "lakecolor": "white",
           "landcolor": "#E5ECF6",
           "showlakes": true,
           "showland": true,
           "subunitcolor": "white"
          },
          "hoverlabel": {
           "align": "left"
          },
          "hovermode": "closest",
          "mapbox": {
           "style": "light"
          },
          "paper_bgcolor": "white",
          "plot_bgcolor": "#E5ECF6",
          "polar": {
           "angularaxis": {
            "gridcolor": "white",
            "linecolor": "white",
            "ticks": ""
           },
           "bgcolor": "#E5ECF6",
           "radialaxis": {
            "gridcolor": "white",
            "linecolor": "white",
            "ticks": ""
           }
          },
          "scene": {
           "xaxis": {
            "backgroundcolor": "#E5ECF6",
            "gridcolor": "white",
            "gridwidth": 2,
            "linecolor": "white",
            "showbackground": true,
            "ticks": "",
            "zerolinecolor": "white"
           },
           "yaxis": {
            "backgroundcolor": "#E5ECF6",
            "gridcolor": "white",
            "gridwidth": 2,
            "linecolor": "white",
            "showbackground": true,
            "ticks": "",
            "zerolinecolor": "white"
           },
           "zaxis": {
            "backgroundcolor": "#E5ECF6",
            "gridcolor": "white",
            "gridwidth": 2,
            "linecolor": "white",
            "showbackground": true,
            "ticks": "",
            "zerolinecolor": "white"
           }
          },
          "shapedefaults": {
           "line": {
            "color": "#2a3f5f"
           }
          },
          "ternary": {
           "aaxis": {
            "gridcolor": "white",
            "linecolor": "white",
            "ticks": ""
           },
           "baxis": {
            "gridcolor": "white",
            "linecolor": "white",
            "ticks": ""
           },
           "bgcolor": "#E5ECF6",
           "caxis": {
            "gridcolor": "white",
            "linecolor": "white",
            "ticks": ""
           }
          },
          "title": {
           "x": 0.05
          },
          "xaxis": {
           "automargin": true,
           "gridcolor": "white",
           "linecolor": "white",
           "ticks": "",
           "title": {
            "standoff": 15
           },
           "zerolinecolor": "white",
           "zerolinewidth": 2
          },
          "yaxis": {
           "automargin": true,
           "gridcolor": "white",
           "linecolor": "white",
           "ticks": "",
           "title": {
            "standoff": 15
           },
           "zerolinecolor": "white",
           "zerolinewidth": 2
          }
         }
        },
        "width": 800,
        "xaxis": {
         "anchor": "y",
         "domain": [
          0,
          1
         ],
         "ticktext": [
          "153",
          "314",
          "443",
          "574",
          "759",
          "1019",
          "1445",
          "2094",
          "3540",
          "16673"
         ],
         "tickvals": [
          153.5,
          314.1,
          443.4000000000001,
          574.3000000000001,
          759.75,
          1019.4500000000004,
          1445.1000000000004,
          2094.1000000000004,
          3540.9500000000003,
          16673.75
         ],
         "title": {
          "text": "Program length (characters)"
         },
         "type": "category"
        },
        "yaxis": {
         "anchor": "x",
         "domain": [
          0,
          1
         ],
         "title": {
          "text": "# of test files"
         }
        }
       }
      }
     },
     "metadata": {},
     "output_type": "display_data"
    }
   ],
   "source": [
    "num_char_num_programs_df = pd.DataFrame(columns=[\"Program length (characters)\", \"# of test files\"])\n",
    "x_ticks_num_char = [key[1] for key in list(bin_num_char_num_programs.keys())]\n",
    "num_char_num_programs_df[\"Program length (characters)\"] = x_ticks_num_char\n",
    "num_char_num_programs_df[\"# of test files\"] = list(bin_num_char_num_programs.values())\n",
    "\n",
    "num_char_bar_fig = px.bar(num_char_num_programs_df, x=\"Program length (characters)\", y=\"# of test files\")\n",
    "num_char_bar_fig.update_layout(xaxis_type='category', width=800, height=450)\n",
    "num_char_bar_fig.update_xaxes(tickvals=x_ticks_num_char, ticktext=[str(int(x)) for x in x_ticks_num_char])\n",
    "num_char_bar_fig.show()"
   ]
  },
  {
   "cell_type": "code",
   "execution_count": 9,
   "metadata": {},
   "outputs": [
    {
     "data": {
      "application/vnd.plotly.v1+json": {
       "config": {
        "plotlyServerURL": "https://plot.ly"
       },
       "data": [
        {
         "alignmentgroup": "True",
         "hovertemplate": "Hint quantity (characters)=%{x}<br># of test files=%{y}<extra></extra>",
         "legendgroup": "",
         "marker": {
          "color": "#636efa",
          "pattern": {
           "shape": ""
          }
         },
         "name": "",
         "offsetgroup": "",
         "orientation": "v",
         "showlegend": false,
         "textposition": "auto",
         "type": "bar",
         "x": [
          0,
          19.10000000000001,
          55.60000000000001,
          85.20000000000002,
          114.70000000000002,
          156.80000000000004,
          207.15000000000006,
          279.6500000000001,
          440.20000000000005,
          3286.4
         ],
         "xaxis": "x",
         "y": [
          0,
          157,
          74,
          82,
          78,
          78,
          78,
          78,
          78,
          79
         ],
         "yaxis": "y"
        }
       ],
       "layout": {
        "barmode": "relative",
        "height": 450,
        "legend": {
         "tracegroupgap": 0
        },
        "margin": {
         "t": 60
        },
        "template": {
         "data": {
          "bar": [
           {
            "error_x": {
             "color": "#2a3f5f"
            },
            "error_y": {
             "color": "#2a3f5f"
            },
            "marker": {
             "line": {
              "color": "#E5ECF6",
              "width": 0.5
             },
             "pattern": {
              "fillmode": "overlay",
              "size": 10,
              "solidity": 0.2
             }
            },
            "type": "bar"
           }
          ],
          "barpolar": [
           {
            "marker": {
             "line": {
              "color": "#E5ECF6",
              "width": 0.5
             },
             "pattern": {
              "fillmode": "overlay",
              "size": 10,
              "solidity": 0.2
             }
            },
            "type": "barpolar"
           }
          ],
          "carpet": [
           {
            "aaxis": {
             "endlinecolor": "#2a3f5f",
             "gridcolor": "white",
             "linecolor": "white",
             "minorgridcolor": "white",
             "startlinecolor": "#2a3f5f"
            },
            "baxis": {
             "endlinecolor": "#2a3f5f",
             "gridcolor": "white",
             "linecolor": "white",
             "minorgridcolor": "white",
             "startlinecolor": "#2a3f5f"
            },
            "type": "carpet"
           }
          ],
          "choropleth": [
           {
            "colorbar": {
             "outlinewidth": 0,
             "ticks": ""
            },
            "type": "choropleth"
           }
          ],
          "contour": [
           {
            "colorbar": {
             "outlinewidth": 0,
             "ticks": ""
            },
            "colorscale": [
             [
              0,
              "#0d0887"
             ],
             [
              0.1111111111111111,
              "#46039f"
             ],
             [
              0.2222222222222222,
              "#7201a8"
             ],
             [
              0.3333333333333333,
              "#9c179e"
             ],
             [
              0.4444444444444444,
              "#bd3786"
             ],
             [
              0.5555555555555556,
              "#d8576b"
             ],
             [
              0.6666666666666666,
              "#ed7953"
             ],
             [
              0.7777777777777778,
              "#fb9f3a"
             ],
             [
              0.8888888888888888,
              "#fdca26"
             ],
             [
              1,
              "#f0f921"
             ]
            ],
            "type": "contour"
           }
          ],
          "contourcarpet": [
           {
            "colorbar": {
             "outlinewidth": 0,
             "ticks": ""
            },
            "type": "contourcarpet"
           }
          ],
          "heatmap": [
           {
            "colorbar": {
             "outlinewidth": 0,
             "ticks": ""
            },
            "colorscale": [
             [
              0,
              "#0d0887"
             ],
             [
              0.1111111111111111,
              "#46039f"
             ],
             [
              0.2222222222222222,
              "#7201a8"
             ],
             [
              0.3333333333333333,
              "#9c179e"
             ],
             [
              0.4444444444444444,
              "#bd3786"
             ],
             [
              0.5555555555555556,
              "#d8576b"
             ],
             [
              0.6666666666666666,
              "#ed7953"
             ],
             [
              0.7777777777777778,
              "#fb9f3a"
             ],
             [
              0.8888888888888888,
              "#fdca26"
             ],
             [
              1,
              "#f0f921"
             ]
            ],
            "type": "heatmap"
           }
          ],
          "heatmapgl": [
           {
            "colorbar": {
             "outlinewidth": 0,
             "ticks": ""
            },
            "colorscale": [
             [
              0,
              "#0d0887"
             ],
             [
              0.1111111111111111,
              "#46039f"
             ],
             [
              0.2222222222222222,
              "#7201a8"
             ],
             [
              0.3333333333333333,
              "#9c179e"
             ],
             [
              0.4444444444444444,
              "#bd3786"
             ],
             [
              0.5555555555555556,
              "#d8576b"
             ],
             [
              0.6666666666666666,
              "#ed7953"
             ],
             [
              0.7777777777777778,
              "#fb9f3a"
             ],
             [
              0.8888888888888888,
              "#fdca26"
             ],
             [
              1,
              "#f0f921"
             ]
            ],
            "type": "heatmapgl"
           }
          ],
          "histogram": [
           {
            "marker": {
             "pattern": {
              "fillmode": "overlay",
              "size": 10,
              "solidity": 0.2
             }
            },
            "type": "histogram"
           }
          ],
          "histogram2d": [
           {
            "colorbar": {
             "outlinewidth": 0,
             "ticks": ""
            },
            "colorscale": [
             [
              0,
              "#0d0887"
             ],
             [
              0.1111111111111111,
              "#46039f"
             ],
             [
              0.2222222222222222,
              "#7201a8"
             ],
             [
              0.3333333333333333,
              "#9c179e"
             ],
             [
              0.4444444444444444,
              "#bd3786"
             ],
             [
              0.5555555555555556,
              "#d8576b"
             ],
             [
              0.6666666666666666,
              "#ed7953"
             ],
             [
              0.7777777777777778,
              "#fb9f3a"
             ],
             [
              0.8888888888888888,
              "#fdca26"
             ],
             [
              1,
              "#f0f921"
             ]
            ],
            "type": "histogram2d"
           }
          ],
          "histogram2dcontour": [
           {
            "colorbar": {
             "outlinewidth": 0,
             "ticks": ""
            },
            "colorscale": [
             [
              0,
              "#0d0887"
             ],
             [
              0.1111111111111111,
              "#46039f"
             ],
             [
              0.2222222222222222,
              "#7201a8"
             ],
             [
              0.3333333333333333,
              "#9c179e"
             ],
             [
              0.4444444444444444,
              "#bd3786"
             ],
             [
              0.5555555555555556,
              "#d8576b"
             ],
             [
              0.6666666666666666,
              "#ed7953"
             ],
             [
              0.7777777777777778,
              "#fb9f3a"
             ],
             [
              0.8888888888888888,
              "#fdca26"
             ],
             [
              1,
              "#f0f921"
             ]
            ],
            "type": "histogram2dcontour"
           }
          ],
          "mesh3d": [
           {
            "colorbar": {
             "outlinewidth": 0,
             "ticks": ""
            },
            "type": "mesh3d"
           }
          ],
          "parcoords": [
           {
            "line": {
             "colorbar": {
              "outlinewidth": 0,
              "ticks": ""
             }
            },
            "type": "parcoords"
           }
          ],
          "pie": [
           {
            "automargin": true,
            "type": "pie"
           }
          ],
          "scatter": [
           {
            "fillpattern": {
             "fillmode": "overlay",
             "size": 10,
             "solidity": 0.2
            },
            "type": "scatter"
           }
          ],
          "scatter3d": [
           {
            "line": {
             "colorbar": {
              "outlinewidth": 0,
              "ticks": ""
             }
            },
            "marker": {
             "colorbar": {
              "outlinewidth": 0,
              "ticks": ""
             }
            },
            "type": "scatter3d"
           }
          ],
          "scattercarpet": [
           {
            "marker": {
             "colorbar": {
              "outlinewidth": 0,
              "ticks": ""
             }
            },
            "type": "scattercarpet"
           }
          ],
          "scattergeo": [
           {
            "marker": {
             "colorbar": {
              "outlinewidth": 0,
              "ticks": ""
             }
            },
            "type": "scattergeo"
           }
          ],
          "scattergl": [
           {
            "marker": {
             "colorbar": {
              "outlinewidth": 0,
              "ticks": ""
             }
            },
            "type": "scattergl"
           }
          ],
          "scattermapbox": [
           {
            "marker": {
             "colorbar": {
              "outlinewidth": 0,
              "ticks": ""
             }
            },
            "type": "scattermapbox"
           }
          ],
          "scatterpolar": [
           {
            "marker": {
             "colorbar": {
              "outlinewidth": 0,
              "ticks": ""
             }
            },
            "type": "scatterpolar"
           }
          ],
          "scatterpolargl": [
           {
            "marker": {
             "colorbar": {
              "outlinewidth": 0,
              "ticks": ""
             }
            },
            "type": "scatterpolargl"
           }
          ],
          "scatterternary": [
           {
            "marker": {
             "colorbar": {
              "outlinewidth": 0,
              "ticks": ""
             }
            },
            "type": "scatterternary"
           }
          ],
          "surface": [
           {
            "colorbar": {
             "outlinewidth": 0,
             "ticks": ""
            },
            "colorscale": [
             [
              0,
              "#0d0887"
             ],
             [
              0.1111111111111111,
              "#46039f"
             ],
             [
              0.2222222222222222,
              "#7201a8"
             ],
             [
              0.3333333333333333,
              "#9c179e"
             ],
             [
              0.4444444444444444,
              "#bd3786"
             ],
             [
              0.5555555555555556,
              "#d8576b"
             ],
             [
              0.6666666666666666,
              "#ed7953"
             ],
             [
              0.7777777777777778,
              "#fb9f3a"
             ],
             [
              0.8888888888888888,
              "#fdca26"
             ],
             [
              1,
              "#f0f921"
             ]
            ],
            "type": "surface"
           }
          ],
          "table": [
           {
            "cells": {
             "fill": {
              "color": "#EBF0F8"
             },
             "line": {
              "color": "white"
             }
            },
            "header": {
             "fill": {
              "color": "#C8D4E3"
             },
             "line": {
              "color": "white"
             }
            },
            "type": "table"
           }
          ]
         },
         "layout": {
          "annotationdefaults": {
           "arrowcolor": "#2a3f5f",
           "arrowhead": 0,
           "arrowwidth": 1
          },
          "autotypenumbers": "strict",
          "coloraxis": {
           "colorbar": {
            "outlinewidth": 0,
            "ticks": ""
           }
          },
          "colorscale": {
           "diverging": [
            [
             0,
             "#8e0152"
            ],
            [
             0.1,
             "#c51b7d"
            ],
            [
             0.2,
             "#de77ae"
            ],
            [
             0.3,
             "#f1b6da"
            ],
            [
             0.4,
             "#fde0ef"
            ],
            [
             0.5,
             "#f7f7f7"
            ],
            [
             0.6,
             "#e6f5d0"
            ],
            [
             0.7,
             "#b8e186"
            ],
            [
             0.8,
             "#7fbc41"
            ],
            [
             0.9,
             "#4d9221"
            ],
            [
             1,
             "#276419"
            ]
           ],
           "sequential": [
            [
             0,
             "#0d0887"
            ],
            [
             0.1111111111111111,
             "#46039f"
            ],
            [
             0.2222222222222222,
             "#7201a8"
            ],
            [
             0.3333333333333333,
             "#9c179e"
            ],
            [
             0.4444444444444444,
             "#bd3786"
            ],
            [
             0.5555555555555556,
             "#d8576b"
            ],
            [
             0.6666666666666666,
             "#ed7953"
            ],
            [
             0.7777777777777778,
             "#fb9f3a"
            ],
            [
             0.8888888888888888,
             "#fdca26"
            ],
            [
             1,
             "#f0f921"
            ]
           ],
           "sequentialminus": [
            [
             0,
             "#0d0887"
            ],
            [
             0.1111111111111111,
             "#46039f"
            ],
            [
             0.2222222222222222,
             "#7201a8"
            ],
            [
             0.3333333333333333,
             "#9c179e"
            ],
            [
             0.4444444444444444,
             "#bd3786"
            ],
            [
             0.5555555555555556,
             "#d8576b"
            ],
            [
             0.6666666666666666,
             "#ed7953"
            ],
            [
             0.7777777777777778,
             "#fb9f3a"
            ],
            [
             0.8888888888888888,
             "#fdca26"
            ],
            [
             1,
             "#f0f921"
            ]
           ]
          },
          "colorway": [
           "#636efa",
           "#EF553B",
           "#00cc96",
           "#ab63fa",
           "#FFA15A",
           "#19d3f3",
           "#FF6692",
           "#B6E880",
           "#FF97FF",
           "#FECB52"
          ],
          "font": {
           "color": "#2a3f5f"
          },
          "geo": {
           "bgcolor": "white",
           "lakecolor": "white",
           "landcolor": "#E5ECF6",
           "showlakes": true,
           "showland": true,
           "subunitcolor": "white"
          },
          "hoverlabel": {
           "align": "left"
          },
          "hovermode": "closest",
          "mapbox": {
           "style": "light"
          },
          "paper_bgcolor": "white",
          "plot_bgcolor": "#E5ECF6",
          "polar": {
           "angularaxis": {
            "gridcolor": "white",
            "linecolor": "white",
            "ticks": ""
           },
           "bgcolor": "#E5ECF6",
           "radialaxis": {
            "gridcolor": "white",
            "linecolor": "white",
            "ticks": ""
           }
          },
          "scene": {
           "xaxis": {
            "backgroundcolor": "#E5ECF6",
            "gridcolor": "white",
            "gridwidth": 2,
            "linecolor": "white",
            "showbackground": true,
            "ticks": "",
            "zerolinecolor": "white"
           },
           "yaxis": {
            "backgroundcolor": "#E5ECF6",
            "gridcolor": "white",
            "gridwidth": 2,
            "linecolor": "white",
            "showbackground": true,
            "ticks": "",
            "zerolinecolor": "white"
           },
           "zaxis": {
            "backgroundcolor": "#E5ECF6",
            "gridcolor": "white",
            "gridwidth": 2,
            "linecolor": "white",
            "showbackground": true,
            "ticks": "",
            "zerolinecolor": "white"
           }
          },
          "shapedefaults": {
           "line": {
            "color": "#2a3f5f"
           }
          },
          "ternary": {
           "aaxis": {
            "gridcolor": "white",
            "linecolor": "white",
            "ticks": ""
           },
           "baxis": {
            "gridcolor": "white",
            "linecolor": "white",
            "ticks": ""
           },
           "bgcolor": "#E5ECF6",
           "caxis": {
            "gridcolor": "white",
            "linecolor": "white",
            "ticks": ""
           }
          },
          "title": {
           "x": 0.05
          },
          "xaxis": {
           "automargin": true,
           "gridcolor": "white",
           "linecolor": "white",
           "ticks": "",
           "title": {
            "standoff": 15
           },
           "zerolinecolor": "white",
           "zerolinewidth": 2
          },
          "yaxis": {
           "automargin": true,
           "gridcolor": "white",
           "linecolor": "white",
           "ticks": "",
           "title": {
            "standoff": 15
           },
           "zerolinecolor": "white",
           "zerolinewidth": 2
          }
         }
        },
        "width": 800,
        "xaxis": {
         "anchor": "y",
         "domain": [
          0,
          1
         ],
         "ticktext": [
          "0",
          "19",
          "55",
          "85",
          "114",
          "156",
          "207",
          "279",
          "440",
          "3286"
         ],
         "tickvals": [
          0,
          19.10000000000001,
          55.60000000000001,
          85.20000000000002,
          114.70000000000002,
          156.80000000000004,
          207.15000000000006,
          279.6500000000001,
          440.20000000000005,
          3286.4
         ],
         "title": {
          "text": "Hint quantity (characters)"
         },
         "type": "category"
        },
        "yaxis": {
         "anchor": "x",
         "domain": [
          0,
          1
         ],
         "title": {
          "text": "# of test files"
         }
        }
       }
      }
     },
     "metadata": {},
     "output_type": "display_data"
    }
   ],
   "source": [
    "num_hint_char_num_programs_df = pd.DataFrame(columns=[\"Hint quantity (characters)\", \"# of test files\"])\n",
    "x_ticks_num_hint_char = [key[1] for key in list(bin_num_hint_char_num_programs.keys())]\n",
    "num_hint_char_num_programs_df[\"Hint quantity (characters)\"] = x_ticks_num_hint_char\n",
    "num_hint_char_num_programs_df[\"# of test files\"] = list(bin_num_hint_char_num_programs.values())\n",
    "\n",
    "num_hint_char_bar_fig = px.bar(num_hint_char_num_programs_df, x=\"Hint quantity (characters)\", y=\"# of test files\")\n",
    "num_hint_char_bar_fig.update_layout(xaxis_type='category', width=800, height=450)\n",
    "num_hint_char_bar_fig.update_xaxes(tickvals=x_ticks_num_hint_char, ticktext=[str(int(x)) for x in x_ticks_num_hint_char])\n",
    "num_hint_char_bar_fig.show()"
   ]
  },
  {
   "cell_type": "code",
   "execution_count": 10,
   "metadata": {},
   "outputs": [
    {
     "data": {
      "application/vnd.plotly.v1+json": {
       "config": {
        "plotlyServerURL": "https://plot.ly"
       },
       "data": [
        {
         "alignmentgroup": "True",
         "hovertemplate": "# of lemmas=%{x}<br># of test files=%{y}<extra></extra>",
         "legendgroup": "",
         "marker": {
          "color": "#636efa",
          "pattern": {
           "shape": ""
          }
         },
         "name": "",
         "offsetgroup": "",
         "orientation": "v",
         "showlegend": false,
         "textposition": "auto",
         "type": "bar",
         "x": [
          0,
          0.5,
          2.5,
          23
         ],
         "xaxis": "x",
         "y": [
          0,
          624,
          70,
          88
         ],
         "yaxis": "y"
        }
       ],
       "layout": {
        "barmode": "relative",
        "height": 450,
        "legend": {
         "tracegroupgap": 0
        },
        "margin": {
         "t": 60
        },
        "template": {
         "data": {
          "bar": [
           {
            "error_x": {
             "color": "#2a3f5f"
            },
            "error_y": {
             "color": "#2a3f5f"
            },
            "marker": {
             "line": {
              "color": "#E5ECF6",
              "width": 0.5
             },
             "pattern": {
              "fillmode": "overlay",
              "size": 10,
              "solidity": 0.2
             }
            },
            "type": "bar"
           }
          ],
          "barpolar": [
           {
            "marker": {
             "line": {
              "color": "#E5ECF6",
              "width": 0.5
             },
             "pattern": {
              "fillmode": "overlay",
              "size": 10,
              "solidity": 0.2
             }
            },
            "type": "barpolar"
           }
          ],
          "carpet": [
           {
            "aaxis": {
             "endlinecolor": "#2a3f5f",
             "gridcolor": "white",
             "linecolor": "white",
             "minorgridcolor": "white",
             "startlinecolor": "#2a3f5f"
            },
            "baxis": {
             "endlinecolor": "#2a3f5f",
             "gridcolor": "white",
             "linecolor": "white",
             "minorgridcolor": "white",
             "startlinecolor": "#2a3f5f"
            },
            "type": "carpet"
           }
          ],
          "choropleth": [
           {
            "colorbar": {
             "outlinewidth": 0,
             "ticks": ""
            },
            "type": "choropleth"
           }
          ],
          "contour": [
           {
            "colorbar": {
             "outlinewidth": 0,
             "ticks": ""
            },
            "colorscale": [
             [
              0,
              "#0d0887"
             ],
             [
              0.1111111111111111,
              "#46039f"
             ],
             [
              0.2222222222222222,
              "#7201a8"
             ],
             [
              0.3333333333333333,
              "#9c179e"
             ],
             [
              0.4444444444444444,
              "#bd3786"
             ],
             [
              0.5555555555555556,
              "#d8576b"
             ],
             [
              0.6666666666666666,
              "#ed7953"
             ],
             [
              0.7777777777777778,
              "#fb9f3a"
             ],
             [
              0.8888888888888888,
              "#fdca26"
             ],
             [
              1,
              "#f0f921"
             ]
            ],
            "type": "contour"
           }
          ],
          "contourcarpet": [
           {
            "colorbar": {
             "outlinewidth": 0,
             "ticks": ""
            },
            "type": "contourcarpet"
           }
          ],
          "heatmap": [
           {
            "colorbar": {
             "outlinewidth": 0,
             "ticks": ""
            },
            "colorscale": [
             [
              0,
              "#0d0887"
             ],
             [
              0.1111111111111111,
              "#46039f"
             ],
             [
              0.2222222222222222,
              "#7201a8"
             ],
             [
              0.3333333333333333,
              "#9c179e"
             ],
             [
              0.4444444444444444,
              "#bd3786"
             ],
             [
              0.5555555555555556,
              "#d8576b"
             ],
             [
              0.6666666666666666,
              "#ed7953"
             ],
             [
              0.7777777777777778,
              "#fb9f3a"
             ],
             [
              0.8888888888888888,
              "#fdca26"
             ],
             [
              1,
              "#f0f921"
             ]
            ],
            "type": "heatmap"
           }
          ],
          "heatmapgl": [
           {
            "colorbar": {
             "outlinewidth": 0,
             "ticks": ""
            },
            "colorscale": [
             [
              0,
              "#0d0887"
             ],
             [
              0.1111111111111111,
              "#46039f"
             ],
             [
              0.2222222222222222,
              "#7201a8"
             ],
             [
              0.3333333333333333,
              "#9c179e"
             ],
             [
              0.4444444444444444,
              "#bd3786"
             ],
             [
              0.5555555555555556,
              "#d8576b"
             ],
             [
              0.6666666666666666,
              "#ed7953"
             ],
             [
              0.7777777777777778,
              "#fb9f3a"
             ],
             [
              0.8888888888888888,
              "#fdca26"
             ],
             [
              1,
              "#f0f921"
             ]
            ],
            "type": "heatmapgl"
           }
          ],
          "histogram": [
           {
            "marker": {
             "pattern": {
              "fillmode": "overlay",
              "size": 10,
              "solidity": 0.2
             }
            },
            "type": "histogram"
           }
          ],
          "histogram2d": [
           {
            "colorbar": {
             "outlinewidth": 0,
             "ticks": ""
            },
            "colorscale": [
             [
              0,
              "#0d0887"
             ],
             [
              0.1111111111111111,
              "#46039f"
             ],
             [
              0.2222222222222222,
              "#7201a8"
             ],
             [
              0.3333333333333333,
              "#9c179e"
             ],
             [
              0.4444444444444444,
              "#bd3786"
             ],
             [
              0.5555555555555556,
              "#d8576b"
             ],
             [
              0.6666666666666666,
              "#ed7953"
             ],
             [
              0.7777777777777778,
              "#fb9f3a"
             ],
             [
              0.8888888888888888,
              "#fdca26"
             ],
             [
              1,
              "#f0f921"
             ]
            ],
            "type": "histogram2d"
           }
          ],
          "histogram2dcontour": [
           {
            "colorbar": {
             "outlinewidth": 0,
             "ticks": ""
            },
            "colorscale": [
             [
              0,
              "#0d0887"
             ],
             [
              0.1111111111111111,
              "#46039f"
             ],
             [
              0.2222222222222222,
              "#7201a8"
             ],
             [
              0.3333333333333333,
              "#9c179e"
             ],
             [
              0.4444444444444444,
              "#bd3786"
             ],
             [
              0.5555555555555556,
              "#d8576b"
             ],
             [
              0.6666666666666666,
              "#ed7953"
             ],
             [
              0.7777777777777778,
              "#fb9f3a"
             ],
             [
              0.8888888888888888,
              "#fdca26"
             ],
             [
              1,
              "#f0f921"
             ]
            ],
            "type": "histogram2dcontour"
           }
          ],
          "mesh3d": [
           {
            "colorbar": {
             "outlinewidth": 0,
             "ticks": ""
            },
            "type": "mesh3d"
           }
          ],
          "parcoords": [
           {
            "line": {
             "colorbar": {
              "outlinewidth": 0,
              "ticks": ""
             }
            },
            "type": "parcoords"
           }
          ],
          "pie": [
           {
            "automargin": true,
            "type": "pie"
           }
          ],
          "scatter": [
           {
            "fillpattern": {
             "fillmode": "overlay",
             "size": 10,
             "solidity": 0.2
            },
            "type": "scatter"
           }
          ],
          "scatter3d": [
           {
            "line": {
             "colorbar": {
              "outlinewidth": 0,
              "ticks": ""
             }
            },
            "marker": {
             "colorbar": {
              "outlinewidth": 0,
              "ticks": ""
             }
            },
            "type": "scatter3d"
           }
          ],
          "scattercarpet": [
           {
            "marker": {
             "colorbar": {
              "outlinewidth": 0,
              "ticks": ""
             }
            },
            "type": "scattercarpet"
           }
          ],
          "scattergeo": [
           {
            "marker": {
             "colorbar": {
              "outlinewidth": 0,
              "ticks": ""
             }
            },
            "type": "scattergeo"
           }
          ],
          "scattergl": [
           {
            "marker": {
             "colorbar": {
              "outlinewidth": 0,
              "ticks": ""
             }
            },
            "type": "scattergl"
           }
          ],
          "scattermapbox": [
           {
            "marker": {
             "colorbar": {
              "outlinewidth": 0,
              "ticks": ""
             }
            },
            "type": "scattermapbox"
           }
          ],
          "scatterpolar": [
           {
            "marker": {
             "colorbar": {
              "outlinewidth": 0,
              "ticks": ""
             }
            },
            "type": "scatterpolar"
           }
          ],
          "scatterpolargl": [
           {
            "marker": {
             "colorbar": {
              "outlinewidth": 0,
              "ticks": ""
             }
            },
            "type": "scatterpolargl"
           }
          ],
          "scatterternary": [
           {
            "marker": {
             "colorbar": {
              "outlinewidth": 0,
              "ticks": ""
             }
            },
            "type": "scatterternary"
           }
          ],
          "surface": [
           {
            "colorbar": {
             "outlinewidth": 0,
             "ticks": ""
            },
            "colorscale": [
             [
              0,
              "#0d0887"
             ],
             [
              0.1111111111111111,
              "#46039f"
             ],
             [
              0.2222222222222222,
              "#7201a8"
             ],
             [
              0.3333333333333333,
              "#9c179e"
             ],
             [
              0.4444444444444444,
              "#bd3786"
             ],
             [
              0.5555555555555556,
              "#d8576b"
             ],
             [
              0.6666666666666666,
              "#ed7953"
             ],
             [
              0.7777777777777778,
              "#fb9f3a"
             ],
             [
              0.8888888888888888,
              "#fdca26"
             ],
             [
              1,
              "#f0f921"
             ]
            ],
            "type": "surface"
           }
          ],
          "table": [
           {
            "cells": {
             "fill": {
              "color": "#EBF0F8"
             },
             "line": {
              "color": "white"
             }
            },
            "header": {
             "fill": {
              "color": "#C8D4E3"
             },
             "line": {
              "color": "white"
             }
            },
            "type": "table"
           }
          ]
         },
         "layout": {
          "annotationdefaults": {
           "arrowcolor": "#2a3f5f",
           "arrowhead": 0,
           "arrowwidth": 1
          },
          "autotypenumbers": "strict",
          "coloraxis": {
           "colorbar": {
            "outlinewidth": 0,
            "ticks": ""
           }
          },
          "colorscale": {
           "diverging": [
            [
             0,
             "#8e0152"
            ],
            [
             0.1,
             "#c51b7d"
            ],
            [
             0.2,
             "#de77ae"
            ],
            [
             0.3,
             "#f1b6da"
            ],
            [
             0.4,
             "#fde0ef"
            ],
            [
             0.5,
             "#f7f7f7"
            ],
            [
             0.6,
             "#e6f5d0"
            ],
            [
             0.7,
             "#b8e186"
            ],
            [
             0.8,
             "#7fbc41"
            ],
            [
             0.9,
             "#4d9221"
            ],
            [
             1,
             "#276419"
            ]
           ],
           "sequential": [
            [
             0,
             "#0d0887"
            ],
            [
             0.1111111111111111,
             "#46039f"
            ],
            [
             0.2222222222222222,
             "#7201a8"
            ],
            [
             0.3333333333333333,
             "#9c179e"
            ],
            [
             0.4444444444444444,
             "#bd3786"
            ],
            [
             0.5555555555555556,
             "#d8576b"
            ],
            [
             0.6666666666666666,
             "#ed7953"
            ],
            [
             0.7777777777777778,
             "#fb9f3a"
            ],
            [
             0.8888888888888888,
             "#fdca26"
            ],
            [
             1,
             "#f0f921"
            ]
           ],
           "sequentialminus": [
            [
             0,
             "#0d0887"
            ],
            [
             0.1111111111111111,
             "#46039f"
            ],
            [
             0.2222222222222222,
             "#7201a8"
            ],
            [
             0.3333333333333333,
             "#9c179e"
            ],
            [
             0.4444444444444444,
             "#bd3786"
            ],
            [
             0.5555555555555556,
             "#d8576b"
            ],
            [
             0.6666666666666666,
             "#ed7953"
            ],
            [
             0.7777777777777778,
             "#fb9f3a"
            ],
            [
             0.8888888888888888,
             "#fdca26"
            ],
            [
             1,
             "#f0f921"
            ]
           ]
          },
          "colorway": [
           "#636efa",
           "#EF553B",
           "#00cc96",
           "#ab63fa",
           "#FFA15A",
           "#19d3f3",
           "#FF6692",
           "#B6E880",
           "#FF97FF",
           "#FECB52"
          ],
          "font": {
           "color": "#2a3f5f"
          },
          "geo": {
           "bgcolor": "white",
           "lakecolor": "white",
           "landcolor": "#E5ECF6",
           "showlakes": true,
           "showland": true,
           "subunitcolor": "white"
          },
          "hoverlabel": {
           "align": "left"
          },
          "hovermode": "closest",
          "mapbox": {
           "style": "light"
          },
          "paper_bgcolor": "white",
          "plot_bgcolor": "#E5ECF6",
          "polar": {
           "angularaxis": {
            "gridcolor": "white",
            "linecolor": "white",
            "ticks": ""
           },
           "bgcolor": "#E5ECF6",
           "radialaxis": {
            "gridcolor": "white",
            "linecolor": "white",
            "ticks": ""
           }
          },
          "scene": {
           "xaxis": {
            "backgroundcolor": "#E5ECF6",
            "gridcolor": "white",
            "gridwidth": 2,
            "linecolor": "white",
            "showbackground": true,
            "ticks": "",
            "zerolinecolor": "white"
           },
           "yaxis": {
            "backgroundcolor": "#E5ECF6",
            "gridcolor": "white",
            "gridwidth": 2,
            "linecolor": "white",
            "showbackground": true,
            "ticks": "",
            "zerolinecolor": "white"
           },
           "zaxis": {
            "backgroundcolor": "#E5ECF6",
            "gridcolor": "white",
            "gridwidth": 2,
            "linecolor": "white",
            "showbackground": true,
            "ticks": "",
            "zerolinecolor": "white"
           }
          },
          "shapedefaults": {
           "line": {
            "color": "#2a3f5f"
           }
          },
          "ternary": {
           "aaxis": {
            "gridcolor": "white",
            "linecolor": "white",
            "ticks": ""
           },
           "baxis": {
            "gridcolor": "white",
            "linecolor": "white",
            "ticks": ""
           },
           "bgcolor": "#E5ECF6",
           "caxis": {
            "gridcolor": "white",
            "linecolor": "white",
            "ticks": ""
           }
          },
          "title": {
           "x": 0.05
          },
          "xaxis": {
           "automargin": true,
           "gridcolor": "white",
           "linecolor": "white",
           "ticks": "",
           "title": {
            "standoff": 15
           },
           "zerolinecolor": "white",
           "zerolinewidth": 2
          },
          "yaxis": {
           "automargin": true,
           "gridcolor": "white",
           "linecolor": "white",
           "ticks": "",
           "title": {
            "standoff": 15
           },
           "zerolinecolor": "white",
           "zerolinewidth": 2
          }
         }
        },
        "width": 800,
        "xaxis": {
         "anchor": "y",
         "domain": [
          0,
          1
         ],
         "ticktext": [
          "0",
          "0",
          "2",
          "23"
         ],
         "tickvals": [
          0,
          0.5,
          2.5,
          23
         ],
         "title": {
          "text": "# of lemmas"
         },
         "type": "category"
        },
        "yaxis": {
         "anchor": "x",
         "domain": [
          0,
          1
         ],
         "title": {
          "text": "# of test files"
         }
        }
       }
      }
     },
     "metadata": {},
     "output_type": "display_data"
    }
   ],
   "source": [
    "num_lemma_num_programs_df = pd.DataFrame(columns=[\"# of lemmas\", \"# of test files\"])\n",
    "x_ticks_num_lemma = [key[1] for key in list(bin_num_lemma_num_programs.keys())]\n",
    "num_lemma_num_programs_df[\"# of lemmas\"] = x_ticks_num_lemma\n",
    "num_lemma_num_programs_df[\"# of test files\"] = list(bin_num_lemma_num_programs.values())\n",
    "\n",
    "num_lemma_bar_fig = px.bar(num_lemma_num_programs_df, x=\"# of lemmas\", y=\"# of test files\")\n",
    "num_lemma_bar_fig.update_layout(xaxis_type='category', width=800, height=450)\n",
    "num_lemma_bar_fig.update_xaxes(tickvals=x_ticks_num_lemma, ticktext=[str(int(x)) for x in x_ticks_num_lemma])\n",
    "num_lemma_bar_fig.show()"
   ]
  },
  {
   "cell_type": "code",
   "execution_count": 11,
   "metadata": {},
   "outputs": [
    {
     "data": {
      "text/html": [
       "<div>\n",
       "<style scoped>\n",
       "    .dataframe tbody tr th:only-of-type {\n",
       "        vertical-align: middle;\n",
       "    }\n",
       "\n",
       "    .dataframe tbody tr th {\n",
       "        vertical-align: top;\n",
       "    }\n",
       "\n",
       "    .dataframe thead th {\n",
       "        text-align: right;\n",
       "    }\n",
       "</style>\n",
       "<table border=\"1\" class=\"dataframe\">\n",
       "  <thead>\n",
       "    <tr style=\"text-align: right;\">\n",
       "      <th></th>\n",
       "      <th>Model</th>\n",
       "      <th>Program length (characters)</th>\n",
       "      <th>Left endpoints</th>\n",
       "      <th>Right endpoints</th>\n",
       "      <th>Bin half width</th>\n",
       "      <th>Success rate</th>\n",
       "      <th>Error</th>\n",
       "    </tr>\n",
       "  </thead>\n",
       "  <tbody>\n",
       "    <tr>\n",
       "      <th>0</th>\n",
       "      <td>GPT-4o</td>\n",
       "      <td>153.50</td>\n",
       "      <td>70.0</td>\n",
       "      <td>237.0</td>\n",
       "      <td>83.50</td>\n",
       "      <td>0.961538</td>\n",
       "      <td>0.021775</td>\n",
       "    </tr>\n",
       "    <tr>\n",
       "      <th>1</th>\n",
       "      <td>GPT-4o</td>\n",
       "      <td>314.10</td>\n",
       "      <td>237.0</td>\n",
       "      <td>391.2</td>\n",
       "      <td>77.10</td>\n",
       "      <td>0.911392</td>\n",
       "      <td>0.031972</td>\n",
       "    </tr>\n",
       "    <tr>\n",
       "      <th>2</th>\n",
       "      <td>GPT-4o</td>\n",
       "      <td>443.40</td>\n",
       "      <td>391.2</td>\n",
       "      <td>495.6</td>\n",
       "      <td>52.20</td>\n",
       "      <td>0.846154</td>\n",
       "      <td>0.040853</td>\n",
       "    </tr>\n",
       "    <tr>\n",
       "      <th>3</th>\n",
       "      <td>GPT-4o</td>\n",
       "      <td>574.30</td>\n",
       "      <td>495.6</td>\n",
       "      <td>653.0</td>\n",
       "      <td>78.70</td>\n",
       "      <td>0.844156</td>\n",
       "      <td>0.041334</td>\n",
       "    </tr>\n",
       "    <tr>\n",
       "      <th>4</th>\n",
       "      <td>GPT-4o</td>\n",
       "      <td>759.75</td>\n",
       "      <td>653.0</td>\n",
       "      <td>866.5</td>\n",
       "      <td>106.75</td>\n",
       "      <td>0.721519</td>\n",
       "      <td>0.050432</td>\n",
       "    </tr>\n",
       "    <tr>\n",
       "      <th>5</th>\n",
       "      <td>GPT-4o</td>\n",
       "      <td>1019.45</td>\n",
       "      <td>866.5</td>\n",
       "      <td>1172.4</td>\n",
       "      <td>152.95</td>\n",
       "      <td>0.487179</td>\n",
       "      <td>0.056595</td>\n",
       "    </tr>\n",
       "    <tr>\n",
       "      <th>6</th>\n",
       "      <td>GPT-4o</td>\n",
       "      <td>1445.10</td>\n",
       "      <td>1172.4</td>\n",
       "      <td>1717.8</td>\n",
       "      <td>272.70</td>\n",
       "      <td>0.564103</td>\n",
       "      <td>0.056147</td>\n",
       "    </tr>\n",
       "    <tr>\n",
       "      <th>7</th>\n",
       "      <td>GPT-4o</td>\n",
       "      <td>2094.10</td>\n",
       "      <td>1717.8</td>\n",
       "      <td>2470.4</td>\n",
       "      <td>376.30</td>\n",
       "      <td>0.461538</td>\n",
       "      <td>0.056446</td>\n",
       "    </tr>\n",
       "    <tr>\n",
       "      <th>8</th>\n",
       "      <td>GPT-4o</td>\n",
       "      <td>3540.95</td>\n",
       "      <td>2470.4</td>\n",
       "      <td>4611.5</td>\n",
       "      <td>1070.55</td>\n",
       "      <td>0.269231</td>\n",
       "      <td>0.050223</td>\n",
       "    </tr>\n",
       "    <tr>\n",
       "      <th>9</th>\n",
       "      <td>GPT-4o</td>\n",
       "      <td>16673.75</td>\n",
       "      <td>4611.5</td>\n",
       "      <td>28736.0</td>\n",
       "      <td>12062.25</td>\n",
       "      <td>0.202532</td>\n",
       "      <td>0.045216</td>\n",
       "    </tr>\n",
       "    <tr>\n",
       "      <th>10</th>\n",
       "      <td>GPT-4-turbo</td>\n",
       "      <td>153.50</td>\n",
       "      <td>70.0</td>\n",
       "      <td>237.0</td>\n",
       "      <td>83.50</td>\n",
       "      <td>0.974359</td>\n",
       "      <td>0.017897</td>\n",
       "    </tr>\n",
       "    <tr>\n",
       "      <th>11</th>\n",
       "      <td>GPT-4-turbo</td>\n",
       "      <td>314.10</td>\n",
       "      <td>237.0</td>\n",
       "      <td>391.2</td>\n",
       "      <td>77.10</td>\n",
       "      <td>0.936709</td>\n",
       "      <td>0.027394</td>\n",
       "    </tr>\n",
       "    <tr>\n",
       "      <th>12</th>\n",
       "      <td>GPT-4-turbo</td>\n",
       "      <td>443.40</td>\n",
       "      <td>391.2</td>\n",
       "      <td>495.6</td>\n",
       "      <td>52.20</td>\n",
       "      <td>0.897436</td>\n",
       "      <td>0.034352</td>\n",
       "    </tr>\n",
       "    <tr>\n",
       "      <th>13</th>\n",
       "      <td>GPT-4-turbo</td>\n",
       "      <td>574.30</td>\n",
       "      <td>495.6</td>\n",
       "      <td>653.0</td>\n",
       "      <td>78.70</td>\n",
       "      <td>0.896104</td>\n",
       "      <td>0.034772</td>\n",
       "    </tr>\n",
       "    <tr>\n",
       "      <th>14</th>\n",
       "      <td>GPT-4-turbo</td>\n",
       "      <td>759.75</td>\n",
       "      <td>653.0</td>\n",
       "      <td>866.5</td>\n",
       "      <td>106.75</td>\n",
       "      <td>0.696203</td>\n",
       "      <td>0.051742</td>\n",
       "    </tr>\n",
       "    <tr>\n",
       "      <th>15</th>\n",
       "      <td>GPT-4-turbo</td>\n",
       "      <td>1019.45</td>\n",
       "      <td>866.5</td>\n",
       "      <td>1172.4</td>\n",
       "      <td>152.95</td>\n",
       "      <td>0.461538</td>\n",
       "      <td>0.056446</td>\n",
       "    </tr>\n",
       "    <tr>\n",
       "      <th>16</th>\n",
       "      <td>GPT-4-turbo</td>\n",
       "      <td>1445.10</td>\n",
       "      <td>1172.4</td>\n",
       "      <td>1717.8</td>\n",
       "      <td>272.70</td>\n",
       "      <td>0.461538</td>\n",
       "      <td>0.056446</td>\n",
       "    </tr>\n",
       "    <tr>\n",
       "      <th>17</th>\n",
       "      <td>GPT-4-turbo</td>\n",
       "      <td>2094.10</td>\n",
       "      <td>1717.8</td>\n",
       "      <td>2470.4</td>\n",
       "      <td>376.30</td>\n",
       "      <td>0.371795</td>\n",
       "      <td>0.054721</td>\n",
       "    </tr>\n",
       "    <tr>\n",
       "      <th>18</th>\n",
       "      <td>GPT-4-turbo</td>\n",
       "      <td>3540.95</td>\n",
       "      <td>2470.4</td>\n",
       "      <td>4611.5</td>\n",
       "      <td>1070.55</td>\n",
       "      <td>0.243590</td>\n",
       "      <td>0.048603</td>\n",
       "    </tr>\n",
       "    <tr>\n",
       "      <th>19</th>\n",
       "      <td>GPT-4-turbo</td>\n",
       "      <td>16673.75</td>\n",
       "      <td>4611.5</td>\n",
       "      <td>28736.0</td>\n",
       "      <td>12062.25</td>\n",
       "      <td>0.202532</td>\n",
       "      <td>0.045216</td>\n",
       "    </tr>\n",
       "    <tr>\n",
       "      <th>20</th>\n",
       "      <td>GPT-3.5-turbo</td>\n",
       "      <td>153.50</td>\n",
       "      <td>70.0</td>\n",
       "      <td>237.0</td>\n",
       "      <td>83.50</td>\n",
       "      <td>0.807692</td>\n",
       "      <td>0.044625</td>\n",
       "    </tr>\n",
       "    <tr>\n",
       "      <th>21</th>\n",
       "      <td>GPT-3.5-turbo</td>\n",
       "      <td>314.10</td>\n",
       "      <td>237.0</td>\n",
       "      <td>391.2</td>\n",
       "      <td>77.10</td>\n",
       "      <td>0.696203</td>\n",
       "      <td>0.051742</td>\n",
       "    </tr>\n",
       "    <tr>\n",
       "      <th>22</th>\n",
       "      <td>GPT-3.5-turbo</td>\n",
       "      <td>443.40</td>\n",
       "      <td>391.2</td>\n",
       "      <td>495.6</td>\n",
       "      <td>52.20</td>\n",
       "      <td>0.602564</td>\n",
       "      <td>0.055410</td>\n",
       "    </tr>\n",
       "    <tr>\n",
       "      <th>23</th>\n",
       "      <td>GPT-3.5-turbo</td>\n",
       "      <td>574.30</td>\n",
       "      <td>495.6</td>\n",
       "      <td>653.0</td>\n",
       "      <td>78.70</td>\n",
       "      <td>0.506494</td>\n",
       "      <td>0.056975</td>\n",
       "    </tr>\n",
       "    <tr>\n",
       "      <th>24</th>\n",
       "      <td>GPT-3.5-turbo</td>\n",
       "      <td>759.75</td>\n",
       "      <td>653.0</td>\n",
       "      <td>866.5</td>\n",
       "      <td>106.75</td>\n",
       "      <td>0.430380</td>\n",
       "      <td>0.055706</td>\n",
       "    </tr>\n",
       "    <tr>\n",
       "      <th>25</th>\n",
       "      <td>GPT-3.5-turbo</td>\n",
       "      <td>1019.45</td>\n",
       "      <td>866.5</td>\n",
       "      <td>1172.4</td>\n",
       "      <td>152.95</td>\n",
       "      <td>0.282051</td>\n",
       "      <td>0.050952</td>\n",
       "    </tr>\n",
       "    <tr>\n",
       "      <th>26</th>\n",
       "      <td>GPT-3.5-turbo</td>\n",
       "      <td>1445.10</td>\n",
       "      <td>1172.4</td>\n",
       "      <td>1717.8</td>\n",
       "      <td>272.70</td>\n",
       "      <td>0.320513</td>\n",
       "      <td>0.052840</td>\n",
       "    </tr>\n",
       "    <tr>\n",
       "      <th>27</th>\n",
       "      <td>GPT-3.5-turbo</td>\n",
       "      <td>2094.10</td>\n",
       "      <td>1717.8</td>\n",
       "      <td>2470.4</td>\n",
       "      <td>376.30</td>\n",
       "      <td>0.269231</td>\n",
       "      <td>0.050223</td>\n",
       "    </tr>\n",
       "    <tr>\n",
       "      <th>28</th>\n",
       "      <td>GPT-3.5-turbo</td>\n",
       "      <td>3540.95</td>\n",
       "      <td>2470.4</td>\n",
       "      <td>4611.5</td>\n",
       "      <td>1070.55</td>\n",
       "      <td>0.179487</td>\n",
       "      <td>0.043452</td>\n",
       "    </tr>\n",
       "    <tr>\n",
       "      <th>29</th>\n",
       "      <td>GPT-3.5-turbo</td>\n",
       "      <td>16673.75</td>\n",
       "      <td>4611.5</td>\n",
       "      <td>28736.0</td>\n",
       "      <td>12062.25</td>\n",
       "      <td>0.189873</td>\n",
       "      <td>0.044126</td>\n",
       "    </tr>\n",
       "    <tr>\n",
       "      <th>30</th>\n",
       "      <td>Claude-3-Opus</td>\n",
       "      <td>153.50</td>\n",
       "      <td>70.0</td>\n",
       "      <td>237.0</td>\n",
       "      <td>83.50</td>\n",
       "      <td>0.961538</td>\n",
       "      <td>0.021775</td>\n",
       "    </tr>\n",
       "    <tr>\n",
       "      <th>31</th>\n",
       "      <td>Claude-3-Opus</td>\n",
       "      <td>314.10</td>\n",
       "      <td>237.0</td>\n",
       "      <td>391.2</td>\n",
       "      <td>77.10</td>\n",
       "      <td>0.949367</td>\n",
       "      <td>0.024667</td>\n",
       "    </tr>\n",
       "    <tr>\n",
       "      <th>32</th>\n",
       "      <td>Claude-3-Opus</td>\n",
       "      <td>443.40</td>\n",
       "      <td>391.2</td>\n",
       "      <td>495.6</td>\n",
       "      <td>52.20</td>\n",
       "      <td>0.935897</td>\n",
       "      <td>0.027733</td>\n",
       "    </tr>\n",
       "    <tr>\n",
       "      <th>33</th>\n",
       "      <td>Claude-3-Opus</td>\n",
       "      <td>574.30</td>\n",
       "      <td>495.6</td>\n",
       "      <td>653.0</td>\n",
       "      <td>78.70</td>\n",
       "      <td>0.948052</td>\n",
       "      <td>0.025290</td>\n",
       "    </tr>\n",
       "    <tr>\n",
       "      <th>34</th>\n",
       "      <td>Claude-3-Opus</td>\n",
       "      <td>759.75</td>\n",
       "      <td>653.0</td>\n",
       "      <td>866.5</td>\n",
       "      <td>106.75</td>\n",
       "      <td>0.797468</td>\n",
       "      <td>0.045216</td>\n",
       "    </tr>\n",
       "    <tr>\n",
       "      <th>35</th>\n",
       "      <td>Claude-3-Opus</td>\n",
       "      <td>1019.45</td>\n",
       "      <td>866.5</td>\n",
       "      <td>1172.4</td>\n",
       "      <td>152.95</td>\n",
       "      <td>0.653846</td>\n",
       "      <td>0.053867</td>\n",
       "    </tr>\n",
       "    <tr>\n",
       "      <th>36</th>\n",
       "      <td>Claude-3-Opus</td>\n",
       "      <td>1445.10</td>\n",
       "      <td>1172.4</td>\n",
       "      <td>1717.8</td>\n",
       "      <td>272.70</td>\n",
       "      <td>0.666667</td>\n",
       "      <td>0.053376</td>\n",
       "    </tr>\n",
       "    <tr>\n",
       "      <th>37</th>\n",
       "      <td>Claude-3-Opus</td>\n",
       "      <td>2094.10</td>\n",
       "      <td>1717.8</td>\n",
       "      <td>2470.4</td>\n",
       "      <td>376.30</td>\n",
       "      <td>0.525641</td>\n",
       "      <td>0.056539</td>\n",
       "    </tr>\n",
       "    <tr>\n",
       "      <th>38</th>\n",
       "      <td>Claude-3-Opus</td>\n",
       "      <td>3540.95</td>\n",
       "      <td>2470.4</td>\n",
       "      <td>4611.5</td>\n",
       "      <td>1070.55</td>\n",
       "      <td>0.205128</td>\n",
       "      <td>0.045721</td>\n",
       "    </tr>\n",
       "    <tr>\n",
       "      <th>39</th>\n",
       "      <td>Claude-3-Opus</td>\n",
       "      <td>16673.75</td>\n",
       "      <td>4611.5</td>\n",
       "      <td>28736.0</td>\n",
       "      <td>12062.25</td>\n",
       "      <td>0.215190</td>\n",
       "      <td>0.046236</td>\n",
       "    </tr>\n",
       "    <tr>\n",
       "      <th>40</th>\n",
       "      <td>CodeLlama-7b</td>\n",
       "      <td>153.50</td>\n",
       "      <td>70.0</td>\n",
       "      <td>237.0</td>\n",
       "      <td>83.50</td>\n",
       "      <td>0.666667</td>\n",
       "      <td>0.053376</td>\n",
       "    </tr>\n",
       "    <tr>\n",
       "      <th>41</th>\n",
       "      <td>CodeLlama-7b</td>\n",
       "      <td>314.10</td>\n",
       "      <td>237.0</td>\n",
       "      <td>391.2</td>\n",
       "      <td>77.10</td>\n",
       "      <td>0.443038</td>\n",
       "      <td>0.055888</td>\n",
       "    </tr>\n",
       "    <tr>\n",
       "      <th>42</th>\n",
       "      <td>CodeLlama-7b</td>\n",
       "      <td>443.40</td>\n",
       "      <td>391.2</td>\n",
       "      <td>495.6</td>\n",
       "      <td>52.20</td>\n",
       "      <td>0.294872</td>\n",
       "      <td>0.051630</td>\n",
       "    </tr>\n",
       "    <tr>\n",
       "      <th>43</th>\n",
       "      <td>CodeLlama-7b</td>\n",
       "      <td>574.30</td>\n",
       "      <td>495.6</td>\n",
       "      <td>653.0</td>\n",
       "      <td>78.70</td>\n",
       "      <td>0.246753</td>\n",
       "      <td>0.049131</td>\n",
       "    </tr>\n",
       "    <tr>\n",
       "      <th>44</th>\n",
       "      <td>CodeLlama-7b</td>\n",
       "      <td>759.75</td>\n",
       "      <td>653.0</td>\n",
       "      <td>866.5</td>\n",
       "      <td>106.75</td>\n",
       "      <td>0.151899</td>\n",
       "      <td>0.040382</td>\n",
       "    </tr>\n",
       "    <tr>\n",
       "      <th>45</th>\n",
       "      <td>CodeLlama-7b</td>\n",
       "      <td>1019.45</td>\n",
       "      <td>866.5</td>\n",
       "      <td>1172.4</td>\n",
       "      <td>152.95</td>\n",
       "      <td>0.153846</td>\n",
       "      <td>0.040853</td>\n",
       "    </tr>\n",
       "    <tr>\n",
       "      <th>46</th>\n",
       "      <td>CodeLlama-7b</td>\n",
       "      <td>1445.10</td>\n",
       "      <td>1172.4</td>\n",
       "      <td>1717.8</td>\n",
       "      <td>272.70</td>\n",
       "      <td>0.230769</td>\n",
       "      <td>0.047706</td>\n",
       "    </tr>\n",
       "    <tr>\n",
       "      <th>47</th>\n",
       "      <td>CodeLlama-7b</td>\n",
       "      <td>2094.10</td>\n",
       "      <td>1717.8</td>\n",
       "      <td>2470.4</td>\n",
       "      <td>376.30</td>\n",
       "      <td>0.166667</td>\n",
       "      <td>0.042197</td>\n",
       "    </tr>\n",
       "    <tr>\n",
       "      <th>48</th>\n",
       "      <td>CodeLlama-7b</td>\n",
       "      <td>3540.95</td>\n",
       "      <td>2470.4</td>\n",
       "      <td>4611.5</td>\n",
       "      <td>1070.55</td>\n",
       "      <td>0.153846</td>\n",
       "      <td>0.040853</td>\n",
       "    </tr>\n",
       "    <tr>\n",
       "      <th>49</th>\n",
       "      <td>CodeLlama-7b</td>\n",
       "      <td>16673.75</td>\n",
       "      <td>4611.5</td>\n",
       "      <td>28736.0</td>\n",
       "      <td>12062.25</td>\n",
       "      <td>0.177215</td>\n",
       "      <td>0.042962</td>\n",
       "    </tr>\n",
       "  </tbody>\n",
       "</table>\n",
       "</div>"
      ],
      "text/plain": [
       "            Model  Program length (characters)  Left endpoints  \\\n",
       "0          GPT-4o                       153.50            70.0   \n",
       "1          GPT-4o                       314.10           237.0   \n",
       "2          GPT-4o                       443.40           391.2   \n",
       "3          GPT-4o                       574.30           495.6   \n",
       "4          GPT-4o                       759.75           653.0   \n",
       "5          GPT-4o                      1019.45           866.5   \n",
       "6          GPT-4o                      1445.10          1172.4   \n",
       "7          GPT-4o                      2094.10          1717.8   \n",
       "8          GPT-4o                      3540.95          2470.4   \n",
       "9          GPT-4o                     16673.75          4611.5   \n",
       "10    GPT-4-turbo                       153.50            70.0   \n",
       "11    GPT-4-turbo                       314.10           237.0   \n",
       "12    GPT-4-turbo                       443.40           391.2   \n",
       "13    GPT-4-turbo                       574.30           495.6   \n",
       "14    GPT-4-turbo                       759.75           653.0   \n",
       "15    GPT-4-turbo                      1019.45           866.5   \n",
       "16    GPT-4-turbo                      1445.10          1172.4   \n",
       "17    GPT-4-turbo                      2094.10          1717.8   \n",
       "18    GPT-4-turbo                      3540.95          2470.4   \n",
       "19    GPT-4-turbo                     16673.75          4611.5   \n",
       "20  GPT-3.5-turbo                       153.50            70.0   \n",
       "21  GPT-3.5-turbo                       314.10           237.0   \n",
       "22  GPT-3.5-turbo                       443.40           391.2   \n",
       "23  GPT-3.5-turbo                       574.30           495.6   \n",
       "24  GPT-3.5-turbo                       759.75           653.0   \n",
       "25  GPT-3.5-turbo                      1019.45           866.5   \n",
       "26  GPT-3.5-turbo                      1445.10          1172.4   \n",
       "27  GPT-3.5-turbo                      2094.10          1717.8   \n",
       "28  GPT-3.5-turbo                      3540.95          2470.4   \n",
       "29  GPT-3.5-turbo                     16673.75          4611.5   \n",
       "30  Claude-3-Opus                       153.50            70.0   \n",
       "31  Claude-3-Opus                       314.10           237.0   \n",
       "32  Claude-3-Opus                       443.40           391.2   \n",
       "33  Claude-3-Opus                       574.30           495.6   \n",
       "34  Claude-3-Opus                       759.75           653.0   \n",
       "35  Claude-3-Opus                      1019.45           866.5   \n",
       "36  Claude-3-Opus                      1445.10          1172.4   \n",
       "37  Claude-3-Opus                      2094.10          1717.8   \n",
       "38  Claude-3-Opus                      3540.95          2470.4   \n",
       "39  Claude-3-Opus                     16673.75          4611.5   \n",
       "40   CodeLlama-7b                       153.50            70.0   \n",
       "41   CodeLlama-7b                       314.10           237.0   \n",
       "42   CodeLlama-7b                       443.40           391.2   \n",
       "43   CodeLlama-7b                       574.30           495.6   \n",
       "44   CodeLlama-7b                       759.75           653.0   \n",
       "45   CodeLlama-7b                      1019.45           866.5   \n",
       "46   CodeLlama-7b                      1445.10          1172.4   \n",
       "47   CodeLlama-7b                      2094.10          1717.8   \n",
       "48   CodeLlama-7b                      3540.95          2470.4   \n",
       "49   CodeLlama-7b                     16673.75          4611.5   \n",
       "\n",
       "    Right endpoints  Bin half width  Success rate     Error  \n",
       "0             237.0           83.50      0.961538  0.021775  \n",
       "1             391.2           77.10      0.911392  0.031972  \n",
       "2             495.6           52.20      0.846154  0.040853  \n",
       "3             653.0           78.70      0.844156  0.041334  \n",
       "4             866.5          106.75      0.721519  0.050432  \n",
       "5            1172.4          152.95      0.487179  0.056595  \n",
       "6            1717.8          272.70      0.564103  0.056147  \n",
       "7            2470.4          376.30      0.461538  0.056446  \n",
       "8            4611.5         1070.55      0.269231  0.050223  \n",
       "9           28736.0        12062.25      0.202532  0.045216  \n",
       "10            237.0           83.50      0.974359  0.017897  \n",
       "11            391.2           77.10      0.936709  0.027394  \n",
       "12            495.6           52.20      0.897436  0.034352  \n",
       "13            653.0           78.70      0.896104  0.034772  \n",
       "14            866.5          106.75      0.696203  0.051742  \n",
       "15           1172.4          152.95      0.461538  0.056446  \n",
       "16           1717.8          272.70      0.461538  0.056446  \n",
       "17           2470.4          376.30      0.371795  0.054721  \n",
       "18           4611.5         1070.55      0.243590  0.048603  \n",
       "19          28736.0        12062.25      0.202532  0.045216  \n",
       "20            237.0           83.50      0.807692  0.044625  \n",
       "21            391.2           77.10      0.696203  0.051742  \n",
       "22            495.6           52.20      0.602564  0.055410  \n",
       "23            653.0           78.70      0.506494  0.056975  \n",
       "24            866.5          106.75      0.430380  0.055706  \n",
       "25           1172.4          152.95      0.282051  0.050952  \n",
       "26           1717.8          272.70      0.320513  0.052840  \n",
       "27           2470.4          376.30      0.269231  0.050223  \n",
       "28           4611.5         1070.55      0.179487  0.043452  \n",
       "29          28736.0        12062.25      0.189873  0.044126  \n",
       "30            237.0           83.50      0.961538  0.021775  \n",
       "31            391.2           77.10      0.949367  0.024667  \n",
       "32            495.6           52.20      0.935897  0.027733  \n",
       "33            653.0           78.70      0.948052  0.025290  \n",
       "34            866.5          106.75      0.797468  0.045216  \n",
       "35           1172.4          152.95      0.653846  0.053867  \n",
       "36           1717.8          272.70      0.666667  0.053376  \n",
       "37           2470.4          376.30      0.525641  0.056539  \n",
       "38           4611.5         1070.55      0.205128  0.045721  \n",
       "39          28736.0        12062.25      0.215190  0.046236  \n",
       "40            237.0           83.50      0.666667  0.053376  \n",
       "41            391.2           77.10      0.443038  0.055888  \n",
       "42            495.6           52.20      0.294872  0.051630  \n",
       "43            653.0           78.70      0.246753  0.049131  \n",
       "44            866.5          106.75      0.151899  0.040382  \n",
       "45           1172.4          152.95      0.153846  0.040853  \n",
       "46           1717.8          272.70      0.230769  0.047706  \n",
       "47           2470.4          376.30      0.166667  0.042197  \n",
       "48           4611.5         1070.55      0.153846  0.040853  \n",
       "49          28736.0        12062.25      0.177215  0.042962  "
      ]
     },
     "execution_count": 11,
     "metadata": {},
     "output_type": "execute_result"
    }
   ],
   "source": [
    "num_char_df = pd.DataFrame(columns=[\"Model\", \"Program length (characters)\", \"Left endpoints\", \"Right endpoints\", \"Bin half width\", \"Success rate\", \"Error\"])\n",
    "\n",
    "bin_left_num_char, bin_mid_num_char, bin_right_num_char = [], [], []\n",
    "for i in [list(gpt4o_bin_num_char_mean.keys()), list(gpt4_bin_num_char_mean.keys()), list(gpt35_bin_num_char_mean.keys()), list(claude3_bin_num_char_mean.keys()), list(codellama_bin_num_char_mean.keys())]:\n",
    "    for j in i:\n",
    "        bin_left_num_char.append(j[0])\n",
    "        bin_mid_num_char.append(j[1])\n",
    "        bin_right_num_char.append(j[2])\n",
    "\n",
    "num_char_df[\"Model\"] = [\"GPT-4o\"] * len(gpt4o_bin_num_char_mean.keys()) + [\"GPT-4-turbo\"] * len(gpt4_bin_num_char_mean.keys()) + [\"GPT-3.5-turbo\"] * len(gpt35_bin_num_char_mean.keys()) + [\"Claude-3-Opus\"] * len(claude3_bin_num_char_mean.keys()) + [\"CodeLlama-7b\"] * len(codellama_bin_num_char_mean.keys())\n",
    "num_char_df[\"Program length (characters)\"] = bin_mid_num_char\n",
    "num_char_df[\"Left endpoints\"] = bin_left_num_char\n",
    "num_char_df[\"Right endpoints\"] = bin_right_num_char\n",
    "num_char_df[\"Bin half width\"] = (np.array(bin_right_num_char) - np.array(bin_left_num_char)) / 2.0\n",
    "num_char_df[\"Success rate\"] = list(gpt4o_bin_num_char_mean.values()) + list(gpt4_bin_num_char_mean.values()) + list(gpt35_bin_num_char_mean.values()) + list(claude3_bin_num_char_mean.values()) + list(codellama_bin_num_char_mean.values())\n",
    "num_char_df[\"Error\"] = list(gpt4o_bin_num_char_error.values()) + list(gpt4_bin_num_char_error.values()) + list(gpt35_bin_num_char_error.values()) + list(claude3_bin_num_char_error.values()) + list(codellama_bin_num_char_error.values())\n",
    "num_char_df"
   ]
  },
  {
   "cell_type": "code",
   "execution_count": 12,
   "metadata": {},
   "outputs": [],
   "source": [
    "num_char_bin_endpoints = list(set(num_char_df['Left endpoints']))\n",
    "num_char_bin_endpoints.remove(min(num_char_bin_endpoints))"
   ]
  },
  {
   "cell_type": "code",
   "execution_count": 13,
   "metadata": {},
   "outputs": [
    {
     "data": {
      "text/html": [
       "<div>\n",
       "<style scoped>\n",
       "    .dataframe tbody tr th:only-of-type {\n",
       "        vertical-align: middle;\n",
       "    }\n",
       "\n",
       "    .dataframe tbody tr th {\n",
       "        vertical-align: top;\n",
       "    }\n",
       "\n",
       "    .dataframe thead th {\n",
       "        text-align: right;\n",
       "    }\n",
       "</style>\n",
       "<table border=\"1\" class=\"dataframe\">\n",
       "  <thead>\n",
       "    <tr style=\"text-align: right;\">\n",
       "      <th></th>\n",
       "      <th>Model</th>\n",
       "      <th>Hint quantity (characters)</th>\n",
       "      <th>Left endpoints</th>\n",
       "      <th>Right endpoints</th>\n",
       "      <th>Bin half width</th>\n",
       "      <th>Success rate</th>\n",
       "      <th>Error</th>\n",
       "    </tr>\n",
       "  </thead>\n",
       "  <tbody>\n",
       "    <tr>\n",
       "      <th>0</th>\n",
       "      <td>GPT-4o</td>\n",
       "      <td>0.00</td>\n",
       "      <td>0.0</td>\n",
       "      <td>0.0</td>\n",
       "      <td>0.00</td>\n",
       "      <td>1.000000</td>\n",
       "      <td>0.000000</td>\n",
       "    </tr>\n",
       "    <tr>\n",
       "      <th>1</th>\n",
       "      <td>GPT-4o</td>\n",
       "      <td>19.10</td>\n",
       "      <td>0.0</td>\n",
       "      <td>38.2</td>\n",
       "      <td>19.10</td>\n",
       "      <td>0.898089</td>\n",
       "      <td>0.024145</td>\n",
       "    </tr>\n",
       "    <tr>\n",
       "      <th>2</th>\n",
       "      <td>GPT-4o</td>\n",
       "      <td>55.60</td>\n",
       "      <td>38.2</td>\n",
       "      <td>73.0</td>\n",
       "      <td>17.40</td>\n",
       "      <td>0.783784</td>\n",
       "      <td>0.047855</td>\n",
       "    </tr>\n",
       "    <tr>\n",
       "      <th>3</th>\n",
       "      <td>GPT-4o</td>\n",
       "      <td>85.20</td>\n",
       "      <td>73.0</td>\n",
       "      <td>97.4</td>\n",
       "      <td>12.20</td>\n",
       "      <td>0.768293</td>\n",
       "      <td>0.046594</td>\n",
       "    </tr>\n",
       "    <tr>\n",
       "      <th>4</th>\n",
       "      <td>GPT-4o</td>\n",
       "      <td>114.70</td>\n",
       "      <td>97.4</td>\n",
       "      <td>132.0</td>\n",
       "      <td>17.30</td>\n",
       "      <td>0.756410</td>\n",
       "      <td>0.048603</td>\n",
       "    </tr>\n",
       "    <tr>\n",
       "      <th>5</th>\n",
       "      <td>GPT-4o</td>\n",
       "      <td>156.80</td>\n",
       "      <td>132.0</td>\n",
       "      <td>181.6</td>\n",
       "      <td>24.80</td>\n",
       "      <td>0.756410</td>\n",
       "      <td>0.048603</td>\n",
       "    </tr>\n",
       "    <tr>\n",
       "      <th>6</th>\n",
       "      <td>GPT-4o</td>\n",
       "      <td>207.15</td>\n",
       "      <td>181.6</td>\n",
       "      <td>232.7</td>\n",
       "      <td>25.55</td>\n",
       "      <td>0.628205</td>\n",
       "      <td>0.054721</td>\n",
       "    </tr>\n",
       "    <tr>\n",
       "      <th>7</th>\n",
       "      <td>GPT-4o</td>\n",
       "      <td>279.65</td>\n",
       "      <td>232.7</td>\n",
       "      <td>326.6</td>\n",
       "      <td>46.95</td>\n",
       "      <td>0.384615</td>\n",
       "      <td>0.055086</td>\n",
       "    </tr>\n",
       "    <tr>\n",
       "      <th>8</th>\n",
       "      <td>GPT-4o</td>\n",
       "      <td>440.20</td>\n",
       "      <td>326.6</td>\n",
       "      <td>553.8</td>\n",
       "      <td>113.60</td>\n",
       "      <td>0.269231</td>\n",
       "      <td>0.050223</td>\n",
       "    </tr>\n",
       "    <tr>\n",
       "      <th>9</th>\n",
       "      <td>GPT-4o</td>\n",
       "      <td>3286.40</td>\n",
       "      <td>553.8</td>\n",
       "      <td>6019.0</td>\n",
       "      <td>2732.60</td>\n",
       "      <td>0.126582</td>\n",
       "      <td>0.037410</td>\n",
       "    </tr>\n",
       "    <tr>\n",
       "      <th>10</th>\n",
       "      <td>GPT-4-turbo</td>\n",
       "      <td>0.00</td>\n",
       "      <td>0.0</td>\n",
       "      <td>0.0</td>\n",
       "      <td>0.00</td>\n",
       "      <td>1.000000</td>\n",
       "      <td>0.000000</td>\n",
       "    </tr>\n",
       "    <tr>\n",
       "      <th>11</th>\n",
       "      <td>GPT-4-turbo</td>\n",
       "      <td>19.10</td>\n",
       "      <td>0.0</td>\n",
       "      <td>38.2</td>\n",
       "      <td>19.10</td>\n",
       "      <td>0.891720</td>\n",
       "      <td>0.024799</td>\n",
       "    </tr>\n",
       "    <tr>\n",
       "      <th>12</th>\n",
       "      <td>GPT-4-turbo</td>\n",
       "      <td>55.60</td>\n",
       "      <td>38.2</td>\n",
       "      <td>73.0</td>\n",
       "      <td>17.40</td>\n",
       "      <td>0.878378</td>\n",
       "      <td>0.037995</td>\n",
       "    </tr>\n",
       "    <tr>\n",
       "      <th>13</th>\n",
       "      <td>GPT-4-turbo</td>\n",
       "      <td>85.20</td>\n",
       "      <td>73.0</td>\n",
       "      <td>97.4</td>\n",
       "      <td>12.20</td>\n",
       "      <td>0.707317</td>\n",
       "      <td>0.050246</td>\n",
       "    </tr>\n",
       "    <tr>\n",
       "      <th>14</th>\n",
       "      <td>GPT-4-turbo</td>\n",
       "      <td>114.70</td>\n",
       "      <td>97.4</td>\n",
       "      <td>132.0</td>\n",
       "      <td>17.30</td>\n",
       "      <td>0.705128</td>\n",
       "      <td>0.051630</td>\n",
       "    </tr>\n",
       "    <tr>\n",
       "      <th>15</th>\n",
       "      <td>GPT-4-turbo</td>\n",
       "      <td>156.80</td>\n",
       "      <td>132.0</td>\n",
       "      <td>181.6</td>\n",
       "      <td>24.80</td>\n",
       "      <td>0.717949</td>\n",
       "      <td>0.050952</td>\n",
       "    </tr>\n",
       "    <tr>\n",
       "      <th>16</th>\n",
       "      <td>GPT-4-turbo</td>\n",
       "      <td>207.15</td>\n",
       "      <td>181.6</td>\n",
       "      <td>232.7</td>\n",
       "      <td>25.55</td>\n",
       "      <td>0.538462</td>\n",
       "      <td>0.056446</td>\n",
       "    </tr>\n",
       "    <tr>\n",
       "      <th>17</th>\n",
       "      <td>GPT-4-turbo</td>\n",
       "      <td>279.65</td>\n",
       "      <td>232.7</td>\n",
       "      <td>326.6</td>\n",
       "      <td>46.95</td>\n",
       "      <td>0.333333</td>\n",
       "      <td>0.053376</td>\n",
       "    </tr>\n",
       "    <tr>\n",
       "      <th>18</th>\n",
       "      <td>GPT-4-turbo</td>\n",
       "      <td>440.20</td>\n",
       "      <td>326.6</td>\n",
       "      <td>553.8</td>\n",
       "      <td>113.60</td>\n",
       "      <td>0.358974</td>\n",
       "      <td>0.054315</td>\n",
       "    </tr>\n",
       "    <tr>\n",
       "      <th>19</th>\n",
       "      <td>GPT-4-turbo</td>\n",
       "      <td>3286.40</td>\n",
       "      <td>553.8</td>\n",
       "      <td>6019.0</td>\n",
       "      <td>2732.60</td>\n",
       "      <td>0.126582</td>\n",
       "      <td>0.037410</td>\n",
       "    </tr>\n",
       "    <tr>\n",
       "      <th>20</th>\n",
       "      <td>GPT-3.5-turbo</td>\n",
       "      <td>0.00</td>\n",
       "      <td>0.0</td>\n",
       "      <td>0.0</td>\n",
       "      <td>0.00</td>\n",
       "      <td>1.000000</td>\n",
       "      <td>0.000000</td>\n",
       "    </tr>\n",
       "    <tr>\n",
       "      <th>21</th>\n",
       "      <td>GPT-3.5-turbo</td>\n",
       "      <td>19.10</td>\n",
       "      <td>0.0</td>\n",
       "      <td>38.2</td>\n",
       "      <td>19.10</td>\n",
       "      <td>0.802548</td>\n",
       "      <td>0.031770</td>\n",
       "    </tr>\n",
       "    <tr>\n",
       "      <th>22</th>\n",
       "      <td>GPT-3.5-turbo</td>\n",
       "      <td>55.60</td>\n",
       "      <td>38.2</td>\n",
       "      <td>73.0</td>\n",
       "      <td>17.40</td>\n",
       "      <td>0.527027</td>\n",
       "      <td>0.058039</td>\n",
       "    </tr>\n",
       "    <tr>\n",
       "      <th>23</th>\n",
       "      <td>GPT-3.5-turbo</td>\n",
       "      <td>85.20</td>\n",
       "      <td>73.0</td>\n",
       "      <td>97.4</td>\n",
       "      <td>12.20</td>\n",
       "      <td>0.475610</td>\n",
       "      <td>0.055150</td>\n",
       "    </tr>\n",
       "    <tr>\n",
       "      <th>24</th>\n",
       "      <td>GPT-3.5-turbo</td>\n",
       "      <td>114.70</td>\n",
       "      <td>97.4</td>\n",
       "      <td>132.0</td>\n",
       "      <td>17.30</td>\n",
       "      <td>0.500000</td>\n",
       "      <td>0.056614</td>\n",
       "    </tr>\n",
       "    <tr>\n",
       "      <th>25</th>\n",
       "      <td>GPT-3.5-turbo</td>\n",
       "      <td>156.80</td>\n",
       "      <td>132.0</td>\n",
       "      <td>181.6</td>\n",
       "      <td>24.80</td>\n",
       "      <td>0.410256</td>\n",
       "      <td>0.055694</td>\n",
       "    </tr>\n",
       "    <tr>\n",
       "      <th>26</th>\n",
       "      <td>GPT-3.5-turbo</td>\n",
       "      <td>207.15</td>\n",
       "      <td>181.6</td>\n",
       "      <td>232.7</td>\n",
       "      <td>25.55</td>\n",
       "      <td>0.371795</td>\n",
       "      <td>0.054721</td>\n",
       "    </tr>\n",
       "    <tr>\n",
       "      <th>27</th>\n",
       "      <td>GPT-3.5-turbo</td>\n",
       "      <td>279.65</td>\n",
       "      <td>232.7</td>\n",
       "      <td>326.6</td>\n",
       "      <td>46.95</td>\n",
       "      <td>0.179487</td>\n",
       "      <td>0.043452</td>\n",
       "    </tr>\n",
       "    <tr>\n",
       "      <th>28</th>\n",
       "      <td>GPT-3.5-turbo</td>\n",
       "      <td>440.20</td>\n",
       "      <td>326.6</td>\n",
       "      <td>553.8</td>\n",
       "      <td>113.60</td>\n",
       "      <td>0.153846</td>\n",
       "      <td>0.040853</td>\n",
       "    </tr>\n",
       "    <tr>\n",
       "      <th>29</th>\n",
       "      <td>GPT-3.5-turbo</td>\n",
       "      <td>3286.40</td>\n",
       "      <td>553.8</td>\n",
       "      <td>6019.0</td>\n",
       "      <td>2732.60</td>\n",
       "      <td>0.063291</td>\n",
       "      <td>0.027394</td>\n",
       "    </tr>\n",
       "    <tr>\n",
       "      <th>30</th>\n",
       "      <td>Claude-3-Opus</td>\n",
       "      <td>0.00</td>\n",
       "      <td>0.0</td>\n",
       "      <td>0.0</td>\n",
       "      <td>0.00</td>\n",
       "      <td>1.000000</td>\n",
       "      <td>0.000000</td>\n",
       "    </tr>\n",
       "    <tr>\n",
       "      <th>31</th>\n",
       "      <td>Claude-3-Opus</td>\n",
       "      <td>19.10</td>\n",
       "      <td>0.0</td>\n",
       "      <td>38.2</td>\n",
       "      <td>19.10</td>\n",
       "      <td>0.910828</td>\n",
       "      <td>0.022745</td>\n",
       "    </tr>\n",
       "    <tr>\n",
       "      <th>32</th>\n",
       "      <td>Claude-3-Opus</td>\n",
       "      <td>55.60</td>\n",
       "      <td>38.2</td>\n",
       "      <td>73.0</td>\n",
       "      <td>17.40</td>\n",
       "      <td>0.891892</td>\n",
       "      <td>0.036097</td>\n",
       "    </tr>\n",
       "    <tr>\n",
       "      <th>33</th>\n",
       "      <td>Claude-3-Opus</td>\n",
       "      <td>85.20</td>\n",
       "      <td>73.0</td>\n",
       "      <td>97.4</td>\n",
       "      <td>12.20</td>\n",
       "      <td>0.804878</td>\n",
       "      <td>0.043763</td>\n",
       "    </tr>\n",
       "    <tr>\n",
       "      <th>34</th>\n",
       "      <td>Claude-3-Opus</td>\n",
       "      <td>114.70</td>\n",
       "      <td>97.4</td>\n",
       "      <td>132.0</td>\n",
       "      <td>17.30</td>\n",
       "      <td>0.820513</td>\n",
       "      <td>0.043452</td>\n",
       "    </tr>\n",
       "    <tr>\n",
       "      <th>35</th>\n",
       "      <td>Claude-3-Opus</td>\n",
       "      <td>156.80</td>\n",
       "      <td>132.0</td>\n",
       "      <td>181.6</td>\n",
       "      <td>24.80</td>\n",
       "      <td>0.833333</td>\n",
       "      <td>0.042197</td>\n",
       "    </tr>\n",
       "    <tr>\n",
       "      <th>36</th>\n",
       "      <td>Claude-3-Opus</td>\n",
       "      <td>207.15</td>\n",
       "      <td>181.6</td>\n",
       "      <td>232.7</td>\n",
       "      <td>25.55</td>\n",
       "      <td>0.705128</td>\n",
       "      <td>0.051630</td>\n",
       "    </tr>\n",
       "    <tr>\n",
       "      <th>37</th>\n",
       "      <td>Claude-3-Opus</td>\n",
       "      <td>279.65</td>\n",
       "      <td>232.7</td>\n",
       "      <td>326.6</td>\n",
       "      <td>46.95</td>\n",
       "      <td>0.512821</td>\n",
       "      <td>0.056595</td>\n",
       "    </tr>\n",
       "    <tr>\n",
       "      <th>38</th>\n",
       "      <td>Claude-3-Opus</td>\n",
       "      <td>440.20</td>\n",
       "      <td>326.6</td>\n",
       "      <td>553.8</td>\n",
       "      <td>113.60</td>\n",
       "      <td>0.358974</td>\n",
       "      <td>0.054315</td>\n",
       "    </tr>\n",
       "    <tr>\n",
       "      <th>39</th>\n",
       "      <td>Claude-3-Opus</td>\n",
       "      <td>3286.40</td>\n",
       "      <td>553.8</td>\n",
       "      <td>6019.0</td>\n",
       "      <td>2732.60</td>\n",
       "      <td>0.113924</td>\n",
       "      <td>0.035746</td>\n",
       "    </tr>\n",
       "    <tr>\n",
       "      <th>40</th>\n",
       "      <td>CodeLlama-7b</td>\n",
       "      <td>0.00</td>\n",
       "      <td>0.0</td>\n",
       "      <td>0.0</td>\n",
       "      <td>0.00</td>\n",
       "      <td>1.000000</td>\n",
       "      <td>0.000000</td>\n",
       "    </tr>\n",
       "    <tr>\n",
       "      <th>41</th>\n",
       "      <td>CodeLlama-7b</td>\n",
       "      <td>19.10</td>\n",
       "      <td>0.0</td>\n",
       "      <td>38.2</td>\n",
       "      <td>19.10</td>\n",
       "      <td>0.668790</td>\n",
       "      <td>0.037562</td>\n",
       "    </tr>\n",
       "    <tr>\n",
       "      <th>42</th>\n",
       "      <td>CodeLlama-7b</td>\n",
       "      <td>55.60</td>\n",
       "      <td>38.2</td>\n",
       "      <td>73.0</td>\n",
       "      <td>17.40</td>\n",
       "      <td>0.256757</td>\n",
       "      <td>0.050782</td>\n",
       "    </tr>\n",
       "    <tr>\n",
       "      <th>43</th>\n",
       "      <td>CodeLlama-7b</td>\n",
       "      <td>85.20</td>\n",
       "      <td>73.0</td>\n",
       "      <td>97.4</td>\n",
       "      <td>12.20</td>\n",
       "      <td>0.182927</td>\n",
       "      <td>0.042694</td>\n",
       "    </tr>\n",
       "    <tr>\n",
       "      <th>44</th>\n",
       "      <td>CodeLlama-7b</td>\n",
       "      <td>114.70</td>\n",
       "      <td>97.4</td>\n",
       "      <td>132.0</td>\n",
       "      <td>17.30</td>\n",
       "      <td>0.179487</td>\n",
       "      <td>0.043452</td>\n",
       "    </tr>\n",
       "    <tr>\n",
       "      <th>45</th>\n",
       "      <td>CodeLlama-7b</td>\n",
       "      <td>156.80</td>\n",
       "      <td>132.0</td>\n",
       "      <td>181.6</td>\n",
       "      <td>24.80</td>\n",
       "      <td>0.243590</td>\n",
       "      <td>0.048603</td>\n",
       "    </tr>\n",
       "    <tr>\n",
       "      <th>46</th>\n",
       "      <td>CodeLlama-7b</td>\n",
       "      <td>207.15</td>\n",
       "      <td>181.6</td>\n",
       "      <td>232.7</td>\n",
       "      <td>25.55</td>\n",
       "      <td>0.179487</td>\n",
       "      <td>0.043452</td>\n",
       "    </tr>\n",
       "    <tr>\n",
       "      <th>47</th>\n",
       "      <td>CodeLlama-7b</td>\n",
       "      <td>279.65</td>\n",
       "      <td>232.7</td>\n",
       "      <td>326.6</td>\n",
       "      <td>46.95</td>\n",
       "      <td>0.115385</td>\n",
       "      <td>0.036175</td>\n",
       "    </tr>\n",
       "    <tr>\n",
       "      <th>48</th>\n",
       "      <td>CodeLlama-7b</td>\n",
       "      <td>440.20</td>\n",
       "      <td>326.6</td>\n",
       "      <td>553.8</td>\n",
       "      <td>113.60</td>\n",
       "      <td>0.128205</td>\n",
       "      <td>0.037854</td>\n",
       "    </tr>\n",
       "    <tr>\n",
       "      <th>49</th>\n",
       "      <td>CodeLlama-7b</td>\n",
       "      <td>3286.40</td>\n",
       "      <td>553.8</td>\n",
       "      <td>6019.0</td>\n",
       "      <td>2732.60</td>\n",
       "      <td>0.063291</td>\n",
       "      <td>0.027394</td>\n",
       "    </tr>\n",
       "  </tbody>\n",
       "</table>\n",
       "</div>"
      ],
      "text/plain": [
       "            Model  Hint quantity (characters)  Left endpoints  \\\n",
       "0          GPT-4o                        0.00             0.0   \n",
       "1          GPT-4o                       19.10             0.0   \n",
       "2          GPT-4o                       55.60            38.2   \n",
       "3          GPT-4o                       85.20            73.0   \n",
       "4          GPT-4o                      114.70            97.4   \n",
       "5          GPT-4o                      156.80           132.0   \n",
       "6          GPT-4o                      207.15           181.6   \n",
       "7          GPT-4o                      279.65           232.7   \n",
       "8          GPT-4o                      440.20           326.6   \n",
       "9          GPT-4o                     3286.40           553.8   \n",
       "10    GPT-4-turbo                        0.00             0.0   \n",
       "11    GPT-4-turbo                       19.10             0.0   \n",
       "12    GPT-4-turbo                       55.60            38.2   \n",
       "13    GPT-4-turbo                       85.20            73.0   \n",
       "14    GPT-4-turbo                      114.70            97.4   \n",
       "15    GPT-4-turbo                      156.80           132.0   \n",
       "16    GPT-4-turbo                      207.15           181.6   \n",
       "17    GPT-4-turbo                      279.65           232.7   \n",
       "18    GPT-4-turbo                      440.20           326.6   \n",
       "19    GPT-4-turbo                     3286.40           553.8   \n",
       "20  GPT-3.5-turbo                        0.00             0.0   \n",
       "21  GPT-3.5-turbo                       19.10             0.0   \n",
       "22  GPT-3.5-turbo                       55.60            38.2   \n",
       "23  GPT-3.5-turbo                       85.20            73.0   \n",
       "24  GPT-3.5-turbo                      114.70            97.4   \n",
       "25  GPT-3.5-turbo                      156.80           132.0   \n",
       "26  GPT-3.5-turbo                      207.15           181.6   \n",
       "27  GPT-3.5-turbo                      279.65           232.7   \n",
       "28  GPT-3.5-turbo                      440.20           326.6   \n",
       "29  GPT-3.5-turbo                     3286.40           553.8   \n",
       "30  Claude-3-Opus                        0.00             0.0   \n",
       "31  Claude-3-Opus                       19.10             0.0   \n",
       "32  Claude-3-Opus                       55.60            38.2   \n",
       "33  Claude-3-Opus                       85.20            73.0   \n",
       "34  Claude-3-Opus                      114.70            97.4   \n",
       "35  Claude-3-Opus                      156.80           132.0   \n",
       "36  Claude-3-Opus                      207.15           181.6   \n",
       "37  Claude-3-Opus                      279.65           232.7   \n",
       "38  Claude-3-Opus                      440.20           326.6   \n",
       "39  Claude-3-Opus                     3286.40           553.8   \n",
       "40   CodeLlama-7b                        0.00             0.0   \n",
       "41   CodeLlama-7b                       19.10             0.0   \n",
       "42   CodeLlama-7b                       55.60            38.2   \n",
       "43   CodeLlama-7b                       85.20            73.0   \n",
       "44   CodeLlama-7b                      114.70            97.4   \n",
       "45   CodeLlama-7b                      156.80           132.0   \n",
       "46   CodeLlama-7b                      207.15           181.6   \n",
       "47   CodeLlama-7b                      279.65           232.7   \n",
       "48   CodeLlama-7b                      440.20           326.6   \n",
       "49   CodeLlama-7b                     3286.40           553.8   \n",
       "\n",
       "    Right endpoints  Bin half width  Success rate     Error  \n",
       "0               0.0            0.00      1.000000  0.000000  \n",
       "1              38.2           19.10      0.898089  0.024145  \n",
       "2              73.0           17.40      0.783784  0.047855  \n",
       "3              97.4           12.20      0.768293  0.046594  \n",
       "4             132.0           17.30      0.756410  0.048603  \n",
       "5             181.6           24.80      0.756410  0.048603  \n",
       "6             232.7           25.55      0.628205  0.054721  \n",
       "7             326.6           46.95      0.384615  0.055086  \n",
       "8             553.8          113.60      0.269231  0.050223  \n",
       "9            6019.0         2732.60      0.126582  0.037410  \n",
       "10              0.0            0.00      1.000000  0.000000  \n",
       "11             38.2           19.10      0.891720  0.024799  \n",
       "12             73.0           17.40      0.878378  0.037995  \n",
       "13             97.4           12.20      0.707317  0.050246  \n",
       "14            132.0           17.30      0.705128  0.051630  \n",
       "15            181.6           24.80      0.717949  0.050952  \n",
       "16            232.7           25.55      0.538462  0.056446  \n",
       "17            326.6           46.95      0.333333  0.053376  \n",
       "18            553.8          113.60      0.358974  0.054315  \n",
       "19           6019.0         2732.60      0.126582  0.037410  \n",
       "20              0.0            0.00      1.000000  0.000000  \n",
       "21             38.2           19.10      0.802548  0.031770  \n",
       "22             73.0           17.40      0.527027  0.058039  \n",
       "23             97.4           12.20      0.475610  0.055150  \n",
       "24            132.0           17.30      0.500000  0.056614  \n",
       "25            181.6           24.80      0.410256  0.055694  \n",
       "26            232.7           25.55      0.371795  0.054721  \n",
       "27            326.6           46.95      0.179487  0.043452  \n",
       "28            553.8          113.60      0.153846  0.040853  \n",
       "29           6019.0         2732.60      0.063291  0.027394  \n",
       "30              0.0            0.00      1.000000  0.000000  \n",
       "31             38.2           19.10      0.910828  0.022745  \n",
       "32             73.0           17.40      0.891892  0.036097  \n",
       "33             97.4           12.20      0.804878  0.043763  \n",
       "34            132.0           17.30      0.820513  0.043452  \n",
       "35            181.6           24.80      0.833333  0.042197  \n",
       "36            232.7           25.55      0.705128  0.051630  \n",
       "37            326.6           46.95      0.512821  0.056595  \n",
       "38            553.8          113.60      0.358974  0.054315  \n",
       "39           6019.0         2732.60      0.113924  0.035746  \n",
       "40              0.0            0.00      1.000000  0.000000  \n",
       "41             38.2           19.10      0.668790  0.037562  \n",
       "42             73.0           17.40      0.256757  0.050782  \n",
       "43             97.4           12.20      0.182927  0.042694  \n",
       "44            132.0           17.30      0.179487  0.043452  \n",
       "45            181.6           24.80      0.243590  0.048603  \n",
       "46            232.7           25.55      0.179487  0.043452  \n",
       "47            326.6           46.95      0.115385  0.036175  \n",
       "48            553.8          113.60      0.128205  0.037854  \n",
       "49           6019.0         2732.60      0.063291  0.027394  "
      ]
     },
     "execution_count": 13,
     "metadata": {},
     "output_type": "execute_result"
    }
   ],
   "source": [
    "num_hint_char_df = pd.DataFrame(columns=[\"Model\", \"Hint quantity (characters)\", \"Left endpoints\", \"Right endpoints\", \"Bin half width\", \"Success rate\", \"Error\"])\n",
    "\n",
    "bin_left_num_hint_char, bin_mid_num_hint_char, bin_right_num_hint_char = [], [], []\n",
    "for i in [list(gpt4o_bin_num_hint_char_mean.keys()), list(gpt4_bin_num_hint_char_mean.keys()), list(gpt35_bin_num_hint_char_mean.keys()), list(claude3_bin_num_hint_char_mean.keys()), list(codellama_bin_num_hint_char_mean.keys())]:\n",
    "    for j in i:\n",
    "        bin_left_num_hint_char.append(j[0])\n",
    "        bin_mid_num_hint_char.append(j[1])\n",
    "        bin_right_num_hint_char.append(j[2])\n",
    "\n",
    "num_hint_char_df[\"Model\"] = [\"GPT-4o\"] * len(gpt4o_bin_num_hint_char_mean.keys()) + [\"GPT-4-turbo\"] * len(gpt4_bin_num_hint_char_mean.keys()) + [\"GPT-3.5-turbo\"] * len(gpt35_bin_num_hint_char_mean.keys()) + [\"Claude-3-Opus\"] * len(claude3_bin_num_hint_char_mean.keys()) + [\"CodeLlama-7b\"] * len(codellama_bin_num_hint_char_mean.keys())\n",
    "num_hint_char_df[\"Hint quantity (characters)\"] = bin_mid_num_hint_char\n",
    "num_hint_char_df[\"Left endpoints\"] = bin_left_num_hint_char\n",
    "num_hint_char_df[\"Right endpoints\"] = bin_right_num_hint_char\n",
    "num_hint_char_df[\"Bin half width\"] = (np.array(bin_right_num_hint_char) - np.array(bin_left_num_hint_char)) / 2.0\n",
    "num_hint_char_df[\"Success rate\"] = list(gpt4o_bin_num_hint_char_mean.values()) + list(gpt4_bin_num_hint_char_mean.values()) + list(gpt35_bin_num_hint_char_mean.values()) + list(claude3_bin_num_hint_char_mean.values()) + list(codellama_bin_num_hint_char_mean.values())\n",
    "num_hint_char_df[\"Error\"] = list(gpt4o_bin_num_hint_char_error.values()) + list(gpt4_bin_num_hint_char_error.values()) + list(gpt35_bin_num_hint_char_error.values()) + list(claude3_bin_num_hint_char_error.values()) + list(codellama_bin_num_hint_char_error.values())\n",
    "\n",
    "num_hint_char_df.loc[num_hint_char_df['Bin half width'] == 0, 'Success rate'] = 1.0\n",
    "num_hint_char_df.loc[num_hint_char_df['Bin half width'] == 0, 'Error'] = 0.0\n",
    "num_hint_char_df"
   ]
  },
  {
   "cell_type": "code",
   "execution_count": 14,
   "metadata": {},
   "outputs": [],
   "source": [
    "num_hint_char_bin_endpoints = list(set(num_hint_char_df['Left endpoints']))\n",
    "num_hint_char_bin_endpoints.remove(min(num_hint_char_bin_endpoints))"
   ]
  },
  {
   "cell_type": "code",
   "execution_count": 15,
   "metadata": {},
   "outputs": [
    {
     "data": {
      "text/html": [
       "<div>\n",
       "<style scoped>\n",
       "    .dataframe tbody tr th:only-of-type {\n",
       "        vertical-align: middle;\n",
       "    }\n",
       "\n",
       "    .dataframe tbody tr th {\n",
       "        vertical-align: top;\n",
       "    }\n",
       "\n",
       "    .dataframe thead th {\n",
       "        text-align: right;\n",
       "    }\n",
       "</style>\n",
       "<table border=\"1\" class=\"dataframe\">\n",
       "  <thead>\n",
       "    <tr style=\"text-align: right;\">\n",
       "      <th></th>\n",
       "      <th>Model</th>\n",
       "      <th># of lemmas</th>\n",
       "      <th>Left endpoints</th>\n",
       "      <th>Right endpoints</th>\n",
       "      <th>Bin half width</th>\n",
       "      <th>Success rate</th>\n",
       "      <th>Error</th>\n",
       "    </tr>\n",
       "  </thead>\n",
       "  <tbody>\n",
       "    <tr>\n",
       "      <th>0</th>\n",
       "      <td>GPT-4o</td>\n",
       "      <td>0.0</td>\n",
       "      <td>0.0</td>\n",
       "      <td>0.0</td>\n",
       "      <td>0.0</td>\n",
       "      <td>NaN</td>\n",
       "      <td>NaN</td>\n",
       "    </tr>\n",
       "    <tr>\n",
       "      <th>1</th>\n",
       "      <td>GPT-4o</td>\n",
       "      <td>0.5</td>\n",
       "      <td>0.0</td>\n",
       "      <td>1.0</td>\n",
       "      <td>0.5</td>\n",
       "      <td>0.687500</td>\n",
       "      <td>0.018555</td>\n",
       "    </tr>\n",
       "    <tr>\n",
       "      <th>2</th>\n",
       "      <td>GPT-4o</td>\n",
       "      <td>2.5</td>\n",
       "      <td>1.0</td>\n",
       "      <td>4.0</td>\n",
       "      <td>1.5</td>\n",
       "      <td>0.471429</td>\n",
       "      <td>0.059664</td>\n",
       "    </tr>\n",
       "    <tr>\n",
       "      <th>3</th>\n",
       "      <td>GPT-4o</td>\n",
       "      <td>23.0</td>\n",
       "      <td>4.0</td>\n",
       "      <td>42.0</td>\n",
       "      <td>19.0</td>\n",
       "      <td>0.318182</td>\n",
       "      <td>0.049651</td>\n",
       "    </tr>\n",
       "    <tr>\n",
       "      <th>4</th>\n",
       "      <td>GPT-4-turbo</td>\n",
       "      <td>0.0</td>\n",
       "      <td>0.0</td>\n",
       "      <td>0.0</td>\n",
       "      <td>0.0</td>\n",
       "      <td>NaN</td>\n",
       "      <td>NaN</td>\n",
       "    </tr>\n",
       "    <tr>\n",
       "      <th>5</th>\n",
       "      <td>GPT-4-turbo</td>\n",
       "      <td>0.5</td>\n",
       "      <td>0.0</td>\n",
       "      <td>1.0</td>\n",
       "      <td>0.5</td>\n",
       "      <td>0.681090</td>\n",
       "      <td>0.018657</td>\n",
       "    </tr>\n",
       "    <tr>\n",
       "      <th>6</th>\n",
       "      <td>GPT-4-turbo</td>\n",
       "      <td>2.5</td>\n",
       "      <td>1.0</td>\n",
       "      <td>4.0</td>\n",
       "      <td>1.5</td>\n",
       "      <td>0.414286</td>\n",
       "      <td>0.058877</td>\n",
       "    </tr>\n",
       "    <tr>\n",
       "      <th>7</th>\n",
       "      <td>GPT-4-turbo</td>\n",
       "      <td>23.0</td>\n",
       "      <td>4.0</td>\n",
       "      <td>42.0</td>\n",
       "      <td>19.0</td>\n",
       "      <td>0.295455</td>\n",
       "      <td>0.048636</td>\n",
       "    </tr>\n",
       "    <tr>\n",
       "      <th>8</th>\n",
       "      <td>GPT-3.5-turbo</td>\n",
       "      <td>0.0</td>\n",
       "      <td>0.0</td>\n",
       "      <td>0.0</td>\n",
       "      <td>0.0</td>\n",
       "      <td>NaN</td>\n",
       "      <td>NaN</td>\n",
       "    </tr>\n",
       "    <tr>\n",
       "      <th>9</th>\n",
       "      <td>GPT-3.5-turbo</td>\n",
       "      <td>0.5</td>\n",
       "      <td>0.0</td>\n",
       "      <td>1.0</td>\n",
       "      <td>0.5</td>\n",
       "      <td>0.461538</td>\n",
       "      <td>0.019957</td>\n",
       "    </tr>\n",
       "    <tr>\n",
       "      <th>10</th>\n",
       "      <td>GPT-3.5-turbo</td>\n",
       "      <td>2.5</td>\n",
       "      <td>1.0</td>\n",
       "      <td>4.0</td>\n",
       "      <td>1.5</td>\n",
       "      <td>0.300000</td>\n",
       "      <td>0.054772</td>\n",
       "    </tr>\n",
       "    <tr>\n",
       "      <th>11</th>\n",
       "      <td>GPT-3.5-turbo</td>\n",
       "      <td>23.0</td>\n",
       "      <td>4.0</td>\n",
       "      <td>42.0</td>\n",
       "      <td>19.0</td>\n",
       "      <td>0.295455</td>\n",
       "      <td>0.048636</td>\n",
       "    </tr>\n",
       "    <tr>\n",
       "      <th>12</th>\n",
       "      <td>Claude-3-Opus</td>\n",
       "      <td>0.0</td>\n",
       "      <td>0.0</td>\n",
       "      <td>0.0</td>\n",
       "      <td>0.0</td>\n",
       "      <td>NaN</td>\n",
       "      <td>NaN</td>\n",
       "    </tr>\n",
       "    <tr>\n",
       "      <th>13</th>\n",
       "      <td>Claude-3-Opus</td>\n",
       "      <td>0.5</td>\n",
       "      <td>0.0</td>\n",
       "      <td>1.0</td>\n",
       "      <td>0.5</td>\n",
       "      <td>0.751603</td>\n",
       "      <td>0.017297</td>\n",
       "    </tr>\n",
       "    <tr>\n",
       "      <th>14</th>\n",
       "      <td>Claude-3-Opus</td>\n",
       "      <td>2.5</td>\n",
       "      <td>1.0</td>\n",
       "      <td>4.0</td>\n",
       "      <td>1.5</td>\n",
       "      <td>0.514286</td>\n",
       "      <td>0.059737</td>\n",
       "    </tr>\n",
       "    <tr>\n",
       "      <th>15</th>\n",
       "      <td>Claude-3-Opus</td>\n",
       "      <td>23.0</td>\n",
       "      <td>4.0</td>\n",
       "      <td>42.0</td>\n",
       "      <td>19.0</td>\n",
       "      <td>0.352273</td>\n",
       "      <td>0.050921</td>\n",
       "    </tr>\n",
       "    <tr>\n",
       "      <th>16</th>\n",
       "      <td>CodeLlama-7b</td>\n",
       "      <td>0.0</td>\n",
       "      <td>0.0</td>\n",
       "      <td>0.0</td>\n",
       "      <td>0.0</td>\n",
       "      <td>NaN</td>\n",
       "      <td>NaN</td>\n",
       "    </tr>\n",
       "    <tr>\n",
       "      <th>17</th>\n",
       "      <td>CodeLlama-7b</td>\n",
       "      <td>0.5</td>\n",
       "      <td>0.0</td>\n",
       "      <td>1.0</td>\n",
       "      <td>0.5</td>\n",
       "      <td>0.278846</td>\n",
       "      <td>0.017952</td>\n",
       "    </tr>\n",
       "    <tr>\n",
       "      <th>18</th>\n",
       "      <td>CodeLlama-7b</td>\n",
       "      <td>2.5</td>\n",
       "      <td>1.0</td>\n",
       "      <td>4.0</td>\n",
       "      <td>1.5</td>\n",
       "      <td>0.242857</td>\n",
       "      <td>0.051253</td>\n",
       "    </tr>\n",
       "    <tr>\n",
       "      <th>19</th>\n",
       "      <td>CodeLlama-7b</td>\n",
       "      <td>23.0</td>\n",
       "      <td>4.0</td>\n",
       "      <td>42.0</td>\n",
       "      <td>19.0</td>\n",
       "      <td>0.215909</td>\n",
       "      <td>0.043861</td>\n",
       "    </tr>\n",
       "  </tbody>\n",
       "</table>\n",
       "</div>"
      ],
      "text/plain": [
       "            Model  # of lemmas  Left endpoints  Right endpoints  \\\n",
       "0          GPT-4o          0.0             0.0              0.0   \n",
       "1          GPT-4o          0.5             0.0              1.0   \n",
       "2          GPT-4o          2.5             1.0              4.0   \n",
       "3          GPT-4o         23.0             4.0             42.0   \n",
       "4     GPT-4-turbo          0.0             0.0              0.0   \n",
       "5     GPT-4-turbo          0.5             0.0              1.0   \n",
       "6     GPT-4-turbo          2.5             1.0              4.0   \n",
       "7     GPT-4-turbo         23.0             4.0             42.0   \n",
       "8   GPT-3.5-turbo          0.0             0.0              0.0   \n",
       "9   GPT-3.5-turbo          0.5             0.0              1.0   \n",
       "10  GPT-3.5-turbo          2.5             1.0              4.0   \n",
       "11  GPT-3.5-turbo         23.0             4.0             42.0   \n",
       "12  Claude-3-Opus          0.0             0.0              0.0   \n",
       "13  Claude-3-Opus          0.5             0.0              1.0   \n",
       "14  Claude-3-Opus          2.5             1.0              4.0   \n",
       "15  Claude-3-Opus         23.0             4.0             42.0   \n",
       "16   CodeLlama-7b          0.0             0.0              0.0   \n",
       "17   CodeLlama-7b          0.5             0.0              1.0   \n",
       "18   CodeLlama-7b          2.5             1.0              4.0   \n",
       "19   CodeLlama-7b         23.0             4.0             42.0   \n",
       "\n",
       "    Bin half width  Success rate     Error  \n",
       "0              0.0           NaN       NaN  \n",
       "1              0.5      0.687500  0.018555  \n",
       "2              1.5      0.471429  0.059664  \n",
       "3             19.0      0.318182  0.049651  \n",
       "4              0.0           NaN       NaN  \n",
       "5              0.5      0.681090  0.018657  \n",
       "6              1.5      0.414286  0.058877  \n",
       "7             19.0      0.295455  0.048636  \n",
       "8              0.0           NaN       NaN  \n",
       "9              0.5      0.461538  0.019957  \n",
       "10             1.5      0.300000  0.054772  \n",
       "11            19.0      0.295455  0.048636  \n",
       "12             0.0           NaN       NaN  \n",
       "13             0.5      0.751603  0.017297  \n",
       "14             1.5      0.514286  0.059737  \n",
       "15            19.0      0.352273  0.050921  \n",
       "16             0.0           NaN       NaN  \n",
       "17             0.5      0.278846  0.017952  \n",
       "18             1.5      0.242857  0.051253  \n",
       "19            19.0      0.215909  0.043861  "
      ]
     },
     "execution_count": 15,
     "metadata": {},
     "output_type": "execute_result"
    }
   ],
   "source": [
    "num_lemma_df = pd.DataFrame(columns=[\"Model\", \"# of lemmas\", \"Left endpoints\", \"Right endpoints\", \"Bin half width\", \"Success rate\", \"Error\"])\n",
    "\n",
    "bin_left_num_lemma, bin_mid_num_lemma, bin_right_num_lemma = [], [], []\n",
    "for i in [list(gpt4o_bin_num_lemma_mean.keys()), list(gpt4_bin_num_lemma_mean.keys()), list(gpt35_bin_num_lemma_mean.keys()), list(claude3_bin_num_lemma_mean.keys()), list(codellama_bin_num_lemma_mean.keys())]:\n",
    "    for j in i:\n",
    "        bin_left_num_lemma.append(j[0])\n",
    "        bin_mid_num_lemma.append(j[1])\n",
    "        bin_right_num_lemma.append(j[2])\n",
    "\n",
    "num_lemma_df[\"Model\"] = [\"GPT-4o\"] * len(gpt4o_bin_num_lemma_mean.keys()) + [\"GPT-4-turbo\"] * len(gpt4_bin_num_lemma_mean.keys()) + [\"GPT-3.5-turbo\"] * len(gpt35_bin_num_lemma_mean.keys()) + [\"Claude-3-Opus\"] * len(claude3_bin_num_lemma_mean.keys()) + [\"CodeLlama-7b\"] * len(codellama_bin_num_lemma_mean.keys())\n",
    "num_lemma_df[\"# of lemmas\"] = bin_mid_num_lemma\n",
    "num_lemma_df[\"Left endpoints\"] = bin_left_num_lemma\n",
    "num_lemma_df[\"Right endpoints\"] = bin_right_num_lemma\n",
    "num_lemma_df[\"Bin half width\"] = (np.array(bin_right_num_lemma) - np.array(bin_left_num_lemma)) / 2.0\n",
    "num_lemma_df[\"Success rate\"] = list(gpt4o_bin_num_lemma_mean.values()) + list(gpt4_bin_num_lemma_mean.values()) + list(gpt35_bin_num_lemma_mean.values()) + list(claude3_bin_num_lemma_mean.values()) + list(codellama_bin_num_lemma_mean.values())\n",
    "num_lemma_df[\"Error\"] = list(gpt4o_bin_num_lemma_error.values()) + list(gpt4_bin_num_lemma_error.values()) + list(gpt35_bin_num_lemma_error.values()) + list(claude3_bin_num_lemma_error.values()) + list(codellama_bin_num_lemma_error.values())\n",
    "num_lemma_df"
   ]
  },
  {
   "cell_type": "code",
   "execution_count": 16,
   "metadata": {},
   "outputs": [
    {
     "data": {
      "application/vnd.plotly.v1+json": {
       "config": {
        "plotlyServerURL": "https://plot.ly"
       },
       "data": [
        {
         "fill": "toself",
         "fillcolor": "rgba(99,110,250,.3)",
         "hoverinfo": "skip",
         "legendgroup": "GPT-4o",
         "line": {
          "color": "rgba(255,255,255,0)"
         },
         "showlegend": false,
         "type": "scatter",
         "x": [
          153.5,
          314.1,
          443.4000000000001,
          574.3000000000001,
          759.75,
          1019.4500000000004,
          1445.1000000000004,
          2094.1000000000004,
          3540.9500000000003,
          16673.75,
          16673.75,
          3540.9500000000003,
          2094.1000000000004,
          1445.1000000000004,
          1019.4500000000004,
          759.75,
          574.3000000000001,
          443.4000000000001,
          314.1,
          153.5
         ],
         "xaxis": "x",
         "y": [
          0.9833130198873961,
          0.9433647604197709,
          0.8870065388110611,
          0.8854902037716537,
          0.771951212603996,
          0.543774725093116,
          0.6202492197414282,
          0.5179845681311802,
          0.319454060656849,
          0.24774738413576614,
          0.15731590700347436,
          0.2190074778046894,
          0.4050923549457429,
          0.5079559084637,
          0.43058424926585837,
          0.6710867620795482,
          0.8028214845400345,
          0.8053011534966312,
          0.8794200497068113,
          0.9397639031895271
         ],
         "yaxis": "y"
        },
        {
         "hovertemplate": "Model=GPT-4o<br>Program length (characters)=%{x}<br>Success rate=%{y}<extra></extra>",
         "legendgroup": "GPT-4o",
         "line": {
          "color": "#636efa",
          "dash": "solid"
         },
         "marker": {
          "symbol": "circle"
         },
         "mode": "lines",
         "name": "GPT-4o",
         "orientation": "v",
         "showlegend": true,
         "type": "scatter",
         "x": [
          153.5,
          314.1,
          443.4000000000001,
          574.3000000000001,
          759.75,
          1019.4500000000004,
          1445.1000000000004,
          2094.1000000000004,
          3540.9500000000003,
          16673.75
         ],
         "xaxis": "x",
         "y": [
          0.9615384615384616,
          0.9113924050632911,
          0.8461538461538461,
          0.8441558441558441,
          0.7215189873417721,
          0.48717948717948717,
          0.5641025641025641,
          0.46153846153846156,
          0.2692307692307692,
          0.20253164556962025
         ],
         "yaxis": "y"
        },
        {
         "fill": "toself",
         "fillcolor": "rgba(239,85,59,.3)",
         "hoverinfo": "skip",
         "legendgroup": "GPT-4-turbo",
         "line": {
          "color": "rgba(255,255,255,0)"
         },
         "showlegend": false,
         "type": "scatter",
         "x": [
          153.5,
          314.1,
          443.4000000000001,
          574.3000000000001,
          759.75,
          1019.4500000000004,
          1445.1000000000004,
          2094.1000000000004,
          3540.9500000000003,
          16673.75,
          16673.75,
          3540.9500000000003,
          2094.1000000000004,
          1445.1000000000004,
          1019.4500000000004,
          759.75,
          574.3000000000001,
          443.4000000000001,
          314.1,
          153.5
         ],
         "xaxis": "x",
         "y": [
          0.9922559600115927,
          0.9641031618701921,
          0.9317879039516453,
          0.9308761987649901,
          0.7479449030120934,
          0.5179845681311802,
          0.5179845681311802,
          0.426516011606942,
          0.2921925002393816,
          0.24774738413576614,
          0.15731590700347436,
          0.19498698694010558,
          0.3170737319828016,
          0.4050923549457429,
          0.4050923549457429,
          0.644460160279046,
          0.8613315934428021,
          0.8630838909201496,
          0.9093145596487953,
          0.956461988706356
         ],
         "yaxis": "y"
        },
        {
         "hovertemplate": "Model=GPT-4-turbo<br>Program length (characters)=%{x}<br>Success rate=%{y}<extra></extra>",
         "legendgroup": "GPT-4-turbo",
         "line": {
          "color": "#EF553B",
          "dash": "solid"
         },
         "marker": {
          "symbol": "circle"
         },
         "mode": "lines",
         "name": "GPT-4-turbo",
         "orientation": "v",
         "showlegend": true,
         "type": "scatter",
         "x": [
          153.5,
          314.1,
          443.4000000000001,
          574.3000000000001,
          759.75,
          1019.4500000000004,
          1445.1000000000004,
          2094.1000000000004,
          3540.9500000000003,
          16673.75
         ],
         "xaxis": "x",
         "y": [
          0.9743589743589743,
          0.9367088607594937,
          0.8974358974358975,
          0.8961038961038961,
          0.6962025316455697,
          0.46153846153846156,
          0.46153846153846156,
          0.3717948717948718,
          0.24358974358974358,
          0.20253164556962025
         ],
         "yaxis": "y"
        },
        {
         "fill": "toself",
         "fillcolor": "rgba(0,204,150,.3)",
         "hoverinfo": "skip",
         "legendgroup": "GPT-3.5-turbo",
         "line": {
          "color": "rgba(255,255,255,0)"
         },
         "showlegend": false,
         "type": "scatter",
         "x": [
          153.5,
          314.1,
          443.4000000000001,
          574.3000000000001,
          759.75,
          1019.4500000000004,
          1445.1000000000004,
          2094.1000000000004,
          3540.9500000000003,
          16673.75,
          16673.75,
          3540.9500000000003,
          2094.1000000000004,
          1445.1000000000004,
          1019.4500000000004,
          759.75,
          574.3000000000001,
          443.4000000000001,
          314.1,
          153.5
         ],
         "xaxis": "x",
         "y": [
          0.8523168731627171,
          0.7479449030120934,
          0.6579740670555071,
          0.5634689893015813,
          0.4860861449350481,
          0.33300354180144,
          0.37335321303641855,
          0.319454060656849,
          0.22293941260186273,
          0.23399946028664254,
          0.14574737515639546,
          0.13603494637249625,
          0.2190074778046894,
          0.26767242798922253,
          0.2310990223011241,
          0.374673348735838,
          0.4495180236854316,
          0.547154138072698,
          0.644460160279046,
          0.7630677422218983
         ],
         "yaxis": "y"
        },
        {
         "hovertemplate": "Model=GPT-3.5-turbo<br>Program length (characters)=%{x}<br>Success rate=%{y}<extra></extra>",
         "legendgroup": "GPT-3.5-turbo",
         "line": {
          "color": "#00cc96",
          "dash": "solid"
         },
         "marker": {
          "symbol": "circle"
         },
         "mode": "lines",
         "name": "GPT-3.5-turbo",
         "orientation": "v",
         "showlegend": true,
         "type": "scatter",
         "x": [
          153.5,
          314.1,
          443.4000000000001,
          574.3000000000001,
          759.75,
          1019.4500000000004,
          1445.1000000000004,
          2094.1000000000004,
          3540.9500000000003,
          16673.75
         ],
         "xaxis": "x",
         "y": [
          0.8076923076923077,
          0.6962025316455697,
          0.6025641025641025,
          0.5064935064935064,
          0.43037974683544306,
          0.28205128205128205,
          0.32051282051282054,
          0.2692307692307692,
          0.1794871794871795,
          0.189873417721519
         ],
         "yaxis": "y"
        },
        {
         "fill": "toself",
         "fillcolor": "rgba(171,99,250,.3)",
         "hoverinfo": "skip",
         "legendgroup": "Claude-3-Opus",
         "line": {
          "color": "rgba(255,255,255,0)"
         },
         "showlegend": false,
         "type": "scatter",
         "x": [
          153.5,
          314.1,
          443.4000000000001,
          574.3000000000001,
          759.75,
          1019.4500000000004,
          1445.1000000000004,
          2094.1000000000004,
          3540.9500000000003,
          16673.75,
          16673.75,
          3540.9500000000003,
          2094.1000000000004,
          1445.1000000000004,
          1019.4500000000004,
          759.75,
          574.3000000000001,
          443.4000000000001,
          314.1,
          153.5
         ],
         "xaxis": "x",
         "y": [
          0.9833130198873961,
          0.9740342962960112,
          0.9636309261070299,
          0.9733423270672646,
          0.8426840929965257,
          0.707713436260453,
          0.720042717935029,
          0.5821803854058512,
          0.25084901683290917,
          0.2614258109714331,
          0.16895393586400995,
          0.15940739342350108,
          0.4691016658762002,
          0.6132906153983042,
          0.5999788714318547,
          0.7522526158642339,
          0.9227615690366314,
          0.9081639456878419,
          0.9246998809191785,
          0.9397639031895271
         ],
         "yaxis": "y"
        },
        {
         "hovertemplate": "Model=Claude-3-Opus<br>Program length (characters)=%{x}<br>Success rate=%{y}<extra></extra>",
         "legendgroup": "Claude-3-Opus",
         "line": {
          "color": "#ab63fa",
          "dash": "solid"
         },
         "marker": {
          "symbol": "circle"
         },
         "mode": "lines",
         "name": "Claude-3-Opus",
         "orientation": "v",
         "showlegend": true,
         "type": "scatter",
         "x": [
          153.5,
          314.1,
          443.4000000000001,
          574.3000000000001,
          759.75,
          1019.4500000000004,
          1445.1000000000004,
          2094.1000000000004,
          3540.9500000000003,
          16673.75
         ],
         "xaxis": "x",
         "y": [
          0.9615384615384616,
          0.9493670886075949,
          0.9358974358974359,
          0.948051948051948,
          0.7974683544303798,
          0.6538461538461539,
          0.6666666666666666,
          0.5256410256410257,
          0.20512820512820512,
          0.21518987341772153
         ],
         "yaxis": "y"
        },
        {
         "fill": "toself",
         "fillcolor": "rgba(255,161,90,.3)",
         "hoverinfo": "skip",
         "legendgroup": "CodeLlama-7b",
         "line": {
          "color": "rgba(255,255,255,0)"
         },
         "showlegend": false,
         "type": "scatter",
         "x": [
          153.5,
          314.1,
          443.4000000000001,
          574.3000000000001,
          759.75,
          1019.4500000000004,
          1445.1000000000004,
          2094.1000000000004,
          3540.9500000000003,
          16673.75,
          16673.75,
          3540.9500000000003,
          2094.1000000000004,
          1445.1000000000004,
          1019.4500000000004,
          759.75,
          574.3000000000001,
          443.4000000000001,
          314.1,
          153.5
         ],
         "xaxis": "x",
         "y": [
          0.720042717935029,
          0.49892612334140496,
          0.3465019415340916,
          0.29588414558879955,
          0.19228069354256166,
          0.1946988465033688,
          0.2784748979189263,
          0.20886414029515277,
          0.1946988465033688,
          0.22017675149077343,
          0.13425362825606202,
          0.11299346118893891,
          0.12446919303818055,
          0.1830635636195352,
          0.11299346118893891,
          0.11151677481186872,
          0.19762234791769395,
          0.24324164820949817,
          0.3871498260256836,
          0.6132906153983042
         ],
         "yaxis": "y"
        },
        {
         "hovertemplate": "Model=CodeLlama-7b<br>Program length (characters)=%{x}<br>Success rate=%{y}<extra></extra>",
         "legendgroup": "CodeLlama-7b",
         "line": {
          "color": "#FFA15A",
          "dash": "solid"
         },
         "marker": {
          "symbol": "circle"
         },
         "mode": "lines",
         "name": "CodeLlama-7b",
         "orientation": "v",
         "showlegend": true,
         "type": "scatter",
         "x": [
          153.5,
          314.1,
          443.4000000000001,
          574.3000000000001,
          759.75,
          1019.4500000000004,
          1445.1000000000004,
          2094.1000000000004,
          3540.9500000000003,
          16673.75
         ],
         "xaxis": "x",
         "y": [
          0.6666666666666666,
          0.4430379746835443,
          0.2948717948717949,
          0.24675324675324675,
          0.1518987341772152,
          0.15384615384615385,
          0.23076923076923078,
          0.16666666666666666,
          0.15384615384615385,
          0.17721518987341772
         ],
         "yaxis": "y"
        }
       ],
       "layout": {
        "font": {
         "size": 20
        },
        "height": 600,
        "legend": {
         "title": {},
         "tracegroupgap": 0
        },
        "margin": {
         "t": 60
        },
        "shapes": [
         {
          "line": {
           "color": "blue",
           "dash": "dash",
           "width": 1
          },
          "type": "line",
          "x0": 866.5,
          "x1": 866.5,
          "xref": "x",
          "y0": 0,
          "y1": 1,
          "yref": "y domain"
         },
         {
          "line": {
           "color": "blue",
           "dash": "dash",
           "width": 1
          },
          "type": "line",
          "x0": 4611.5,
          "x1": 4611.5,
          "xref": "x",
          "y0": 0,
          "y1": 1,
          "yref": "y domain"
         },
         {
          "line": {
           "color": "blue",
           "dash": "dash",
           "width": 1
          },
          "type": "line",
          "x0": 391.20000000000005,
          "x1": 391.20000000000005,
          "xref": "x",
          "y0": 0,
          "y1": 1,
          "yref": "y domain"
         },
         {
          "line": {
           "color": "blue",
           "dash": "dash",
           "width": 1
          },
          "type": "line",
          "x0": 2470.4000000000005,
          "x1": 2470.4000000000005,
          "xref": "x",
          "y0": 0,
          "y1": 1,
          "yref": "y domain"
         },
         {
          "line": {
           "color": "blue",
           "dash": "dash",
           "width": 1
          },
          "type": "line",
          "x0": 653,
          "x1": 653,
          "xref": "x",
          "y0": 0,
          "y1": 1,
          "yref": "y domain"
         },
         {
          "line": {
           "color": "blue",
           "dash": "dash",
           "width": 1
          },
          "type": "line",
          "x0": 237,
          "x1": 237,
          "xref": "x",
          "y0": 0,
          "y1": 1,
          "yref": "y domain"
         },
         {
          "line": {
           "color": "blue",
           "dash": "dash",
           "width": 1
          },
          "type": "line",
          "x0": 495.6000000000001,
          "x1": 495.6000000000001,
          "xref": "x",
          "y0": 0,
          "y1": 1,
          "yref": "y domain"
         },
         {
          "line": {
           "color": "blue",
           "dash": "dash",
           "width": 1
          },
          "type": "line",
          "x0": 1172.4000000000008,
          "x1": 1172.4000000000008,
          "xref": "x",
          "y0": 0,
          "y1": 1,
          "yref": "y domain"
         },
         {
          "line": {
           "color": "blue",
           "dash": "dash",
           "width": 1
          },
          "type": "line",
          "x0": 1717.8000000000002,
          "x1": 1717.8000000000002,
          "xref": "x",
          "y0": 0,
          "y1": 1,
          "yref": "y domain"
         }
        ],
        "template": {
         "data": {
          "bar": [
           {
            "error_x": {
             "color": "#2a3f5f"
            },
            "error_y": {
             "color": "#2a3f5f"
            },
            "marker": {
             "line": {
              "color": "#E5ECF6",
              "width": 0.5
             },
             "pattern": {
              "fillmode": "overlay",
              "size": 10,
              "solidity": 0.2
             }
            },
            "type": "bar"
           }
          ],
          "barpolar": [
           {
            "marker": {
             "line": {
              "color": "#E5ECF6",
              "width": 0.5
             },
             "pattern": {
              "fillmode": "overlay",
              "size": 10,
              "solidity": 0.2
             }
            },
            "type": "barpolar"
           }
          ],
          "carpet": [
           {
            "aaxis": {
             "endlinecolor": "#2a3f5f",
             "gridcolor": "white",
             "linecolor": "white",
             "minorgridcolor": "white",
             "startlinecolor": "#2a3f5f"
            },
            "baxis": {
             "endlinecolor": "#2a3f5f",
             "gridcolor": "white",
             "linecolor": "white",
             "minorgridcolor": "white",
             "startlinecolor": "#2a3f5f"
            },
            "type": "carpet"
           }
          ],
          "choropleth": [
           {
            "colorbar": {
             "outlinewidth": 0,
             "ticks": ""
            },
            "type": "choropleth"
           }
          ],
          "contour": [
           {
            "colorbar": {
             "outlinewidth": 0,
             "ticks": ""
            },
            "colorscale": [
             [
              0,
              "#0d0887"
             ],
             [
              0.1111111111111111,
              "#46039f"
             ],
             [
              0.2222222222222222,
              "#7201a8"
             ],
             [
              0.3333333333333333,
              "#9c179e"
             ],
             [
              0.4444444444444444,
              "#bd3786"
             ],
             [
              0.5555555555555556,
              "#d8576b"
             ],
             [
              0.6666666666666666,
              "#ed7953"
             ],
             [
              0.7777777777777778,
              "#fb9f3a"
             ],
             [
              0.8888888888888888,
              "#fdca26"
             ],
             [
              1,
              "#f0f921"
             ]
            ],
            "type": "contour"
           }
          ],
          "contourcarpet": [
           {
            "colorbar": {
             "outlinewidth": 0,
             "ticks": ""
            },
            "type": "contourcarpet"
           }
          ],
          "heatmap": [
           {
            "colorbar": {
             "outlinewidth": 0,
             "ticks": ""
            },
            "colorscale": [
             [
              0,
              "#0d0887"
             ],
             [
              0.1111111111111111,
              "#46039f"
             ],
             [
              0.2222222222222222,
              "#7201a8"
             ],
             [
              0.3333333333333333,
              "#9c179e"
             ],
             [
              0.4444444444444444,
              "#bd3786"
             ],
             [
              0.5555555555555556,
              "#d8576b"
             ],
             [
              0.6666666666666666,
              "#ed7953"
             ],
             [
              0.7777777777777778,
              "#fb9f3a"
             ],
             [
              0.8888888888888888,
              "#fdca26"
             ],
             [
              1,
              "#f0f921"
             ]
            ],
            "type": "heatmap"
           }
          ],
          "heatmapgl": [
           {
            "colorbar": {
             "outlinewidth": 0,
             "ticks": ""
            },
            "colorscale": [
             [
              0,
              "#0d0887"
             ],
             [
              0.1111111111111111,
              "#46039f"
             ],
             [
              0.2222222222222222,
              "#7201a8"
             ],
             [
              0.3333333333333333,
              "#9c179e"
             ],
             [
              0.4444444444444444,
              "#bd3786"
             ],
             [
              0.5555555555555556,
              "#d8576b"
             ],
             [
              0.6666666666666666,
              "#ed7953"
             ],
             [
              0.7777777777777778,
              "#fb9f3a"
             ],
             [
              0.8888888888888888,
              "#fdca26"
             ],
             [
              1,
              "#f0f921"
             ]
            ],
            "type": "heatmapgl"
           }
          ],
          "histogram": [
           {
            "marker": {
             "pattern": {
              "fillmode": "overlay",
              "size": 10,
              "solidity": 0.2
             }
            },
            "type": "histogram"
           }
          ],
          "histogram2d": [
           {
            "colorbar": {
             "outlinewidth": 0,
             "ticks": ""
            },
            "colorscale": [
             [
              0,
              "#0d0887"
             ],
             [
              0.1111111111111111,
              "#46039f"
             ],
             [
              0.2222222222222222,
              "#7201a8"
             ],
             [
              0.3333333333333333,
              "#9c179e"
             ],
             [
              0.4444444444444444,
              "#bd3786"
             ],
             [
              0.5555555555555556,
              "#d8576b"
             ],
             [
              0.6666666666666666,
              "#ed7953"
             ],
             [
              0.7777777777777778,
              "#fb9f3a"
             ],
             [
              0.8888888888888888,
              "#fdca26"
             ],
             [
              1,
              "#f0f921"
             ]
            ],
            "type": "histogram2d"
           }
          ],
          "histogram2dcontour": [
           {
            "colorbar": {
             "outlinewidth": 0,
             "ticks": ""
            },
            "colorscale": [
             [
              0,
              "#0d0887"
             ],
             [
              0.1111111111111111,
              "#46039f"
             ],
             [
              0.2222222222222222,
              "#7201a8"
             ],
             [
              0.3333333333333333,
              "#9c179e"
             ],
             [
              0.4444444444444444,
              "#bd3786"
             ],
             [
              0.5555555555555556,
              "#d8576b"
             ],
             [
              0.6666666666666666,
              "#ed7953"
             ],
             [
              0.7777777777777778,
              "#fb9f3a"
             ],
             [
              0.8888888888888888,
              "#fdca26"
             ],
             [
              1,
              "#f0f921"
             ]
            ],
            "type": "histogram2dcontour"
           }
          ],
          "mesh3d": [
           {
            "colorbar": {
             "outlinewidth": 0,
             "ticks": ""
            },
            "type": "mesh3d"
           }
          ],
          "parcoords": [
           {
            "line": {
             "colorbar": {
              "outlinewidth": 0,
              "ticks": ""
             }
            },
            "type": "parcoords"
           }
          ],
          "pie": [
           {
            "automargin": true,
            "type": "pie"
           }
          ],
          "scatter": [
           {
            "fillpattern": {
             "fillmode": "overlay",
             "size": 10,
             "solidity": 0.2
            },
            "type": "scatter"
           }
          ],
          "scatter3d": [
           {
            "line": {
             "colorbar": {
              "outlinewidth": 0,
              "ticks": ""
             }
            },
            "marker": {
             "colorbar": {
              "outlinewidth": 0,
              "ticks": ""
             }
            },
            "type": "scatter3d"
           }
          ],
          "scattercarpet": [
           {
            "marker": {
             "colorbar": {
              "outlinewidth": 0,
              "ticks": ""
             }
            },
            "type": "scattercarpet"
           }
          ],
          "scattergeo": [
           {
            "marker": {
             "colorbar": {
              "outlinewidth": 0,
              "ticks": ""
             }
            },
            "type": "scattergeo"
           }
          ],
          "scattergl": [
           {
            "marker": {
             "colorbar": {
              "outlinewidth": 0,
              "ticks": ""
             }
            },
            "type": "scattergl"
           }
          ],
          "scattermapbox": [
           {
            "marker": {
             "colorbar": {
              "outlinewidth": 0,
              "ticks": ""
             }
            },
            "type": "scattermapbox"
           }
          ],
          "scatterpolar": [
           {
            "marker": {
             "colorbar": {
              "outlinewidth": 0,
              "ticks": ""
             }
            },
            "type": "scatterpolar"
           }
          ],
          "scatterpolargl": [
           {
            "marker": {
             "colorbar": {
              "outlinewidth": 0,
              "ticks": ""
             }
            },
            "type": "scatterpolargl"
           }
          ],
          "scatterternary": [
           {
            "marker": {
             "colorbar": {
              "outlinewidth": 0,
              "ticks": ""
             }
            },
            "type": "scatterternary"
           }
          ],
          "surface": [
           {
            "colorbar": {
             "outlinewidth": 0,
             "ticks": ""
            },
            "colorscale": [
             [
              0,
              "#0d0887"
             ],
             [
              0.1111111111111111,
              "#46039f"
             ],
             [
              0.2222222222222222,
              "#7201a8"
             ],
             [
              0.3333333333333333,
              "#9c179e"
             ],
             [
              0.4444444444444444,
              "#bd3786"
             ],
             [
              0.5555555555555556,
              "#d8576b"
             ],
             [
              0.6666666666666666,
              "#ed7953"
             ],
             [
              0.7777777777777778,
              "#fb9f3a"
             ],
             [
              0.8888888888888888,
              "#fdca26"
             ],
             [
              1,
              "#f0f921"
             ]
            ],
            "type": "surface"
           }
          ],
          "table": [
           {
            "cells": {
             "fill": {
              "color": "#EBF0F8"
             },
             "line": {
              "color": "white"
             }
            },
            "header": {
             "fill": {
              "color": "#C8D4E3"
             },
             "line": {
              "color": "white"
             }
            },
            "type": "table"
           }
          ]
         },
         "layout": {
          "annotationdefaults": {
           "arrowcolor": "#2a3f5f",
           "arrowhead": 0,
           "arrowwidth": 1
          },
          "autotypenumbers": "strict",
          "coloraxis": {
           "colorbar": {
            "outlinewidth": 0,
            "ticks": ""
           }
          },
          "colorscale": {
           "diverging": [
            [
             0,
             "#8e0152"
            ],
            [
             0.1,
             "#c51b7d"
            ],
            [
             0.2,
             "#de77ae"
            ],
            [
             0.3,
             "#f1b6da"
            ],
            [
             0.4,
             "#fde0ef"
            ],
            [
             0.5,
             "#f7f7f7"
            ],
            [
             0.6,
             "#e6f5d0"
            ],
            [
             0.7,
             "#b8e186"
            ],
            [
             0.8,
             "#7fbc41"
            ],
            [
             0.9,
             "#4d9221"
            ],
            [
             1,
             "#276419"
            ]
           ],
           "sequential": [
            [
             0,
             "#0d0887"
            ],
            [
             0.1111111111111111,
             "#46039f"
            ],
            [
             0.2222222222222222,
             "#7201a8"
            ],
            [
             0.3333333333333333,
             "#9c179e"
            ],
            [
             0.4444444444444444,
             "#bd3786"
            ],
            [
             0.5555555555555556,
             "#d8576b"
            ],
            [
             0.6666666666666666,
             "#ed7953"
            ],
            [
             0.7777777777777778,
             "#fb9f3a"
            ],
            [
             0.8888888888888888,
             "#fdca26"
            ],
            [
             1,
             "#f0f921"
            ]
           ],
           "sequentialminus": [
            [
             0,
             "#0d0887"
            ],
            [
             0.1111111111111111,
             "#46039f"
            ],
            [
             0.2222222222222222,
             "#7201a8"
            ],
            [
             0.3333333333333333,
             "#9c179e"
            ],
            [
             0.4444444444444444,
             "#bd3786"
            ],
            [
             0.5555555555555556,
             "#d8576b"
            ],
            [
             0.6666666666666666,
             "#ed7953"
            ],
            [
             0.7777777777777778,
             "#fb9f3a"
            ],
            [
             0.8888888888888888,
             "#fdca26"
            ],
            [
             1,
             "#f0f921"
            ]
           ]
          },
          "colorway": [
           "#636efa",
           "#EF553B",
           "#00cc96",
           "#ab63fa",
           "#FFA15A",
           "#19d3f3",
           "#FF6692",
           "#B6E880",
           "#FF97FF",
           "#FECB52"
          ],
          "font": {
           "color": "#2a3f5f"
          },
          "geo": {
           "bgcolor": "white",
           "lakecolor": "white",
           "landcolor": "#E5ECF6",
           "showlakes": true,
           "showland": true,
           "subunitcolor": "white"
          },
          "hoverlabel": {
           "align": "left"
          },
          "hovermode": "closest",
          "mapbox": {
           "style": "light"
          },
          "paper_bgcolor": "white",
          "plot_bgcolor": "#E5ECF6",
          "polar": {
           "angularaxis": {
            "gridcolor": "white",
            "linecolor": "white",
            "ticks": ""
           },
           "bgcolor": "#E5ECF6",
           "radialaxis": {
            "gridcolor": "white",
            "linecolor": "white",
            "ticks": ""
           }
          },
          "scene": {
           "xaxis": {
            "backgroundcolor": "#E5ECF6",
            "gridcolor": "white",
            "gridwidth": 2,
            "linecolor": "white",
            "showbackground": true,
            "ticks": "",
            "zerolinecolor": "white"
           },
           "yaxis": {
            "backgroundcolor": "#E5ECF6",
            "gridcolor": "white",
            "gridwidth": 2,
            "linecolor": "white",
            "showbackground": true,
            "ticks": "",
            "zerolinecolor": "white"
           },
           "zaxis": {
            "backgroundcolor": "#E5ECF6",
            "gridcolor": "white",
            "gridwidth": 2,
            "linecolor": "white",
            "showbackground": true,
            "ticks": "",
            "zerolinecolor": "white"
           }
          },
          "shapedefaults": {
           "line": {
            "color": "#2a3f5f"
           }
          },
          "ternary": {
           "aaxis": {
            "gridcolor": "white",
            "linecolor": "white",
            "ticks": ""
           },
           "baxis": {
            "gridcolor": "white",
            "linecolor": "white",
            "ticks": ""
           },
           "bgcolor": "#E5ECF6",
           "caxis": {
            "gridcolor": "white",
            "linecolor": "white",
            "ticks": ""
           }
          },
          "title": {
           "x": 0.05
          },
          "xaxis": {
           "automargin": true,
           "gridcolor": "white",
           "linecolor": "white",
           "ticks": "",
           "title": {
            "standoff": 15
           },
           "zerolinecolor": "white",
           "zerolinewidth": 2
          },
          "yaxis": {
           "automargin": true,
           "gridcolor": "white",
           "linecolor": "white",
           "ticks": "",
           "title": {
            "standoff": 15
           },
           "zerolinecolor": "white",
           "zerolinewidth": 2
          }
         }
        },
        "width": 900,
        "xaxis": {
         "anchor": "y",
         "domain": [
          0,
          1
         ],
         "dtick": 1,
         "minor": {
          "showgrid": false,
          "ticklen": 6,
          "ticks": "inside"
         },
         "showgrid": true,
         "title": {
          "text": "Program length (characters)"
         },
         "type": "log"
        },
        "yaxis": {
         "anchor": "x",
         "domain": [
          0,
          1
         ],
         "range": [
          0,
          1
         ],
         "tickformat": ",.0%",
         "title": {
          "text": "Success rate"
         }
        }
       }
      }
     },
     "metadata": {},
     "output_type": "display_data"
    }
   ],
   "source": [
    "num_char_fig = scatter_with_error_bands(num_char_bin_endpoints,\n",
    "                                        data_frame=num_char_df,\n",
    "                                        x=\"Program length (characters)\",\n",
    "                                        y=\"Success rate\",\n",
    "                                        error_y=\"Error\",\n",
    "                                        error_y_mode=\"band\",\n",
    "                                        color=\"Model\")\n",
    "num_char_fig.show()"
   ]
  },
  {
   "cell_type": "code",
   "execution_count": 17,
   "metadata": {},
   "outputs": [
    {
     "data": {
      "application/vnd.plotly.v1+json": {
       "config": {
        "plotlyServerURL": "https://plot.ly"
       },
       "data": [
        {
         "fill": "toself",
         "fillcolor": "rgba(99,110,250,.3)",
         "hoverinfo": "skip",
         "legendgroup": "GPT-4o",
         "line": {
          "color": "rgba(255,255,255,0)"
         },
         "showlegend": false,
         "type": "scatter",
         "x": [
          0,
          19.10000000000001,
          55.60000000000001,
          85.20000000000002,
          114.70000000000002,
          156.80000000000004,
          207.15000000000006,
          279.6500000000001,
          440.20000000000005,
          3286.4,
          3286.4,
          440.20000000000005,
          279.6500000000001,
          207.15000000000006,
          156.80000000000004,
          114.70000000000002,
          85.20000000000002,
          55.60000000000001,
          19.10000000000001,
          0
         ],
         "xaxis": "x",
         "y": [
          1,
          0.9222337749843232,
          0.8316386832846142,
          0.8148862861054825,
          0.8050130130598944,
          0.8050130130598944,
          0.6829262680171984,
          0.43970114415687944,
          0.319454060656849,
          0.1639919511717751,
          0.08917260579025024,
          0.2190074778046894,
          0.32952962507388983,
          0.573483988393058,
          0.7078074997606184,
          0.7078074997606184,
          0.721699079748176,
          0.7359288842829533,
          0.8739445689647214,
          1
         ],
         "yaxis": "y"
        },
        {
         "hovertemplate": "Model=GPT-4o<br>Hint quantity (characters)=%{x}<br>Success rate=%{y}<extra></extra>",
         "legendgroup": "GPT-4o",
         "line": {
          "color": "#636efa",
          "dash": "solid"
         },
         "marker": {
          "symbol": "circle"
         },
         "mode": "lines",
         "name": "GPT-4o",
         "orientation": "v",
         "showlegend": true,
         "type": "scatter",
         "x": [
          0,
          19.10000000000001,
          55.60000000000001,
          85.20000000000002,
          114.70000000000002,
          156.80000000000004,
          207.15000000000006,
          279.6500000000001,
          440.20000000000005,
          3286.4
         ],
         "xaxis": "x",
         "y": [
          1,
          0.8980891719745223,
          0.7837837837837838,
          0.7682926829268293,
          0.7564102564102564,
          0.7564102564102564,
          0.6282051282051282,
          0.38461538461538464,
          0.2692307692307692,
          0.12658227848101267
         ],
         "yaxis": "y"
        },
        {
         "fill": "toself",
         "fillcolor": "rgba(239,85,59,.3)",
         "hoverinfo": "skip",
         "legendgroup": "GPT-4-turbo",
         "line": {
          "color": "rgba(255,255,255,0)"
         },
         "showlegend": false,
         "type": "scatter",
         "x": [
          0,
          19.10000000000001,
          55.60000000000001,
          85.20000000000002,
          114.70000000000002,
          156.80000000000004,
          207.15000000000006,
          279.6500000000001,
          440.20000000000005,
          3286.4,
          3286.4,
          440.20000000000005,
          279.6500000000001,
          207.15000000000006,
          156.80000000000004,
          114.70000000000002,
          85.20000000000002,
          55.60000000000001,
          19.10000000000001,
          0
         ],
         "xaxis": "x",
         "y": [
          1,
          0.916519021101315,
          0.916373719980423,
          0.7575627660054222,
          0.7567583517905019,
          0.7689009776988759,
          0.5949076450542571,
          0.3867093846016957,
          0.41328965036771304,
          0.1639919511717751,
          0.08917260579025024,
          0.3046590675810049,
          0.27995728206497095,
          0.4820154318688198,
          0.66699645819856,
          0.6534980584659085,
          0.6570713803360412,
          0.8403830367763337,
          0.8669204693445449,
          1
         ],
         "yaxis": "y"
        },
        {
         "hovertemplate": "Model=GPT-4-turbo<br>Hint quantity (characters)=%{x}<br>Success rate=%{y}<extra></extra>",
         "legendgroup": "GPT-4-turbo",
         "line": {
          "color": "#EF553B",
          "dash": "solid"
         },
         "marker": {
          "symbol": "circle"
         },
         "mode": "lines",
         "name": "GPT-4-turbo",
         "orientation": "v",
         "showlegend": true,
         "type": "scatter",
         "x": [
          0,
          19.10000000000001,
          55.60000000000001,
          85.20000000000002,
          114.70000000000002,
          156.80000000000004,
          207.15000000000006,
          279.6500000000001,
          440.20000000000005,
          3286.4
         ],
         "xaxis": "x",
         "y": [
          1,
          0.89171974522293,
          0.8783783783783784,
          0.7073170731707317,
          0.7051282051282052,
          0.717948717948718,
          0.5384615384615384,
          0.3333333333333333,
          0.358974358974359,
          0.12658227848101267
         ],
         "yaxis": "y"
        },
        {
         "fill": "toself",
         "fillcolor": "rgba(0,204,150,.3)",
         "hoverinfo": "skip",
         "legendgroup": "GPT-3.5-turbo",
         "line": {
          "color": "rgba(255,255,255,0)"
         },
         "showlegend": false,
         "type": "scatter",
         "x": [
          0,
          19.10000000000001,
          55.60000000000001,
          85.20000000000002,
          114.70000000000002,
          156.80000000000004,
          207.15000000000006,
          279.6500000000001,
          440.20000000000005,
          3286.4,
          3286.4,
          440.20000000000005,
          279.6500000000001,
          207.15000000000006,
          156.80000000000004,
          114.70000000000002,
          85.20000000000002,
          55.60000000000001,
          19.10000000000001,
          0
         ],
         "xaxis": "x",
         "y": [
          1,
          0.8343177287133235,
          0.585065870009385,
          0.5307597860604455,
          0.5566138517072298,
          0.4659508707022942,
          0.426516011606942,
          0.22293941260186273,
          0.1946988465033688,
          0.0906854403512047,
          0.03589683812980797,
          0.11299346118893891,
          0.13603494637249625,
          0.3170737319828016,
          0.3545619498105263,
          0.44338614829277023,
          0.42045972613467636,
          0.4689881840446689,
          0.7707778126879504,
          1
         ],
         "yaxis": "y"
        },
        {
         "hovertemplate": "Model=GPT-3.5-turbo<br>Hint quantity (characters)=%{x}<br>Success rate=%{y}<extra></extra>",
         "legendgroup": "GPT-3.5-turbo",
         "line": {
          "color": "#00cc96",
          "dash": "solid"
         },
         "marker": {
          "symbol": "circle"
         },
         "mode": "lines",
         "name": "GPT-3.5-turbo",
         "orientation": "v",
         "showlegend": true,
         "type": "scatter",
         "x": [
          0,
          19.10000000000001,
          55.60000000000001,
          85.20000000000002,
          114.70000000000002,
          156.80000000000004,
          207.15000000000006,
          279.6500000000001,
          440.20000000000005,
          3286.4
         ],
         "xaxis": "x",
         "y": [
          1,
          0.802547770700637,
          0.527027027027027,
          0.47560975609756095,
          0.5,
          0.41025641025641024,
          0.3717948717948718,
          0.1794871794871795,
          0.15384615384615385,
          0.06329113924050633
         ],
         "yaxis": "y"
        },
        {
         "fill": "toself",
         "fillcolor": "rgba(171,99,250,.3)",
         "hoverinfo": "skip",
         "legendgroup": "Claude-3-Opus",
         "line": {
          "color": "rgba(255,255,255,0)"
         },
         "showlegend": false,
         "type": "scatter",
         "x": [
          0,
          19.10000000000001,
          55.60000000000001,
          85.20000000000002,
          114.70000000000002,
          156.80000000000004,
          207.15000000000006,
          279.6500000000001,
          440.20000000000005,
          3286.4,
          3286.4,
          440.20000000000005,
          279.6500000000001,
          207.15000000000006,
          156.80000000000004,
          114.70000000000002,
          85.20000000000002,
          55.60000000000001,
          19.10000000000001,
          0
         ],
         "xaxis": "x",
         "y": [
          1,
          0.9335728482920107,
          0.9279887482851887,
          0.8486414614104688,
          0.8639650536275038,
          0.8755308069618195,
          0.7567583517905019,
          0.5694157507341415,
          0.41328965036771304,
          0.14967023062184562,
          0.07817787064397716,
          0.3046590675810049,
          0.456225274906884,
          0.6534980584659085,
          0.7911358597048472,
          0.7770605873981372,
          0.7611146361505069,
          0.855795035498595,
          0.8880832026634033,
          1
         ],
         "yaxis": "y"
        },
        {
         "hovertemplate": "Model=Claude-3-Opus<br>Hint quantity (characters)=%{x}<br>Success rate=%{y}<extra></extra>",
         "legendgroup": "Claude-3-Opus",
         "line": {
          "color": "#ab63fa",
          "dash": "solid"
         },
         "marker": {
          "symbol": "circle"
         },
         "mode": "lines",
         "name": "Claude-3-Opus",
         "orientation": "v",
         "showlegend": true,
         "type": "scatter",
         "x": [
          0,
          19.10000000000001,
          55.60000000000001,
          85.20000000000002,
          114.70000000000002,
          156.80000000000004,
          207.15000000000006,
          279.6500000000001,
          440.20000000000005,
          3286.4
         ],
         "xaxis": "x",
         "y": [
          1,
          0.910828025477707,
          0.8918918918918919,
          0.8048780487804879,
          0.8205128205128205,
          0.8333333333333334,
          0.7051282051282052,
          0.5128205128205128,
          0.358974358974359,
          0.11392405063291139
         ],
         "yaxis": "y"
        },
        {
         "fill": "toself",
         "fillcolor": "rgba(255,161,90,.3)",
         "hoverinfo": "skip",
         "legendgroup": "CodeLlama-7b",
         "line": {
          "color": "rgba(255,255,255,0)"
         },
         "showlegend": false,
         "type": "scatter",
         "x": [
          0,
          19.10000000000001,
          55.60000000000001,
          85.20000000000002,
          114.70000000000002,
          156.80000000000004,
          207.15000000000006,
          279.6500000000001,
          440.20000000000005,
          3286.4,
          3286.4,
          440.20000000000005,
          279.6500000000001,
          207.15000000000006,
          156.80000000000004,
          114.70000000000002,
          85.20000000000002,
          55.60000000000001,
          19.10000000000001,
          0
         ],
         "xaxis": "x",
         "y": [
          1,
          0.7063516475613489,
          0.3075388461478579,
          0.22562037770450138,
          0.22293941260186273,
          0.2921925002393816,
          0.22293941260186273,
          0.1515592285817677,
          0.16605919571462135,
          0.0906854403512047,
          0.03589683812980797,
          0.09035106069563502,
          0.07921000218746307,
          0.13603494637249625,
          0.1949869869401056,
          0.13603494637249625,
          0.14023328083208397,
          0.2059746673656556,
          0.6312279702730459,
          1
         ],
         "yaxis": "y"
        },
        {
         "hovertemplate": "Model=CodeLlama-7b<br>Hint quantity (characters)=%{x}<br>Success rate=%{y}<extra></extra>",
         "legendgroup": "CodeLlama-7b",
         "line": {
          "color": "#FFA15A",
          "dash": "solid"
         },
         "marker": {
          "symbol": "circle"
         },
         "mode": "lines",
         "name": "CodeLlama-7b",
         "orientation": "v",
         "showlegend": true,
         "type": "scatter",
         "x": [
          0,
          19.10000000000001,
          55.60000000000001,
          85.20000000000002,
          114.70000000000002,
          156.80000000000004,
          207.15000000000006,
          279.6500000000001,
          440.20000000000005,
          3286.4
         ],
         "xaxis": "x",
         "y": [
          1,
          0.6687898089171974,
          0.25675675675675674,
          0.18292682926829268,
          0.1794871794871795,
          0.24358974358974358,
          0.1794871794871795,
          0.11538461538461539,
          0.1282051282051282,
          0.06329113924050633
         ],
         "yaxis": "y"
        }
       ],
       "layout": {
        "font": {
         "size": 20
        },
        "height": 600,
        "legend": {
         "title": {},
         "tracegroupgap": 0
        },
        "margin": {
         "t": 60
        },
        "shapes": [
         {
          "line": {
           "color": "blue",
           "dash": "dash",
           "width": 1
          },
          "type": "line",
          "x0": 97.40000000000003,
          "x1": 97.40000000000003,
          "xref": "x",
          "y0": 0,
          "y1": 1,
          "yref": "y domain"
         },
         {
          "line": {
           "color": "blue",
           "dash": "dash",
           "width": 1
          },
          "type": "line",
          "x0": 132,
          "x1": 132,
          "xref": "x",
          "y0": 0,
          "y1": 1,
          "yref": "y domain"
         },
         {
          "line": {
           "color": "blue",
           "dash": "dash",
           "width": 1
          },
          "type": "line",
          "x0": 38.20000000000002,
          "x1": 38.20000000000002,
          "xref": "x",
          "y0": 0,
          "y1": 1,
          "yref": "y domain"
         },
         {
          "line": {
           "color": "blue",
           "dash": "dash",
           "width": 1
          },
          "type": "line",
          "x0": 326.60000000000014,
          "x1": 326.60000000000014,
          "xref": "x",
          "y0": 0,
          "y1": 1,
          "yref": "y domain"
         },
         {
          "line": {
           "color": "blue",
           "dash": "dash",
           "width": 1
          },
          "type": "line",
          "x0": 232.70000000000005,
          "x1": 232.70000000000005,
          "xref": "x",
          "y0": 0,
          "y1": 1,
          "yref": "y domain"
         },
         {
          "line": {
           "color": "blue",
           "dash": "dash",
           "width": 1
          },
          "type": "line",
          "x0": 73,
          "x1": 73,
          "xref": "x",
          "y0": 0,
          "y1": 1,
          "yref": "y domain"
         },
         {
          "line": {
           "color": "blue",
           "dash": "dash",
           "width": 1
          },
          "type": "line",
          "x0": 553.8,
          "x1": 553.8,
          "xref": "x",
          "y0": 0,
          "y1": 1,
          "yref": "y domain"
         },
         {
          "line": {
           "color": "blue",
           "dash": "dash",
           "width": 1
          },
          "type": "line",
          "x0": 181.60000000000008,
          "x1": 181.60000000000008,
          "xref": "x",
          "y0": 0,
          "y1": 1,
          "yref": "y domain"
         }
        ],
        "template": {
         "data": {
          "bar": [
           {
            "error_x": {
             "color": "#2a3f5f"
            },
            "error_y": {
             "color": "#2a3f5f"
            },
            "marker": {
             "line": {
              "color": "#E5ECF6",
              "width": 0.5
             },
             "pattern": {
              "fillmode": "overlay",
              "size": 10,
              "solidity": 0.2
             }
            },
            "type": "bar"
           }
          ],
          "barpolar": [
           {
            "marker": {
             "line": {
              "color": "#E5ECF6",
              "width": 0.5
             },
             "pattern": {
              "fillmode": "overlay",
              "size": 10,
              "solidity": 0.2
             }
            },
            "type": "barpolar"
           }
          ],
          "carpet": [
           {
            "aaxis": {
             "endlinecolor": "#2a3f5f",
             "gridcolor": "white",
             "linecolor": "white",
             "minorgridcolor": "white",
             "startlinecolor": "#2a3f5f"
            },
            "baxis": {
             "endlinecolor": "#2a3f5f",
             "gridcolor": "white",
             "linecolor": "white",
             "minorgridcolor": "white",
             "startlinecolor": "#2a3f5f"
            },
            "type": "carpet"
           }
          ],
          "choropleth": [
           {
            "colorbar": {
             "outlinewidth": 0,
             "ticks": ""
            },
            "type": "choropleth"
           }
          ],
          "contour": [
           {
            "colorbar": {
             "outlinewidth": 0,
             "ticks": ""
            },
            "colorscale": [
             [
              0,
              "#0d0887"
             ],
             [
              0.1111111111111111,
              "#46039f"
             ],
             [
              0.2222222222222222,
              "#7201a8"
             ],
             [
              0.3333333333333333,
              "#9c179e"
             ],
             [
              0.4444444444444444,
              "#bd3786"
             ],
             [
              0.5555555555555556,
              "#d8576b"
             ],
             [
              0.6666666666666666,
              "#ed7953"
             ],
             [
              0.7777777777777778,
              "#fb9f3a"
             ],
             [
              0.8888888888888888,
              "#fdca26"
             ],
             [
              1,
              "#f0f921"
             ]
            ],
            "type": "contour"
           }
          ],
          "contourcarpet": [
           {
            "colorbar": {
             "outlinewidth": 0,
             "ticks": ""
            },
            "type": "contourcarpet"
           }
          ],
          "heatmap": [
           {
            "colorbar": {
             "outlinewidth": 0,
             "ticks": ""
            },
            "colorscale": [
             [
              0,
              "#0d0887"
             ],
             [
              0.1111111111111111,
              "#46039f"
             ],
             [
              0.2222222222222222,
              "#7201a8"
             ],
             [
              0.3333333333333333,
              "#9c179e"
             ],
             [
              0.4444444444444444,
              "#bd3786"
             ],
             [
              0.5555555555555556,
              "#d8576b"
             ],
             [
              0.6666666666666666,
              "#ed7953"
             ],
             [
              0.7777777777777778,
              "#fb9f3a"
             ],
             [
              0.8888888888888888,
              "#fdca26"
             ],
             [
              1,
              "#f0f921"
             ]
            ],
            "type": "heatmap"
           }
          ],
          "heatmapgl": [
           {
            "colorbar": {
             "outlinewidth": 0,
             "ticks": ""
            },
            "colorscale": [
             [
              0,
              "#0d0887"
             ],
             [
              0.1111111111111111,
              "#46039f"
             ],
             [
              0.2222222222222222,
              "#7201a8"
             ],
             [
              0.3333333333333333,
              "#9c179e"
             ],
             [
              0.4444444444444444,
              "#bd3786"
             ],
             [
              0.5555555555555556,
              "#d8576b"
             ],
             [
              0.6666666666666666,
              "#ed7953"
             ],
             [
              0.7777777777777778,
              "#fb9f3a"
             ],
             [
              0.8888888888888888,
              "#fdca26"
             ],
             [
              1,
              "#f0f921"
             ]
            ],
            "type": "heatmapgl"
           }
          ],
          "histogram": [
           {
            "marker": {
             "pattern": {
              "fillmode": "overlay",
              "size": 10,
              "solidity": 0.2
             }
            },
            "type": "histogram"
           }
          ],
          "histogram2d": [
           {
            "colorbar": {
             "outlinewidth": 0,
             "ticks": ""
            },
            "colorscale": [
             [
              0,
              "#0d0887"
             ],
             [
              0.1111111111111111,
              "#46039f"
             ],
             [
              0.2222222222222222,
              "#7201a8"
             ],
             [
              0.3333333333333333,
              "#9c179e"
             ],
             [
              0.4444444444444444,
              "#bd3786"
             ],
             [
              0.5555555555555556,
              "#d8576b"
             ],
             [
              0.6666666666666666,
              "#ed7953"
             ],
             [
              0.7777777777777778,
              "#fb9f3a"
             ],
             [
              0.8888888888888888,
              "#fdca26"
             ],
             [
              1,
              "#f0f921"
             ]
            ],
            "type": "histogram2d"
           }
          ],
          "histogram2dcontour": [
           {
            "colorbar": {
             "outlinewidth": 0,
             "ticks": ""
            },
            "colorscale": [
             [
              0,
              "#0d0887"
             ],
             [
              0.1111111111111111,
              "#46039f"
             ],
             [
              0.2222222222222222,
              "#7201a8"
             ],
             [
              0.3333333333333333,
              "#9c179e"
             ],
             [
              0.4444444444444444,
              "#bd3786"
             ],
             [
              0.5555555555555556,
              "#d8576b"
             ],
             [
              0.6666666666666666,
              "#ed7953"
             ],
             [
              0.7777777777777778,
              "#fb9f3a"
             ],
             [
              0.8888888888888888,
              "#fdca26"
             ],
             [
              1,
              "#f0f921"
             ]
            ],
            "type": "histogram2dcontour"
           }
          ],
          "mesh3d": [
           {
            "colorbar": {
             "outlinewidth": 0,
             "ticks": ""
            },
            "type": "mesh3d"
           }
          ],
          "parcoords": [
           {
            "line": {
             "colorbar": {
              "outlinewidth": 0,
              "ticks": ""
             }
            },
            "type": "parcoords"
           }
          ],
          "pie": [
           {
            "automargin": true,
            "type": "pie"
           }
          ],
          "scatter": [
           {
            "fillpattern": {
             "fillmode": "overlay",
             "size": 10,
             "solidity": 0.2
            },
            "type": "scatter"
           }
          ],
          "scatter3d": [
           {
            "line": {
             "colorbar": {
              "outlinewidth": 0,
              "ticks": ""
             }
            },
            "marker": {
             "colorbar": {
              "outlinewidth": 0,
              "ticks": ""
             }
            },
            "type": "scatter3d"
           }
          ],
          "scattercarpet": [
           {
            "marker": {
             "colorbar": {
              "outlinewidth": 0,
              "ticks": ""
             }
            },
            "type": "scattercarpet"
           }
          ],
          "scattergeo": [
           {
            "marker": {
             "colorbar": {
              "outlinewidth": 0,
              "ticks": ""
             }
            },
            "type": "scattergeo"
           }
          ],
          "scattergl": [
           {
            "marker": {
             "colorbar": {
              "outlinewidth": 0,
              "ticks": ""
             }
            },
            "type": "scattergl"
           }
          ],
          "scattermapbox": [
           {
            "marker": {
             "colorbar": {
              "outlinewidth": 0,
              "ticks": ""
             }
            },
            "type": "scattermapbox"
           }
          ],
          "scatterpolar": [
           {
            "marker": {
             "colorbar": {
              "outlinewidth": 0,
              "ticks": ""
             }
            },
            "type": "scatterpolar"
           }
          ],
          "scatterpolargl": [
           {
            "marker": {
             "colorbar": {
              "outlinewidth": 0,
              "ticks": ""
             }
            },
            "type": "scatterpolargl"
           }
          ],
          "scatterternary": [
           {
            "marker": {
             "colorbar": {
              "outlinewidth": 0,
              "ticks": ""
             }
            },
            "type": "scatterternary"
           }
          ],
          "surface": [
           {
            "colorbar": {
             "outlinewidth": 0,
             "ticks": ""
            },
            "colorscale": [
             [
              0,
              "#0d0887"
             ],
             [
              0.1111111111111111,
              "#46039f"
             ],
             [
              0.2222222222222222,
              "#7201a8"
             ],
             [
              0.3333333333333333,
              "#9c179e"
             ],
             [
              0.4444444444444444,
              "#bd3786"
             ],
             [
              0.5555555555555556,
              "#d8576b"
             ],
             [
              0.6666666666666666,
              "#ed7953"
             ],
             [
              0.7777777777777778,
              "#fb9f3a"
             ],
             [
              0.8888888888888888,
              "#fdca26"
             ],
             [
              1,
              "#f0f921"
             ]
            ],
            "type": "surface"
           }
          ],
          "table": [
           {
            "cells": {
             "fill": {
              "color": "#EBF0F8"
             },
             "line": {
              "color": "white"
             }
            },
            "header": {
             "fill": {
              "color": "#C8D4E3"
             },
             "line": {
              "color": "white"
             }
            },
            "type": "table"
           }
          ]
         },
         "layout": {
          "annotationdefaults": {
           "arrowcolor": "#2a3f5f",
           "arrowhead": 0,
           "arrowwidth": 1
          },
          "autotypenumbers": "strict",
          "coloraxis": {
           "colorbar": {
            "outlinewidth": 0,
            "ticks": ""
           }
          },
          "colorscale": {
           "diverging": [
            [
             0,
             "#8e0152"
            ],
            [
             0.1,
             "#c51b7d"
            ],
            [
             0.2,
             "#de77ae"
            ],
            [
             0.3,
             "#f1b6da"
            ],
            [
             0.4,
             "#fde0ef"
            ],
            [
             0.5,
             "#f7f7f7"
            ],
            [
             0.6,
             "#e6f5d0"
            ],
            [
             0.7,
             "#b8e186"
            ],
            [
             0.8,
             "#7fbc41"
            ],
            [
             0.9,
             "#4d9221"
            ],
            [
             1,
             "#276419"
            ]
           ],
           "sequential": [
            [
             0,
             "#0d0887"
            ],
            [
             0.1111111111111111,
             "#46039f"
            ],
            [
             0.2222222222222222,
             "#7201a8"
            ],
            [
             0.3333333333333333,
             "#9c179e"
            ],
            [
             0.4444444444444444,
             "#bd3786"
            ],
            [
             0.5555555555555556,
             "#d8576b"
            ],
            [
             0.6666666666666666,
             "#ed7953"
            ],
            [
             0.7777777777777778,
             "#fb9f3a"
            ],
            [
             0.8888888888888888,
             "#fdca26"
            ],
            [
             1,
             "#f0f921"
            ]
           ],
           "sequentialminus": [
            [
             0,
             "#0d0887"
            ],
            [
             0.1111111111111111,
             "#46039f"
            ],
            [
             0.2222222222222222,
             "#7201a8"
            ],
            [
             0.3333333333333333,
             "#9c179e"
            ],
            [
             0.4444444444444444,
             "#bd3786"
            ],
            [
             0.5555555555555556,
             "#d8576b"
            ],
            [
             0.6666666666666666,
             "#ed7953"
            ],
            [
             0.7777777777777778,
             "#fb9f3a"
            ],
            [
             0.8888888888888888,
             "#fdca26"
            ],
            [
             1,
             "#f0f921"
            ]
           ]
          },
          "colorway": [
           "#636efa",
           "#EF553B",
           "#00cc96",
           "#ab63fa",
           "#FFA15A",
           "#19d3f3",
           "#FF6692",
           "#B6E880",
           "#FF97FF",
           "#FECB52"
          ],
          "font": {
           "color": "#2a3f5f"
          },
          "geo": {
           "bgcolor": "white",
           "lakecolor": "white",
           "landcolor": "#E5ECF6",
           "showlakes": true,
           "showland": true,
           "subunitcolor": "white"
          },
          "hoverlabel": {
           "align": "left"
          },
          "hovermode": "closest",
          "mapbox": {
           "style": "light"
          },
          "paper_bgcolor": "white",
          "plot_bgcolor": "#E5ECF6",
          "polar": {
           "angularaxis": {
            "gridcolor": "white",
            "linecolor": "white",
            "ticks": ""
           },
           "bgcolor": "#E5ECF6",
           "radialaxis": {
            "gridcolor": "white",
            "linecolor": "white",
            "ticks": ""
           }
          },
          "scene": {
           "xaxis": {
            "backgroundcolor": "#E5ECF6",
            "gridcolor": "white",
            "gridwidth": 2,
            "linecolor": "white",
            "showbackground": true,
            "ticks": "",
            "zerolinecolor": "white"
           },
           "yaxis": {
            "backgroundcolor": "#E5ECF6",
            "gridcolor": "white",
            "gridwidth": 2,
            "linecolor": "white",
            "showbackground": true,
            "ticks": "",
            "zerolinecolor": "white"
           },
           "zaxis": {
            "backgroundcolor": "#E5ECF6",
            "gridcolor": "white",
            "gridwidth": 2,
            "linecolor": "white",
            "showbackground": true,
            "ticks": "",
            "zerolinecolor": "white"
           }
          },
          "shapedefaults": {
           "line": {
            "color": "#2a3f5f"
           }
          },
          "ternary": {
           "aaxis": {
            "gridcolor": "white",
            "linecolor": "white",
            "ticks": ""
           },
           "baxis": {
            "gridcolor": "white",
            "linecolor": "white",
            "ticks": ""
           },
           "bgcolor": "#E5ECF6",
           "caxis": {
            "gridcolor": "white",
            "linecolor": "white",
            "ticks": ""
           }
          },
          "title": {
           "x": 0.05
          },
          "xaxis": {
           "automargin": true,
           "gridcolor": "white",
           "linecolor": "white",
           "ticks": "",
           "title": {
            "standoff": 15
           },
           "zerolinecolor": "white",
           "zerolinewidth": 2
          },
          "yaxis": {
           "automargin": true,
           "gridcolor": "white",
           "linecolor": "white",
           "ticks": "",
           "title": {
            "standoff": 15
           },
           "zerolinecolor": "white",
           "zerolinewidth": 2
          }
         }
        },
        "width": 900,
        "xaxis": {
         "anchor": "y",
         "domain": [
          0,
          1
         ],
         "dtick": 1,
         "minor": {
          "showgrid": false,
          "ticklen": 6,
          "ticks": "inside"
         },
         "showgrid": true,
         "title": {
          "text": "Hint quantity (characters)"
         },
         "type": "log"
        },
        "yaxis": {
         "anchor": "x",
         "domain": [
          0,
          1
         ],
         "range": [
          0,
          1
         ],
         "tickformat": ",.0%",
         "title": {
          "text": "Success rate"
         }
        }
       }
      }
     },
     "metadata": {},
     "output_type": "display_data"
    }
   ],
   "source": [
    "num_hint_char_fig = scatter_with_error_bands(num_hint_char_bin_endpoints,\n",
    "                                             data_frame=num_hint_char_df,\n",
    "                                             x=\"Hint quantity (characters)\",\n",
    "                                             y=\"Success rate\",\n",
    "                                             error_y=\"Error\",\n",
    "                                             error_y_mode=\"band\",\n",
    "                                             color=\"Model\")\n",
    "num_hint_char_fig.show()"
   ]
  }
 ],
 "metadata": {
  "kernelspec": {
   "display_name": "stats",
   "language": "python",
   "name": "python3"
  },
  "language_info": {
   "codemirror_mode": {
    "name": "ipython",
    "version": 3
   },
   "file_extension": ".py",
   "mimetype": "text/x-python",
   "name": "python",
   "nbconvert_exporter": "python",
   "pygments_lexer": "ipython3",
   "version": "3.10.9"
  }
 },
 "nbformat": 4,
 "nbformat_minor": 2
}
